{
 "cells": [
  {
   "cell_type": "code",
   "execution_count": 2,
   "id": "d83fb1c1-7515-4214-a836-685f909707e8",
   "metadata": {},
   "outputs": [],
   "source": [
    "import warnings\n",
    "warnings.filterwarnings('ignore')\n",
    "\n",
    "import numpy as np\n",
    "import pandas as pd\n",
    "from tqdm import tqdm"
   ]
  },
  {
   "cell_type": "code",
   "execution_count": 3,
   "id": "f0cddc75-a1f2-4fc9-bc83-31209ea170e2",
   "metadata": {},
   "outputs": [],
   "source": [
    "train = pd.read_csv(\"../data/raw_data/train.csv\")\n",
    "test = pd.read_csv(\"../data/raw_data/test.csv\")"
   ]
  },
  {
   "cell_type": "code",
   "execution_count": 4,
   "id": "25c6f3f8-0f2f-47a1-8d43-2352cf872796",
   "metadata": {},
   "outputs": [],
   "source": [
    "train = train.drop(columns = ['ID'])\n",
    "test = test.drop(columns = ['ID'])"
   ]
  },
  {
   "cell_type": "code",
   "execution_count": 5,
   "id": "be72305b-095f-45dd-a133-b29cab2452e4",
   "metadata": {},
   "outputs": [],
   "source": [
    "from sklearn.preprocessing import LabelEncoder\n",
    "\n",
    "le = LabelEncoder()\n",
    "train['SUBCLASS'] = le.fit_transform(train['SUBCLASS'])"
   ]
  },
  {
   "cell_type": "code",
   "execution_count": 6,
   "id": "0ad9b565-fcac-49e0-9b15-d8422d5aed64",
   "metadata": {},
   "outputs": [],
   "source": [
    "X = train[test.columns]\n",
    "y = train['SUBCLASS']"
   ]
  },
  {
   "cell_type": "code",
   "execution_count": 7,
   "id": "c0990e04-04b5-4bb8-84d6-9ad584482af7",
   "metadata": {},
   "outputs": [],
   "source": [
    "import re"
   ]
  },
  {
   "cell_type": "code",
   "execution_count": 8,
   "id": "627b45df-1f47-45f3-8657-0e3b90f2b1ec",
   "metadata": {},
   "outputs": [],
   "source": [
    "def extract_numbers(s):\n",
    "    # 입력값이 문자열이 아닐 경우 문자열로 변환\n",
    "\n",
    "    if not isinstance(s, str):\n",
    "        s = str(s)\n",
    "    match = re.match(r\"([A-Za-z]+)(\\d+)([A-Za-z]+)\", s)\n",
    "    if match:\n",
    "        original = match.group(1)  # 첫 번째 그룹: 원래 아미노산\n",
    "        position = match.group(2)  # 두 번째 그룹: 변이 위치\n",
    "        new = match.group(3)       # 세 번째 그룹: 새로운 아미노산\n",
    "\n",
    "        return [original, position, new]\n",
    "    else:\n",
    "        None"
   ]
  },
  {
   "cell_type": "code",
   "execution_count": 9,
   "id": "10d2a859-0549-4118-9398-8b77f2a8a0d5",
   "metadata": {},
   "outputs": [],
   "source": [
    "amino_acid_dict = {\n",
    "    'A': 1, 'C': 2, 'D': 3, 'E': 4, 'F': 5, 'G': 6, 'H': 7, 'I': 8, 'K': 9, 'L': 10, \n",
    "    'M': 11, 'N': 12, 'P': 13, 'Q': 14, 'R': 15, 'S': 16, 'T': 17, 'V': 18, 'W': 19, 'Y': 20, 'fs' : -1\n",
    "}\n",
    "\n",
    "def encode_sequence(sequence):\n",
    "    return [amino_acid_dict[aa] for aa in sequence]"
   ]
  },
  {
   "cell_type": "code",
   "execution_count": 139,
   "id": "1dd67800-6d9b-4306-a95a-44208ec5f641",
   "metadata": {},
   "outputs": [],
   "source": [
    "X = X.map(lambda x : 0 if x == 'WT' else x)"
   ]
  },
  {
   "cell_type": "code",
   "execution_count": 140,
   "id": "319a2bb8-f3d9-4531-8c93-d0a6b23b45c0",
   "metadata": {},
   "outputs": [
    {
     "name": "stderr",
     "output_type": "stream",
     "text": [
      "100%|██████████████████████████████████████████████████████████| 4384/4384 [1:38:13<00:00,  1.34s/it]\n"
     ]
    }
   ],
   "source": [
    "for i in tqdm(X.columns):\n",
    "    X[i + '_original'] = 0\n",
    "    X[i + '_position'] = 0\n",
    "    X[i + '_new'] = 0\n",
    "\n",
    "    A = X[i].apply(extract_numbers)\n",
    "    A = A.fillna(0)\n",
    "\n",
    "    for j in range(len(X)):\n",
    "        try:\n",
    "            X.loc[j, i + '_original'], X.loc[j, i + '_position'], X.loc[j, i + '_new'] = A.loc[j][0], A.loc[j][1], A.loc[j][2]\n",
    "        except:\n",
    "            pass\n",
    "\n",
    "    X[i + '_position'] = X[i + '_position'].astype('int')\n",
    "    X.drop(columns=i, axis=1, inplace=True)"
   ]
  },
  {
   "cell_type": "markdown",
   "id": "34101f6c-64e2-4484-bde8-5aeb8387120c",
   "metadata": {},
   "source": [
    "X.to_csv(\"../data/preprocessing/X_002.csv\", index=False, encoding='utf-8')"
   ]
  },
  {
   "cell_type": "code",
   "execution_count": 162,
   "id": "8eb3da9d-3f53-44b9-85b5-73a687981168",
   "metadata": {},
   "outputs": [],
   "source": [
    "amino_acid_array = np.array([amino_acid_dict[aa] for aa in amino_acid_dict])"
   ]
  },
  {
   "cell_type": "code",
   "execution_count": 163,
   "id": "7d44eb6b-a61f-4bfb-9a32-54400f9e6a7f",
   "metadata": {},
   "outputs": [],
   "source": [
    "# 빠른 벡터화된 매핑 적용 (문자만 변환, 정수는 그대로 유지)\n",
    "def encode_dataframe(df):\n",
    "    def encode_cell(cell):\n",
    "        # 문자열일 경우에만 amino_acid_dict 변환 적용\n",
    "        if isinstance(cell, str):\n",
    "            return amino_acid_dict.get(cell, cell)  # 해당하지 않는 경우 원래 값을 반환\n",
    "        return cell  # 정수는 그대로 반환\n",
    "    \n",
    "    # applymap으로 셀별로 함수 적용\n",
    "    return df.applymap(encode_cell)"
   ]
  },
  {
   "cell_type": "code",
   "execution_count": 164,
   "id": "156f5552-f5a8-46c4-a652-3d3f24f1a1be",
   "metadata": {},
   "outputs": [],
   "source": [
    "X = encode_dataframe(X)"
   ]
  },
  {
   "cell_type": "code",
   "execution_count": 165,
   "id": "fbb8292f-39a9-4672-a728-c1c8c901d8fe",
   "metadata": {},
   "outputs": [
    {
     "name": "stderr",
     "output_type": "stream",
     "text": [
      "100%|████████████████████████████████████████████████████████| 13152/13152 [00:02<00:00, 5229.61it/s]\n"
     ]
    }
   ],
   "source": [
    "a = []\n",
    "\n",
    "for i in tqdm(X.columns):\n",
    "    try:\n",
    "        X[i].astype('int')\n",
    "    except:\n",
    "        a.append(i)"
   ]
  },
  {
   "cell_type": "code",
   "execution_count": 166,
   "id": "3dcc27bd-1ef6-480d-a529-77e103d09b31",
   "metadata": {},
   "outputs": [
    {
     "data": {
      "text/plain": [
       "627"
      ]
     },
     "execution_count": 166,
     "metadata": {},
     "output_type": "execute_result"
    }
   ],
   "source": [
    "len(a)"
   ]
  },
  {
   "cell_type": "code",
   "execution_count": 218,
   "id": "b462e361-339e-4508-9a03-927a498359ee",
   "metadata": {},
   "outputs": [],
   "source": [
    "tmp = X[a]"
   ]
  },
  {
   "cell_type": "code",
   "execution_count": 224,
   "id": "cfe4af92-a2b4-45ed-a460-2932df70bda2",
   "metadata": {},
   "outputs": [
    {
     "name": "stderr",
     "output_type": "stream",
     "text": [
      "100%|██████████████████████████████████████████████████████████████| 627/627 [07:24<00:00,  1.41it/s]\n"
     ]
    }
   ],
   "source": [
    "for i in tqdm(tmp.columns):\n",
    "    for j in range(len(tmp)):\n",
    "        try:\n",
    "            tmp.loc[j, i] = int(tmp.loc[j, i])\n",
    "        except:\n",
    "            tmp.loc[j, i] = sum(encode_sequence(list(tmp.loc[j,i].upper())))\n",
    "            pass"
   ]
  },
  {
   "cell_type": "code",
   "execution_count": 229,
   "id": "11c13850-9f2f-417a-ac5b-db705aba6c23",
   "metadata": {},
   "outputs": [],
   "source": [
    "tmp = tmp.astype('int')"
   ]
  },
  {
   "cell_type": "code",
   "execution_count": 232,
   "id": "8b454038-13ad-4ffd-bcc9-4da24bcf6fb9",
   "metadata": {},
   "outputs": [],
   "source": [
    "X[a] = tmp"
   ]
  },
  {
   "cell_type": "code",
   "execution_count": 241,
   "id": "a46a2ad0-52fc-4d02-ab3a-698f8d92aced",
   "metadata": {},
   "outputs": [],
   "source": [
    "X = X.astype('int')"
   ]
  },
  {
   "cell_type": "markdown",
   "id": "67c7e32c-944d-4e49-b55f-8b3e0741092f",
   "metadata": {},
   "source": [
    "X.to_csv(\"../data/preprocessing/X_003.csv\", index=False, encoding='utf-8')"
   ]
  },
  {
   "cell_type": "code",
   "execution_count": 40,
   "id": "33273310-9141-4ac5-bc4c-7878ca5efe60",
   "metadata": {},
   "outputs": [],
   "source": [
    "X = pd.read_csv(\"../data/preprocessing/X_003.csv\")"
   ]
  },
  {
   "cell_type": "code",
   "execution_count": 41,
   "id": "262f8cf3-048a-4c9f-a0e9-87b849e5f260",
   "metadata": {},
   "outputs": [
    {
     "name": "stdout",
     "output_type": "stream",
     "text": [
      "<class 'pandas.core.frame.DataFrame'>\n",
      "RangeIndex: 6201 entries, 0 to 6200\n",
      "Columns: 13152 entries, A2M_original to ZYX_new\n",
      "dtypes: int64(13152)\n",
      "memory usage: 622.2 MB\n"
     ]
    }
   ],
   "source": [
    "X.info()"
   ]
  },
  {
   "cell_type": "code",
   "execution_count": 42,
   "id": "2a547007-5f50-42ce-b2ca-f2574859019c",
   "metadata": {},
   "outputs": [],
   "source": [
    "from sklearn.model_selection import train_test_split"
   ]
  },
  {
   "cell_type": "code",
   "execution_count": 43,
   "id": "ff0a76a6-12b9-4b5e-acfc-73724fc60637",
   "metadata": {},
   "outputs": [],
   "source": [
    "x_train, x_test, y_train, y_test = train_test_split(X, y, test_size=0.3, random_state=42)"
   ]
  },
  {
   "cell_type": "markdown",
   "id": "227c2d86-6f79-45fd-a982-173ea7607e44",
   "metadata": {},
   "source": [
    "# Xgboost"
   ]
  },
  {
   "cell_type": "code",
   "execution_count": 44,
   "id": "03451f8c-6487-47cd-afdd-7a146928ef6d",
   "metadata": {},
   "outputs": [],
   "source": [
    "import xgboost as xgb"
   ]
  },
  {
   "cell_type": "code",
   "execution_count": 45,
   "id": "637d6128-0b40-45bb-81d7-a77763f8fdb9",
   "metadata": {},
   "outputs": [],
   "source": [
    "dtrain = xgb.DMatrix(data = x_train, label = y_train)\n",
    "dtest = xgb.DMatrix(data = x_test, label = y_test)"
   ]
  },
  {
   "cell_type": "code",
   "execution_count": 46,
   "id": "fbad1050-ba3e-4730-bd91-73f2d77dfab7",
   "metadata": {},
   "outputs": [],
   "source": [
    "params = {\n",
    "    'objective': 'multi:softmax',  # 다중 분류\n",
    "    'num_class': 26,               # 클래스 수\n",
    "    'eval_metric': 'mlogloss',     # 평가 지표\n",
    "    'seed' : 42,\n",
    "    'alpha': 0.5,  # L1 정규화\n",
    "    'lambda': 1.5,  # L2 정규화,\n",
    "    'max_depth': 4,  # 트리 깊이 줄이기\n",
    "    'learning_rate': 0.05,  # 학습률 조정\n",
    "}"
   ]
  },
  {
   "cell_type": "code",
   "execution_count": 47,
   "id": "44716938-4fde-439c-bae4-c0e37704b10b",
   "metadata": {
    "scrolled": true
   },
   "outputs": [
    {
     "name": "stdout",
     "output_type": "stream",
     "text": [
      "[0]\ttrain-mlogloss:3.16310\teval-mlogloss:3.17618\n",
      "[1]\ttrain-mlogloss:3.08509\teval-mlogloss:3.11029\n",
      "[2]\ttrain-mlogloss:3.01835\teval-mlogloss:3.05507\n",
      "[3]\ttrain-mlogloss:2.95977\teval-mlogloss:3.00635\n",
      "[4]\ttrain-mlogloss:2.90732\teval-mlogloss:2.96368\n",
      "[5]\ttrain-mlogloss:2.85991\teval-mlogloss:2.92518\n",
      "[6]\ttrain-mlogloss:2.81639\teval-mlogloss:2.89117\n",
      "[7]\ttrain-mlogloss:2.77593\teval-mlogloss:2.85868\n",
      "[8]\ttrain-mlogloss:2.73882\teval-mlogloss:2.83041\n",
      "[9]\ttrain-mlogloss:2.70361\teval-mlogloss:2.80392\n",
      "[10]\ttrain-mlogloss:2.67110\teval-mlogloss:2.77900\n",
      "[11]\ttrain-mlogloss:2.64005\teval-mlogloss:2.75624\n",
      "[12]\ttrain-mlogloss:2.61105\teval-mlogloss:2.73469\n",
      "[13]\ttrain-mlogloss:2.58394\teval-mlogloss:2.71587\n",
      "[14]\ttrain-mlogloss:2.55744\teval-mlogloss:2.69644\n",
      "[15]\ttrain-mlogloss:2.53259\teval-mlogloss:2.67776\n",
      "[16]\ttrain-mlogloss:2.50912\teval-mlogloss:2.66140\n",
      "[17]\ttrain-mlogloss:2.48673\teval-mlogloss:2.64533\n",
      "[18]\ttrain-mlogloss:2.46532\teval-mlogloss:2.63014\n",
      "[19]\ttrain-mlogloss:2.44459\teval-mlogloss:2.61577\n",
      "[20]\ttrain-mlogloss:2.42514\teval-mlogloss:2.60245\n",
      "[21]\ttrain-mlogloss:2.40603\teval-mlogloss:2.58929\n",
      "[22]\ttrain-mlogloss:2.38793\teval-mlogloss:2.57749\n",
      "[23]\ttrain-mlogloss:2.37033\teval-mlogloss:2.56591\n",
      "[24]\ttrain-mlogloss:2.35343\teval-mlogloss:2.55442\n",
      "[25]\ttrain-mlogloss:2.33723\teval-mlogloss:2.54385\n",
      "[26]\ttrain-mlogloss:2.32139\teval-mlogloss:2.53355\n",
      "[27]\ttrain-mlogloss:2.30605\teval-mlogloss:2.52405\n",
      "[28]\ttrain-mlogloss:2.29148\teval-mlogloss:2.51501\n",
      "[29]\ttrain-mlogloss:2.27705\teval-mlogloss:2.50564\n",
      "[30]\ttrain-mlogloss:2.26321\teval-mlogloss:2.49780\n",
      "[31]\ttrain-mlogloss:2.24981\teval-mlogloss:2.48957\n",
      "[32]\ttrain-mlogloss:2.23699\teval-mlogloss:2.48203\n",
      "[33]\ttrain-mlogloss:2.22432\teval-mlogloss:2.47424\n",
      "[34]\ttrain-mlogloss:2.21217\teval-mlogloss:2.46696\n",
      "[35]\ttrain-mlogloss:2.20031\teval-mlogloss:2.45972\n",
      "[36]\ttrain-mlogloss:2.18869\teval-mlogloss:2.45309\n",
      "[37]\ttrain-mlogloss:2.17757\teval-mlogloss:2.44669\n",
      "[38]\ttrain-mlogloss:2.16656\teval-mlogloss:2.44066\n",
      "[39]\ttrain-mlogloss:2.15586\teval-mlogloss:2.43450\n",
      "[40]\ttrain-mlogloss:2.14558\teval-mlogloss:2.42907\n",
      "[41]\ttrain-mlogloss:2.13534\teval-mlogloss:2.42378\n",
      "[42]\ttrain-mlogloss:2.12541\teval-mlogloss:2.41914\n",
      "[43]\ttrain-mlogloss:2.11575\teval-mlogloss:2.41413\n",
      "[44]\ttrain-mlogloss:2.10618\teval-mlogloss:2.40948\n",
      "[45]\ttrain-mlogloss:2.09720\teval-mlogloss:2.40463\n",
      "[46]\ttrain-mlogloss:2.08825\teval-mlogloss:2.40020\n",
      "[47]\ttrain-mlogloss:2.07933\teval-mlogloss:2.39555\n",
      "[48]\ttrain-mlogloss:2.07074\teval-mlogloss:2.39103\n",
      "[49]\ttrain-mlogloss:2.06218\teval-mlogloss:2.38686\n",
      "[50]\ttrain-mlogloss:2.05385\teval-mlogloss:2.38294\n",
      "[51]\ttrain-mlogloss:2.04599\teval-mlogloss:2.37906\n",
      "[52]\ttrain-mlogloss:2.03799\teval-mlogloss:2.37518\n",
      "[53]\ttrain-mlogloss:2.03036\teval-mlogloss:2.37132\n",
      "[54]\ttrain-mlogloss:2.02240\teval-mlogloss:2.36772\n",
      "[55]\ttrain-mlogloss:2.01470\teval-mlogloss:2.36432\n",
      "[56]\ttrain-mlogloss:2.00766\teval-mlogloss:2.36115\n",
      "[57]\ttrain-mlogloss:2.00036\teval-mlogloss:2.35794\n",
      "[58]\ttrain-mlogloss:1.99331\teval-mlogloss:2.35507\n",
      "[59]\ttrain-mlogloss:1.98645\teval-mlogloss:2.35138\n",
      "[60]\ttrain-mlogloss:1.97989\teval-mlogloss:2.34864\n",
      "[61]\ttrain-mlogloss:1.97328\teval-mlogloss:2.34562\n",
      "[62]\ttrain-mlogloss:1.96677\teval-mlogloss:2.34268\n",
      "[63]\ttrain-mlogloss:1.96047\teval-mlogloss:2.34037\n",
      "[64]\ttrain-mlogloss:1.95416\teval-mlogloss:2.33756\n",
      "[65]\ttrain-mlogloss:1.94773\teval-mlogloss:2.33481\n",
      "[66]\ttrain-mlogloss:1.94174\teval-mlogloss:2.33230\n",
      "[67]\ttrain-mlogloss:1.93568\teval-mlogloss:2.32993\n",
      "[68]\ttrain-mlogloss:1.92981\teval-mlogloss:2.32757\n",
      "[69]\ttrain-mlogloss:1.92368\teval-mlogloss:2.32559\n",
      "[70]\ttrain-mlogloss:1.91816\teval-mlogloss:2.32340\n",
      "[71]\ttrain-mlogloss:1.91241\teval-mlogloss:2.32149\n",
      "[72]\ttrain-mlogloss:1.90686\teval-mlogloss:2.31900\n",
      "[73]\ttrain-mlogloss:1.90131\teval-mlogloss:2.31689\n",
      "[74]\ttrain-mlogloss:1.89584\teval-mlogloss:2.31484\n",
      "[75]\ttrain-mlogloss:1.89060\teval-mlogloss:2.31289\n",
      "[76]\ttrain-mlogloss:1.88539\teval-mlogloss:2.31114\n",
      "[77]\ttrain-mlogloss:1.88029\teval-mlogloss:2.30917\n",
      "[78]\ttrain-mlogloss:1.87512\teval-mlogloss:2.30713\n",
      "[79]\ttrain-mlogloss:1.87034\teval-mlogloss:2.30538\n",
      "[80]\ttrain-mlogloss:1.86537\teval-mlogloss:2.30391\n",
      "[81]\ttrain-mlogloss:1.86035\teval-mlogloss:2.30226\n",
      "[82]\ttrain-mlogloss:1.85556\teval-mlogloss:2.30026\n",
      "[83]\ttrain-mlogloss:1.85105\teval-mlogloss:2.29885\n",
      "[84]\ttrain-mlogloss:1.84641\teval-mlogloss:2.29710\n",
      "[85]\ttrain-mlogloss:1.84210\teval-mlogloss:2.29555\n",
      "[86]\ttrain-mlogloss:1.83751\teval-mlogloss:2.29391\n",
      "[87]\ttrain-mlogloss:1.83308\teval-mlogloss:2.29264\n",
      "[88]\ttrain-mlogloss:1.82872\teval-mlogloss:2.29128\n",
      "[89]\ttrain-mlogloss:1.82439\teval-mlogloss:2.28965\n",
      "[90]\ttrain-mlogloss:1.82025\teval-mlogloss:2.28832\n",
      "[91]\ttrain-mlogloss:1.81603\teval-mlogloss:2.28718\n",
      "[92]\ttrain-mlogloss:1.81206\teval-mlogloss:2.28592\n",
      "[93]\ttrain-mlogloss:1.80779\teval-mlogloss:2.28449\n",
      "[94]\ttrain-mlogloss:1.80371\teval-mlogloss:2.28332\n",
      "[95]\ttrain-mlogloss:1.79973\teval-mlogloss:2.28200\n",
      "[96]\ttrain-mlogloss:1.79577\teval-mlogloss:2.28073\n",
      "[97]\ttrain-mlogloss:1.79184\teval-mlogloss:2.27948\n",
      "[98]\ttrain-mlogloss:1.78790\teval-mlogloss:2.27857\n",
      "[99]\ttrain-mlogloss:1.78402\teval-mlogloss:2.27738\n",
      "[100]\ttrain-mlogloss:1.78026\teval-mlogloss:2.27612\n",
      "[101]\ttrain-mlogloss:1.77657\teval-mlogloss:2.27462\n",
      "[102]\ttrain-mlogloss:1.77293\teval-mlogloss:2.27352\n",
      "[103]\ttrain-mlogloss:1.76926\teval-mlogloss:2.27259\n",
      "[104]\ttrain-mlogloss:1.76555\teval-mlogloss:2.27130\n",
      "[105]\ttrain-mlogloss:1.76190\teval-mlogloss:2.27012\n",
      "[106]\ttrain-mlogloss:1.75836\teval-mlogloss:2.26919\n",
      "[107]\ttrain-mlogloss:1.75491\teval-mlogloss:2.26831\n",
      "[108]\ttrain-mlogloss:1.75121\teval-mlogloss:2.26714\n",
      "[109]\ttrain-mlogloss:1.74780\teval-mlogloss:2.26606\n",
      "[110]\ttrain-mlogloss:1.74436\teval-mlogloss:2.26494\n",
      "[111]\ttrain-mlogloss:1.74113\teval-mlogloss:2.26419\n",
      "[112]\ttrain-mlogloss:1.73770\teval-mlogloss:2.26309\n",
      "[113]\ttrain-mlogloss:1.73448\teval-mlogloss:2.26234\n",
      "[114]\ttrain-mlogloss:1.73120\teval-mlogloss:2.26170\n",
      "[115]\ttrain-mlogloss:1.72791\teval-mlogloss:2.26081\n",
      "[116]\ttrain-mlogloss:1.72455\teval-mlogloss:2.25986\n",
      "[117]\ttrain-mlogloss:1.72141\teval-mlogloss:2.25912\n",
      "[118]\ttrain-mlogloss:1.71819\teval-mlogloss:2.25850\n",
      "[119]\ttrain-mlogloss:1.71501\teval-mlogloss:2.25744\n",
      "[120]\ttrain-mlogloss:1.71185\teval-mlogloss:2.25689\n",
      "[121]\ttrain-mlogloss:1.70874\teval-mlogloss:2.25620\n",
      "[122]\ttrain-mlogloss:1.70572\teval-mlogloss:2.25559\n",
      "[123]\ttrain-mlogloss:1.70270\teval-mlogloss:2.25490\n",
      "[124]\ttrain-mlogloss:1.69975\teval-mlogloss:2.25428\n",
      "[125]\ttrain-mlogloss:1.69695\teval-mlogloss:2.25380\n",
      "[126]\ttrain-mlogloss:1.69399\teval-mlogloss:2.25305\n",
      "[127]\ttrain-mlogloss:1.69090\teval-mlogloss:2.25218\n",
      "[128]\ttrain-mlogloss:1.68798\teval-mlogloss:2.25139\n",
      "[129]\ttrain-mlogloss:1.68506\teval-mlogloss:2.25085\n",
      "[130]\ttrain-mlogloss:1.68226\teval-mlogloss:2.25020\n",
      "[131]\ttrain-mlogloss:1.67949\teval-mlogloss:2.24962\n",
      "[132]\ttrain-mlogloss:1.67662\teval-mlogloss:2.24912\n",
      "[133]\ttrain-mlogloss:1.67393\teval-mlogloss:2.24865\n",
      "[134]\ttrain-mlogloss:1.67123\teval-mlogloss:2.24811\n",
      "[135]\ttrain-mlogloss:1.66851\teval-mlogloss:2.24753\n",
      "[136]\ttrain-mlogloss:1.66582\teval-mlogloss:2.24704\n",
      "[137]\ttrain-mlogloss:1.66299\teval-mlogloss:2.24664\n",
      "[138]\ttrain-mlogloss:1.66031\teval-mlogloss:2.24612\n",
      "[139]\ttrain-mlogloss:1.65772\teval-mlogloss:2.24560\n",
      "[140]\ttrain-mlogloss:1.65512\teval-mlogloss:2.24504\n",
      "[141]\ttrain-mlogloss:1.65256\teval-mlogloss:2.24463\n",
      "[142]\ttrain-mlogloss:1.64994\teval-mlogloss:2.24403\n",
      "[143]\ttrain-mlogloss:1.64735\teval-mlogloss:2.24352\n",
      "[144]\ttrain-mlogloss:1.64486\teval-mlogloss:2.24304\n",
      "[145]\ttrain-mlogloss:1.64237\teval-mlogloss:2.24259\n",
      "[146]\ttrain-mlogloss:1.63985\teval-mlogloss:2.24195\n",
      "[147]\ttrain-mlogloss:1.63724\teval-mlogloss:2.24102\n",
      "[148]\ttrain-mlogloss:1.63474\teval-mlogloss:2.24057\n",
      "[149]\ttrain-mlogloss:1.63227\teval-mlogloss:2.24004\n",
      "[150]\ttrain-mlogloss:1.62978\teval-mlogloss:2.23949\n",
      "[151]\ttrain-mlogloss:1.62737\teval-mlogloss:2.23890\n",
      "[152]\ttrain-mlogloss:1.62484\teval-mlogloss:2.23845\n",
      "[153]\ttrain-mlogloss:1.62247\teval-mlogloss:2.23799\n",
      "[154]\ttrain-mlogloss:1.62017\teval-mlogloss:2.23763\n",
      "[155]\ttrain-mlogloss:1.61772\teval-mlogloss:2.23721\n",
      "[156]\ttrain-mlogloss:1.61530\teval-mlogloss:2.23671\n",
      "[157]\ttrain-mlogloss:1.61296\teval-mlogloss:2.23631\n",
      "[158]\ttrain-mlogloss:1.61060\teval-mlogloss:2.23562\n",
      "[159]\ttrain-mlogloss:1.60830\teval-mlogloss:2.23546\n",
      "[160]\ttrain-mlogloss:1.60597\teval-mlogloss:2.23510\n",
      "[161]\ttrain-mlogloss:1.60373\teval-mlogloss:2.23462\n",
      "[162]\ttrain-mlogloss:1.60151\teval-mlogloss:2.23389\n",
      "[163]\ttrain-mlogloss:1.59916\teval-mlogloss:2.23340\n",
      "[164]\ttrain-mlogloss:1.59688\teval-mlogloss:2.23277\n",
      "[165]\ttrain-mlogloss:1.59454\teval-mlogloss:2.23257\n",
      "[166]\ttrain-mlogloss:1.59242\teval-mlogloss:2.23229\n",
      "[167]\ttrain-mlogloss:1.59024\teval-mlogloss:2.23208\n",
      "[168]\ttrain-mlogloss:1.58800\teval-mlogloss:2.23139\n",
      "[169]\ttrain-mlogloss:1.58592\teval-mlogloss:2.23111\n",
      "[170]\ttrain-mlogloss:1.58377\teval-mlogloss:2.23058\n",
      "[171]\ttrain-mlogloss:1.58165\teval-mlogloss:2.23010\n",
      "[172]\ttrain-mlogloss:1.57958\teval-mlogloss:2.23003\n",
      "[173]\ttrain-mlogloss:1.57755\teval-mlogloss:2.22957\n",
      "[174]\ttrain-mlogloss:1.57540\teval-mlogloss:2.22912\n",
      "[175]\ttrain-mlogloss:1.57323\teval-mlogloss:2.22880\n",
      "[176]\ttrain-mlogloss:1.57119\teval-mlogloss:2.22825\n",
      "[177]\ttrain-mlogloss:1.56907\teval-mlogloss:2.22801\n",
      "[178]\ttrain-mlogloss:1.56696\teval-mlogloss:2.22752\n",
      "[179]\ttrain-mlogloss:1.56492\teval-mlogloss:2.22729\n",
      "[180]\ttrain-mlogloss:1.56288\teval-mlogloss:2.22694\n",
      "[181]\ttrain-mlogloss:1.56092\teval-mlogloss:2.22668\n",
      "[182]\ttrain-mlogloss:1.55884\teval-mlogloss:2.22619\n",
      "[183]\ttrain-mlogloss:1.55693\teval-mlogloss:2.22609\n",
      "[184]\ttrain-mlogloss:1.55499\teval-mlogloss:2.22592\n",
      "[185]\ttrain-mlogloss:1.55288\teval-mlogloss:2.22555\n",
      "[186]\ttrain-mlogloss:1.55088\teval-mlogloss:2.22532\n",
      "[187]\ttrain-mlogloss:1.54891\teval-mlogloss:2.22509\n",
      "[188]\ttrain-mlogloss:1.54693\teval-mlogloss:2.22477\n",
      "[189]\ttrain-mlogloss:1.54498\teval-mlogloss:2.22461\n",
      "[190]\ttrain-mlogloss:1.54302\teval-mlogloss:2.22455\n",
      "[191]\ttrain-mlogloss:1.54105\teval-mlogloss:2.22411\n",
      "[192]\ttrain-mlogloss:1.53921\teval-mlogloss:2.22383\n",
      "[193]\ttrain-mlogloss:1.53723\teval-mlogloss:2.22338\n",
      "[194]\ttrain-mlogloss:1.53532\teval-mlogloss:2.22317\n",
      "[195]\ttrain-mlogloss:1.53336\teval-mlogloss:2.22295\n",
      "[196]\ttrain-mlogloss:1.53147\teval-mlogloss:2.22249\n",
      "[197]\ttrain-mlogloss:1.52956\teval-mlogloss:2.22245\n",
      "[198]\ttrain-mlogloss:1.52753\teval-mlogloss:2.22196\n",
      "[199]\ttrain-mlogloss:1.52571\teval-mlogloss:2.22176\n",
      "[200]\ttrain-mlogloss:1.52392\teval-mlogloss:2.22170\n",
      "[201]\ttrain-mlogloss:1.52206\teval-mlogloss:2.22136\n",
      "[202]\ttrain-mlogloss:1.52026\teval-mlogloss:2.22091\n",
      "[203]\ttrain-mlogloss:1.51834\teval-mlogloss:2.22061\n",
      "[204]\ttrain-mlogloss:1.51655\teval-mlogloss:2.22050\n",
      "[205]\ttrain-mlogloss:1.51474\teval-mlogloss:2.22032\n",
      "[206]\ttrain-mlogloss:1.51302\teval-mlogloss:2.22030\n",
      "[207]\ttrain-mlogloss:1.51112\teval-mlogloss:2.22021\n",
      "[208]\ttrain-mlogloss:1.50938\teval-mlogloss:2.22001\n",
      "[209]\ttrain-mlogloss:1.50762\teval-mlogloss:2.22004\n",
      "[210]\ttrain-mlogloss:1.50575\teval-mlogloss:2.21963\n",
      "[211]\ttrain-mlogloss:1.50380\teval-mlogloss:2.21947\n",
      "[212]\ttrain-mlogloss:1.50203\teval-mlogloss:2.21931\n",
      "[213]\ttrain-mlogloss:1.50029\teval-mlogloss:2.21883\n",
      "[214]\ttrain-mlogloss:1.49858\teval-mlogloss:2.21864\n",
      "[215]\ttrain-mlogloss:1.49682\teval-mlogloss:2.21824\n",
      "[216]\ttrain-mlogloss:1.49510\teval-mlogloss:2.21791\n",
      "[217]\ttrain-mlogloss:1.49339\teval-mlogloss:2.21768\n",
      "[218]\ttrain-mlogloss:1.49169\teval-mlogloss:2.21747\n",
      "[219]\ttrain-mlogloss:1.49001\teval-mlogloss:2.21721\n",
      "[220]\ttrain-mlogloss:1.48830\teval-mlogloss:2.21694\n",
      "[221]\ttrain-mlogloss:1.48657\teval-mlogloss:2.21665\n",
      "[222]\ttrain-mlogloss:1.48476\teval-mlogloss:2.21643\n",
      "[223]\ttrain-mlogloss:1.48308\teval-mlogloss:2.21607\n",
      "[224]\ttrain-mlogloss:1.48153\teval-mlogloss:2.21594\n",
      "[225]\ttrain-mlogloss:1.47986\teval-mlogloss:2.21578\n",
      "[226]\ttrain-mlogloss:1.47822\teval-mlogloss:2.21532\n",
      "[227]\ttrain-mlogloss:1.47652\teval-mlogloss:2.21499\n",
      "[228]\ttrain-mlogloss:1.47485\teval-mlogloss:2.21462\n",
      "[229]\ttrain-mlogloss:1.47322\teval-mlogloss:2.21439\n",
      "[230]\ttrain-mlogloss:1.47160\teval-mlogloss:2.21432\n",
      "[231]\ttrain-mlogloss:1.47006\teval-mlogloss:2.21410\n",
      "[232]\ttrain-mlogloss:1.46843\teval-mlogloss:2.21397\n",
      "[233]\ttrain-mlogloss:1.46681\teval-mlogloss:2.21364\n",
      "[234]\ttrain-mlogloss:1.46518\teval-mlogloss:2.21346\n",
      "[235]\ttrain-mlogloss:1.46363\teval-mlogloss:2.21328\n",
      "[236]\ttrain-mlogloss:1.46205\teval-mlogloss:2.21319\n",
      "[237]\ttrain-mlogloss:1.46044\teval-mlogloss:2.21303\n",
      "[238]\ttrain-mlogloss:1.45887\teval-mlogloss:2.21306\n",
      "[239]\ttrain-mlogloss:1.45733\teval-mlogloss:2.21288\n",
      "[240]\ttrain-mlogloss:1.45577\teval-mlogloss:2.21277\n",
      "[241]\ttrain-mlogloss:1.45427\teval-mlogloss:2.21283\n",
      "[242]\ttrain-mlogloss:1.45268\teval-mlogloss:2.21247\n",
      "[243]\ttrain-mlogloss:1.45118\teval-mlogloss:2.21241\n",
      "[244]\ttrain-mlogloss:1.44965\teval-mlogloss:2.21217\n",
      "[245]\ttrain-mlogloss:1.44817\teval-mlogloss:2.21206\n",
      "[246]\ttrain-mlogloss:1.44666\teval-mlogloss:2.21172\n",
      "[247]\ttrain-mlogloss:1.44517\teval-mlogloss:2.21168\n",
      "[248]\ttrain-mlogloss:1.44364\teval-mlogloss:2.21153\n",
      "[249]\ttrain-mlogloss:1.44211\teval-mlogloss:2.21145\n",
      "[250]\ttrain-mlogloss:1.44057\teval-mlogloss:2.21123\n",
      "[251]\ttrain-mlogloss:1.43891\teval-mlogloss:2.21100\n",
      "[252]\ttrain-mlogloss:1.43735\teval-mlogloss:2.21094\n",
      "[253]\ttrain-mlogloss:1.43582\teval-mlogloss:2.21073\n",
      "[254]\ttrain-mlogloss:1.43431\teval-mlogloss:2.21063\n",
      "[255]\ttrain-mlogloss:1.43278\teval-mlogloss:2.21055\n",
      "[256]\ttrain-mlogloss:1.43133\teval-mlogloss:2.21071\n",
      "[257]\ttrain-mlogloss:1.42986\teval-mlogloss:2.21035\n",
      "[258]\ttrain-mlogloss:1.42841\teval-mlogloss:2.21022\n",
      "[259]\ttrain-mlogloss:1.42693\teval-mlogloss:2.21019\n",
      "[260]\ttrain-mlogloss:1.42559\teval-mlogloss:2.21006\n",
      "[261]\ttrain-mlogloss:1.42409\teval-mlogloss:2.20985\n",
      "[262]\ttrain-mlogloss:1.42263\teval-mlogloss:2.20973\n",
      "[263]\ttrain-mlogloss:1.42122\teval-mlogloss:2.20973\n",
      "[264]\ttrain-mlogloss:1.41978\teval-mlogloss:2.20955\n",
      "[265]\ttrain-mlogloss:1.41828\teval-mlogloss:2.20926\n",
      "[266]\ttrain-mlogloss:1.41681\teval-mlogloss:2.20927\n",
      "[267]\ttrain-mlogloss:1.41545\teval-mlogloss:2.20912\n",
      "[268]\ttrain-mlogloss:1.41401\teval-mlogloss:2.20913\n",
      "[269]\ttrain-mlogloss:1.41261\teval-mlogloss:2.20919\n",
      "[270]\ttrain-mlogloss:1.41126\teval-mlogloss:2.20899\n",
      "[271]\ttrain-mlogloss:1.40985\teval-mlogloss:2.20900\n",
      "[272]\ttrain-mlogloss:1.40843\teval-mlogloss:2.20890\n",
      "[273]\ttrain-mlogloss:1.40700\teval-mlogloss:2.20866\n",
      "[274]\ttrain-mlogloss:1.40560\teval-mlogloss:2.20851\n",
      "[275]\ttrain-mlogloss:1.40427\teval-mlogloss:2.20859\n",
      "[276]\ttrain-mlogloss:1.40293\teval-mlogloss:2.20861\n",
      "[277]\ttrain-mlogloss:1.40154\teval-mlogloss:2.20837\n",
      "[278]\ttrain-mlogloss:1.40011\teval-mlogloss:2.20813\n",
      "[279]\ttrain-mlogloss:1.39877\teval-mlogloss:2.20802\n",
      "[280]\ttrain-mlogloss:1.39741\teval-mlogloss:2.20780\n",
      "[281]\ttrain-mlogloss:1.39607\teval-mlogloss:2.20766\n",
      "[282]\ttrain-mlogloss:1.39472\teval-mlogloss:2.20757\n",
      "[283]\ttrain-mlogloss:1.39339\teval-mlogloss:2.20749\n",
      "[284]\ttrain-mlogloss:1.39204\teval-mlogloss:2.20740\n",
      "[285]\ttrain-mlogloss:1.39071\teval-mlogloss:2.20730\n",
      "[286]\ttrain-mlogloss:1.38931\teval-mlogloss:2.20731\n",
      "[287]\ttrain-mlogloss:1.38795\teval-mlogloss:2.20710\n",
      "[288]\ttrain-mlogloss:1.38662\teval-mlogloss:2.20706\n",
      "[289]\ttrain-mlogloss:1.38529\teval-mlogloss:2.20700\n",
      "[290]\ttrain-mlogloss:1.38403\teval-mlogloss:2.20702\n",
      "[291]\ttrain-mlogloss:1.38271\teval-mlogloss:2.20695\n",
      "[292]\ttrain-mlogloss:1.38142\teval-mlogloss:2.20692\n",
      "[293]\ttrain-mlogloss:1.38004\teval-mlogloss:2.20694\n",
      "[294]\ttrain-mlogloss:1.37876\teval-mlogloss:2.20675\n",
      "[295]\ttrain-mlogloss:1.37745\teval-mlogloss:2.20668\n",
      "[296]\ttrain-mlogloss:1.37616\teval-mlogloss:2.20651\n",
      "[297]\ttrain-mlogloss:1.37487\teval-mlogloss:2.20655\n",
      "[298]\ttrain-mlogloss:1.37355\teval-mlogloss:2.20658\n",
      "[299]\ttrain-mlogloss:1.37225\teval-mlogloss:2.20651\n",
      "[300]\ttrain-mlogloss:1.37101\teval-mlogloss:2.20650\n",
      "[301]\ttrain-mlogloss:1.36973\teval-mlogloss:2.20655\n",
      "[302]\ttrain-mlogloss:1.36849\teval-mlogloss:2.20658\n",
      "[303]\ttrain-mlogloss:1.36726\teval-mlogloss:2.20663\n",
      "[304]\ttrain-mlogloss:1.36597\teval-mlogloss:2.20655\n",
      "[305]\ttrain-mlogloss:1.36456\teval-mlogloss:2.20632\n",
      "[306]\ttrain-mlogloss:1.36328\teval-mlogloss:2.20626\n",
      "[307]\ttrain-mlogloss:1.36207\teval-mlogloss:2.20636\n",
      "[308]\ttrain-mlogloss:1.36082\teval-mlogloss:2.20635\n",
      "[309]\ttrain-mlogloss:1.35959\teval-mlogloss:2.20618\n",
      "[310]\ttrain-mlogloss:1.35833\teval-mlogloss:2.20605\n",
      "[311]\ttrain-mlogloss:1.35710\teval-mlogloss:2.20596\n",
      "[312]\ttrain-mlogloss:1.35582\teval-mlogloss:2.20600\n",
      "[313]\ttrain-mlogloss:1.35461\teval-mlogloss:2.20597\n",
      "[314]\ttrain-mlogloss:1.35339\teval-mlogloss:2.20587\n",
      "[315]\ttrain-mlogloss:1.35215\teval-mlogloss:2.20586\n",
      "[316]\ttrain-mlogloss:1.35096\teval-mlogloss:2.20594\n",
      "[317]\ttrain-mlogloss:1.34971\teval-mlogloss:2.20572\n",
      "[318]\ttrain-mlogloss:1.34845\teval-mlogloss:2.20567\n",
      "[319]\ttrain-mlogloss:1.34721\teval-mlogloss:2.20556\n",
      "[320]\ttrain-mlogloss:1.34591\teval-mlogloss:2.20555\n",
      "[321]\ttrain-mlogloss:1.34464\teval-mlogloss:2.20554\n",
      "[322]\ttrain-mlogloss:1.34344\teval-mlogloss:2.20565\n",
      "[323]\ttrain-mlogloss:1.34218\teval-mlogloss:2.20562\n",
      "[324]\ttrain-mlogloss:1.34098\teval-mlogloss:2.20550\n",
      "[325]\ttrain-mlogloss:1.33978\teval-mlogloss:2.20556\n",
      "[326]\ttrain-mlogloss:1.33861\teval-mlogloss:2.20526\n",
      "[327]\ttrain-mlogloss:1.33739\teval-mlogloss:2.20508\n",
      "[328]\ttrain-mlogloss:1.33629\teval-mlogloss:2.20520\n",
      "[329]\ttrain-mlogloss:1.33504\teval-mlogloss:2.20531\n",
      "[330]\ttrain-mlogloss:1.33376\teval-mlogloss:2.20521\n",
      "[331]\ttrain-mlogloss:1.33257\teval-mlogloss:2.20515\n",
      "[332]\ttrain-mlogloss:1.33143\teval-mlogloss:2.20526\n",
      "[333]\ttrain-mlogloss:1.33018\teval-mlogloss:2.20523\n",
      "[334]\ttrain-mlogloss:1.32903\teval-mlogloss:2.20524\n",
      "[335]\ttrain-mlogloss:1.32788\teval-mlogloss:2.20522\n",
      "[336]\ttrain-mlogloss:1.32674\teval-mlogloss:2.20520\n"
     ]
    }
   ],
   "source": [
    "wlist = [(dtrain, \"train\"), (dtest, \"eval\")]\n",
    "\n",
    "xgb_model = xgb.train(params = params, dtrain = dtrain, num_boost_round = 400,\n",
    "                      evals = wlist, early_stopping_rounds=10)"
   ]
  },
  {
   "cell_type": "code",
   "execution_count": 48,
   "id": "462293c7-cb88-42b6-ba57-43f01f29addd",
   "metadata": {},
   "outputs": [],
   "source": [
    "from sklearn.metrics import accuracy_score"
   ]
  },
  {
   "cell_type": "code",
   "execution_count": 49,
   "id": "79faf366-4510-421f-974f-0ff7f1a80cad",
   "metadata": {},
   "outputs": [
    {
     "data": {
      "text/plain": [
       "0.6744239631336405"
      ]
     },
     "execution_count": 49,
     "metadata": {},
     "output_type": "execute_result"
    }
   ],
   "source": [
    "accuracy_score(y_train, xgb_model.predict(dtrain))"
   ]
  },
  {
   "cell_type": "code",
   "execution_count": 50,
   "id": "85d11591-66ee-4acc-9cd7-057087ab36f7",
   "metadata": {},
   "outputs": [
    {
     "data": {
      "text/plain": [
       "0.322944653412144"
      ]
     },
     "execution_count": 50,
     "metadata": {},
     "output_type": "execute_result"
    }
   ],
   "source": [
    "accuracy_score(y_test, xgb_model.predict(dtest))"
   ]
  },
  {
   "cell_type": "markdown",
   "id": "e1ff459c-9319-4ad7-bcf4-ab5a25501746",
   "metadata": {},
   "source": [
    "---"
   ]
  },
  {
   "cell_type": "code",
   "execution_count": 260,
   "id": "615a9893-91d0-4b39-a497-62cd3d98d0a7",
   "metadata": {},
   "outputs": [],
   "source": [
    "test = test.map(lambda x : 0 if x == 'WT' else x)"
   ]
  },
  {
   "cell_type": "code",
   "execution_count": 261,
   "id": "60f5872d-139e-4561-aa23-7222dd5618e8",
   "metadata": {},
   "outputs": [
    {
     "name": "stderr",
     "output_type": "stream",
     "text": [
      "100%|████████████████████████████████████████████████████████████| 4384/4384 [27:26<00:00,  2.66it/s]\n"
     ]
    }
   ],
   "source": [
    "for i in tqdm(test.columns):\n",
    "    test[i + '_original'] = 0\n",
    "    test[i + '_position'] = 0\n",
    "    test[i + '_new'] = 0\n",
    "\n",
    "    A = test[i].apply(extract_numbers)\n",
    "    A = A.fillna(0)\n",
    "\n",
    "    for j in range(len(test)):\n",
    "        try:\n",
    "            test.loc[j, i + '_original'], test.loc[j, i + '_position'], test.loc[j, i + '_new'] = A.loc[j][0], A.loc[j][1], A.loc[j][2]\n",
    "        except:\n",
    "            pass\n",
    "\n",
    "    test[i + '_position'] = test[i + '_position'].astype('int')\n",
    "    test.drop(columns=i, axis=1, inplace=True)"
   ]
  },
  {
   "cell_type": "code",
   "execution_count": 262,
   "id": "9d82c947-e423-4c7d-8900-fd3a6f264b92",
   "metadata": {},
   "outputs": [],
   "source": [
    "test = encode_dataframe(test)"
   ]
  },
  {
   "cell_type": "code",
   "execution_count": 28,
   "id": "8a269ae2-25e7-43b0-9cb8-9a21b048db9c",
   "metadata": {},
   "outputs": [
    {
     "name": "stderr",
     "output_type": "stream",
     "text": [
      "100%|███████████████████████████████████████████████████████| 13152/13152 [00:01<00:00, 10346.14it/s]\n"
     ]
    }
   ],
   "source": [
    "a = []\n",
    "\n",
    "for i in tqdm(test.columns):\n",
    "    try:\n",
    "        test[i].astype('int')\n",
    "    except:\n",
    "        a.append(i)"
   ]
  },
  {
   "cell_type": "code",
   "execution_count": 29,
   "id": "11bf228e-e730-48fa-864d-c0dbef29cc36",
   "metadata": {},
   "outputs": [
    {
     "data": {
      "text/plain": [
       "3764"
      ]
     },
     "execution_count": 29,
     "metadata": {},
     "output_type": "execute_result"
    }
   ],
   "source": [
    "len(a)"
   ]
  },
  {
   "cell_type": "code",
   "execution_count": 30,
   "id": "9dcee3b8-3e80-4d33-920e-4ed7aa964b07",
   "metadata": {},
   "outputs": [],
   "source": [
    "tmp = test[a]"
   ]
  },
  {
   "cell_type": "code",
   "execution_count": 31,
   "id": "853f2bb1-3dff-4a8e-a9fb-df1262c83390",
   "metadata": {},
   "outputs": [
    {
     "name": "stderr",
     "output_type": "stream",
     "text": [
      "100%|████████████████████████████████████████████████████████████| 3764/3764 [27:29<00:00,  2.28it/s]\n"
     ]
    }
   ],
   "source": [
    "for i in tqdm(tmp.columns):\n",
    "    for j in range(len(tmp)):\n",
    "        try:\n",
    "            tmp.loc[j, i] = int(tmp.loc[j, i])\n",
    "        except:\n",
    "            try :\n",
    "                tmp.loc[j, i] = sum(encode_sequence(list(tmp.loc[j,i].upper())))\n",
    "            except:\n",
    "                tmp.loc[j, i] = -1\n",
    "                pass\n",
    "            pass"
   ]
  },
  {
   "cell_type": "code",
   "execution_count": 32,
   "id": "4a5cf40b-fac2-4401-b1e2-8811ef41b113",
   "metadata": {},
   "outputs": [],
   "source": [
    "tmp = tmp.astype('int')"
   ]
  },
  {
   "cell_type": "code",
   "execution_count": 33,
   "id": "7df273c0-384c-4285-b6c3-3c792fa9a0bd",
   "metadata": {},
   "outputs": [],
   "source": [
    "test[a] = tmp"
   ]
  },
  {
   "cell_type": "code",
   "execution_count": 34,
   "id": "223b6a57-088a-4133-9380-e5bcfa283a9a",
   "metadata": {},
   "outputs": [],
   "source": [
    "test = test.astype('int')"
   ]
  },
  {
   "cell_type": "markdown",
   "id": "ef49631d-545f-476a-acb9-50f5f96ad865",
   "metadata": {},
   "source": [
    "test.to_csv(\"../data/preprocessing/Y_003.csv\", index=False, encoding='utf-8')"
   ]
  },
  {
   "cell_type": "code",
   "execution_count": null,
   "id": "0b4817ea-29f1-4cb4-bb54-953957b73017",
   "metadata": {},
   "outputs": [],
   "source": [
    "test = pd.read_csv(\"../data/preprocessing/Y_003.csv\")"
   ]
  },
  {
   "cell_type": "code",
   "execution_count": 51,
   "id": "ea2ece7c-bbab-4b7a-9ff9-c601ded53bb6",
   "metadata": {},
   "outputs": [],
   "source": [
    "test_DM = xgb.DMatrix(data=test)"
   ]
  },
  {
   "cell_type": "code",
   "execution_count": 52,
   "id": "16d8b1b6-9806-45ce-aa4a-ba2334ebf31d",
   "metadata": {},
   "outputs": [],
   "source": [
    "test_predict = xgb_model.predict(test_DM).astype('int')"
   ]
  },
  {
   "cell_type": "code",
   "execution_count": 53,
   "id": "40657234-00f6-47af-bef2-c6132ada22a1",
   "metadata": {},
   "outputs": [],
   "source": [
    "test_predict = le.inverse_transform(test_predict)"
   ]
  },
  {
   "cell_type": "code",
   "execution_count": 54,
   "id": "73fecbe3-6cb0-446a-b226-e770867867ac",
   "metadata": {},
   "outputs": [],
   "source": [
    "submission = pd.read_csv(\"../data/raw_data/sample_submission.csv\")"
   ]
  },
  {
   "cell_type": "code",
   "execution_count": 55,
   "id": "d80fbc82-041b-4667-9b63-b053e1850bec",
   "metadata": {},
   "outputs": [],
   "source": [
    "submission['SUBCLASS'] = test_predict"
   ]
  },
  {
   "cell_type": "code",
   "execution_count": 56,
   "id": "85e6073c-0c25-4864-bc9f-310be3a21e02",
   "metadata": {},
   "outputs": [],
   "source": [
    "submission.to_csv(\"../data/submission/submission_12.csv\", index=False)"
   ]
  }
 ],
 "metadata": {
  "kernelspec": {
   "display_name": "Python 3 (ipykernel)",
   "language": "python",
   "name": "python3"
  },
  "language_info": {
   "codemirror_mode": {
    "name": "ipython",
    "version": 3
   },
   "file_extension": ".py",
   "mimetype": "text/x-python",
   "name": "python",
   "nbconvert_exporter": "python",
   "pygments_lexer": "ipython3",
   "version": "3.12.2"
  }
 },
 "nbformat": 4,
 "nbformat_minor": 5
}

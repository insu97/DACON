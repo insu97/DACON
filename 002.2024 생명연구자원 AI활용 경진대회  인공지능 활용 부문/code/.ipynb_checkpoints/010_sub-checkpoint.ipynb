{
 "cells": [
  {
   "cell_type": "code",
   "execution_count": 119,
   "id": "f55e4df9-dfef-4446-925b-bea43da22a44",
   "metadata": {},
   "outputs": [],
   "source": [
    "import warnings\n",
    "warnings.filterwarnings('ignore')\n",
    "\n",
    "import pandas as pd\n",
    "from tqdm import tqdm"
   ]
  },
  {
   "cell_type": "code",
   "execution_count": 120,
   "id": "ea99bed3-bdd1-4205-8b73-4cf9c09c5ee1",
   "metadata": {},
   "outputs": [],
   "source": [
    "train = pd.read_csv(\"../data/raw_data/train.csv\")\n",
    "test = pd.read_csv(\"../data/raw_data/test.csv\")"
   ]
  },
  {
   "cell_type": "code",
   "execution_count": 121,
   "id": "2d3eaeb4-41b1-44cb-b831-4e434140dc90",
   "metadata": {},
   "outputs": [],
   "source": [
    "train = train.drop(columns = ['ID'])\n",
    "test = test.drop(columns = ['ID'])"
   ]
  },
  {
   "cell_type": "code",
   "execution_count": 122,
   "id": "283e6504-75b6-4856-8a38-0ada09acee77",
   "metadata": {},
   "outputs": [],
   "source": [
    "from sklearn.preprocessing import LabelEncoder\n",
    "\n",
    "le = LabelEncoder()\n",
    "train['SUBCLASS'] = le.fit_transform(train['SUBCLASS'])"
   ]
  },
  {
   "cell_type": "code",
   "execution_count": 123,
   "id": "89d7b1b4-8c57-4ba6-a663-ca83b0de383c",
   "metadata": {},
   "outputs": [],
   "source": [
    "train[test.columns] = train[test.columns].map(lambda x: 0 if x == 'WT' else x)\n",
    "test[test.columns] = test[test.columns].map(lambda x: 0 if x == 'WT' else x)"
   ]
  },
  {
   "cell_type": "code",
   "execution_count": 124,
   "id": "67095127-a794-4bfe-8428-f405b2129f0b",
   "metadata": {},
   "outputs": [
    {
     "data": {
      "text/html": [
       "<div>\n",
       "<style scoped>\n",
       "    .dataframe tbody tr th:only-of-type {\n",
       "        vertical-align: middle;\n",
       "    }\n",
       "\n",
       "    .dataframe tbody tr th {\n",
       "        vertical-align: top;\n",
       "    }\n",
       "\n",
       "    .dataframe thead th {\n",
       "        text-align: right;\n",
       "    }\n",
       "</style>\n",
       "<table border=\"1\" class=\"dataframe\">\n",
       "  <thead>\n",
       "    <tr style=\"text-align: right;\">\n",
       "      <th></th>\n",
       "      <th>SUBCLASS</th>\n",
       "      <th>A2M</th>\n",
       "      <th>AAAS</th>\n",
       "      <th>AADAT</th>\n",
       "      <th>AARS1</th>\n",
       "      <th>ABAT</th>\n",
       "      <th>ABCA1</th>\n",
       "      <th>ABCA2</th>\n",
       "      <th>ABCA3</th>\n",
       "      <th>ABCA4</th>\n",
       "      <th>...</th>\n",
       "      <th>ZNF292</th>\n",
       "      <th>ZNF365</th>\n",
       "      <th>ZNF639</th>\n",
       "      <th>ZNF707</th>\n",
       "      <th>ZNFX1</th>\n",
       "      <th>ZNRF4</th>\n",
       "      <th>ZPBP</th>\n",
       "      <th>ZW10</th>\n",
       "      <th>ZWINT</th>\n",
       "      <th>ZYX</th>\n",
       "    </tr>\n",
       "  </thead>\n",
       "  <tbody>\n",
       "    <tr>\n",
       "      <th>0</th>\n",
       "      <td>8</td>\n",
       "      <td>0</td>\n",
       "      <td>0</td>\n",
       "      <td>0</td>\n",
       "      <td>0</td>\n",
       "      <td>0</td>\n",
       "      <td>0</td>\n",
       "      <td>0</td>\n",
       "      <td>0</td>\n",
       "      <td>0</td>\n",
       "      <td>...</td>\n",
       "      <td>0</td>\n",
       "      <td>0</td>\n",
       "      <td>0</td>\n",
       "      <td>0</td>\n",
       "      <td>0</td>\n",
       "      <td>0</td>\n",
       "      <td>0</td>\n",
       "      <td>0</td>\n",
       "      <td>0</td>\n",
       "      <td>0</td>\n",
       "    </tr>\n",
       "    <tr>\n",
       "      <th>1</th>\n",
       "      <td>19</td>\n",
       "      <td>0</td>\n",
       "      <td>0</td>\n",
       "      <td>0</td>\n",
       "      <td>0</td>\n",
       "      <td>0</td>\n",
       "      <td>0</td>\n",
       "      <td>0</td>\n",
       "      <td>0</td>\n",
       "      <td>0</td>\n",
       "      <td>...</td>\n",
       "      <td>0</td>\n",
       "      <td>0</td>\n",
       "      <td>0</td>\n",
       "      <td>0</td>\n",
       "      <td>0</td>\n",
       "      <td>0</td>\n",
       "      <td>0</td>\n",
       "      <td>0</td>\n",
       "      <td>0</td>\n",
       "      <td>0</td>\n",
       "    </tr>\n",
       "    <tr>\n",
       "      <th>2</th>\n",
       "      <td>20</td>\n",
       "      <td>R895R</td>\n",
       "      <td>0</td>\n",
       "      <td>0</td>\n",
       "      <td>0</td>\n",
       "      <td>0</td>\n",
       "      <td>0</td>\n",
       "      <td>0</td>\n",
       "      <td>0</td>\n",
       "      <td>0</td>\n",
       "      <td>...</td>\n",
       "      <td>0</td>\n",
       "      <td>0</td>\n",
       "      <td>0</td>\n",
       "      <td>0</td>\n",
       "      <td>0</td>\n",
       "      <td>0</td>\n",
       "      <td>0</td>\n",
       "      <td>0</td>\n",
       "      <td>0</td>\n",
       "      <td>0</td>\n",
       "    </tr>\n",
       "    <tr>\n",
       "      <th>3</th>\n",
       "      <td>9</td>\n",
       "      <td>0</td>\n",
       "      <td>0</td>\n",
       "      <td>0</td>\n",
       "      <td>0</td>\n",
       "      <td>0</td>\n",
       "      <td>0</td>\n",
       "      <td>0</td>\n",
       "      <td>0</td>\n",
       "      <td>0</td>\n",
       "      <td>...</td>\n",
       "      <td>0</td>\n",
       "      <td>0</td>\n",
       "      <td>0</td>\n",
       "      <td>0</td>\n",
       "      <td>0</td>\n",
       "      <td>0</td>\n",
       "      <td>0</td>\n",
       "      <td>0</td>\n",
       "      <td>0</td>\n",
       "      <td>0</td>\n",
       "    </tr>\n",
       "    <tr>\n",
       "      <th>4</th>\n",
       "      <td>6</td>\n",
       "      <td>0</td>\n",
       "      <td>0</td>\n",
       "      <td>0</td>\n",
       "      <td>0</td>\n",
       "      <td>0</td>\n",
       "      <td>0</td>\n",
       "      <td>0</td>\n",
       "      <td>0</td>\n",
       "      <td>0</td>\n",
       "      <td>...</td>\n",
       "      <td>0</td>\n",
       "      <td>0</td>\n",
       "      <td>0</td>\n",
       "      <td>0</td>\n",
       "      <td>0</td>\n",
       "      <td>0</td>\n",
       "      <td>0</td>\n",
       "      <td>0</td>\n",
       "      <td>0</td>\n",
       "      <td>0</td>\n",
       "    </tr>\n",
       "  </tbody>\n",
       "</table>\n",
       "<p>5 rows × 4385 columns</p>\n",
       "</div>"
      ],
      "text/plain": [
       "   SUBCLASS    A2M AAAS AADAT  AARS1 ABAT ABCA1 ABCA2 ABCA3 ABCA4  ... ZNF292  \\\n",
       "0         8      0    0     0      0    0     0     0     0     0  ...      0   \n",
       "1        19      0    0     0      0    0     0     0     0     0  ...      0   \n",
       "2        20  R895R    0     0      0    0     0     0     0     0  ...      0   \n",
       "3         9      0    0     0      0    0     0     0     0     0  ...      0   \n",
       "4         6      0    0     0      0    0     0     0     0     0  ...      0   \n",
       "\n",
       "  ZNF365 ZNF639 ZNF707 ZNFX1 ZNRF4 ZPBP ZW10 ZWINT ZYX  \n",
       "0      0      0      0     0     0    0    0     0   0  \n",
       "1      0      0      0     0     0    0    0     0   0  \n",
       "2      0      0      0     0     0    0    0     0   0  \n",
       "3      0      0      0     0     0    0    0     0   0  \n",
       "4      0      0      0     0     0    0    0     0   0  \n",
       "\n",
       "[5 rows x 4385 columns]"
      ]
     },
     "execution_count": 124,
     "metadata": {},
     "output_type": "execute_result"
    }
   ],
   "source": [
    "train.head()"
   ]
  },
  {
   "cell_type": "code",
   "execution_count": 125,
   "id": "bc7721cb-cb95-43fb-939f-d3f8a11e864f",
   "metadata": {},
   "outputs": [
    {
     "data": {
      "text/plain": [
       "141"
      ]
     },
     "execution_count": 125,
     "metadata": {},
     "output_type": "execute_result"
    }
   ],
   "source": [
    "len(train.loc[:, 'A2M'].value_counts())"
   ]
  },
  {
   "cell_type": "code",
   "execution_count": 126,
   "id": "89bb04ed-abe0-4a00-9877-5485be1c6d40",
   "metadata": {},
   "outputs": [
    {
     "name": "stderr",
     "output_type": "stream",
     "text": [
      "100%|██████████████████████████████████████████████████████████████████████████████| 4384/4384 [03:07<00:00, 23.32it/s]\n"
     ]
    }
   ],
   "source": [
    "for i in tqdm(test.columns):\n",
    "    if len(train.loc[:, i].value_counts()) == 1:\n",
    "        train.drop(columns=i, axis=1, inplace=True)\n",
    "        test.drop(columns=i, axis=1, inplace=True)\n",
    "    elif len(test.loc[:, i].value_counts()) == 1:\n",
    "        train.drop(columns=i, axis=1, inplace=True)\n",
    "        test.drop(columns=i, axis=1, inplace=True)"
   ]
  },
  {
   "cell_type": "markdown",
   "id": "6e1c0c75-bce9-46b6-b4d0-6ca33609c6dc",
   "metadata": {},
   "source": [
    "train.to_csv(\"../data/preprocessing/train.csv\", encoding='utf8', index=False)  \n",
    "test.to_csv(\"../data/preprocessing/test.csv\", encoding='utf8', index=False)"
   ]
  },
  {
   "cell_type": "code",
   "execution_count": 177,
   "id": "8e71b7c7-d6c3-470a-b41a-b812a4d1d8a5",
   "metadata": {},
   "outputs": [],
   "source": [
    "train = pd.read_csv(\"../data/preprocessing/train.csv\")\n",
    "test = pd.read_csv(\"../data/preprocessing/test.csv\")"
   ]
  },
  {
   "cell_type": "code",
   "execution_count": 178,
   "id": "2e55027f-e297-4c5a-8a9d-ea9ef3f8e987",
   "metadata": {},
   "outputs": [],
   "source": [
    "import re\n",
    "\n",
    "def extract_numbers(s):\n",
    "    # 입력값이 문자열이 아닐 경우 문자열로 변환\n",
    "    if not isinstance(s, str):\n",
    "        s = str(s)\n",
    "    match = re.search(r'\\d+', s)\n",
    "    if match:\n",
    "        return match.group()\n",
    "    else:\n",
    "        return None"
   ]
  },
  {
   "cell_type": "code",
   "execution_count": 179,
   "id": "e9a85b62-8d07-4d6a-88f2-e03d967f9e58",
   "metadata": {},
   "outputs": [
    {
     "name": "stderr",
     "output_type": "stream",
     "text": [
      "100%|██████████████████████████████████████████████████████████████████████████████| 4225/4225 [03:44<00:00, 18.85it/s]\n"
     ]
    }
   ],
   "source": [
    "for i in tqdm(test.columns):\n",
    "    A = train.loc[:, i].str.split(expand=True).fillna(0)\n",
    "    for j in range(len(A.columns)):\n",
    "        A[j] = A[j].apply(extract_numbers)\n",
    "    A = A.astype('int')\n",
    "    \n",
    "    train.loc[:, i] = A.sum(axis=1)"
   ]
  },
  {
   "cell_type": "code",
   "execution_count": 180,
   "id": "cb1b8fcb-a03d-482a-af39-2192c0f65227",
   "metadata": {},
   "outputs": [
    {
     "name": "stderr",
     "output_type": "stream",
     "text": [
      "100%|██████████████████████████████████████████████████████████████████████████████| 4225/4225 [00:51<00:00, 82.21it/s]\n"
     ]
    }
   ],
   "source": [
    "for i in tqdm(test.columns):\n",
    "    A = test.loc[:, i].str.split(expand=True).fillna(0)\n",
    "    for j in range(len(A.columns)):\n",
    "        A[j] = A[j].apply(extract_numbers)\n",
    "    A = A.astype('int')\n",
    "    \n",
    "    test.loc[:, i] = A.sum(axis=1)"
   ]
  },
  {
   "cell_type": "code",
   "execution_count": 190,
   "id": "19b83b72-d24f-4365-994c-ecbc5357da8d",
   "metadata": {},
   "outputs": [],
   "source": [
    "train = train.astype('int')\n",
    "test = test.astype('int')"
   ]
  },
  {
   "cell_type": "markdown",
   "id": "d7099abe-87bc-44a4-ab08-21e022a3fc47",
   "metadata": {},
   "source": [
    "train.to_csv(\"../data/preprocessing/train_001.csv\", encoding='utf8', index=False)  \n",
    "test.to_csv(\"../data/preprocessing/test_001.csv\", encoding='utf8', index=False)"
   ]
  },
  {
   "cell_type": "code",
   "execution_count": 263,
   "id": "18aa82de-14ae-4eea-959d-3cb3449ea5de",
   "metadata": {},
   "outputs": [],
   "source": [
    "train = pd.read_csv(\"../data/preprocessing/train_001.csv\")\n",
    "test = pd.read_csv(\"../data/preprocessing/test_001.csv\")"
   ]
  },
  {
   "cell_type": "code",
   "execution_count": 264,
   "id": "82bdc662-8827-4495-8e52-7da2fe395021",
   "metadata": {},
   "outputs": [],
   "source": [
    "X = train[test.columns]\n",
    "y = train['SUBCLASS']"
   ]
  },
  {
   "cell_type": "markdown",
   "id": "211dd88c-7816-421e-9774-463c4aa808ca",
   "metadata": {},
   "source": [
    "from sklearn.decomposition import TruncatedSVD\n",
    "svd = TruncatedSVD(n_components=400)\n",
    "X_train_reduced = svd.fit_transform(X)"
   ]
  },
  {
   "cell_type": "markdown",
   "id": "79699d16-05be-4058-aa55-87bc7d9b426f",
   "metadata": {},
   "source": [
    "---"
   ]
  },
  {
   "cell_type": "code",
   "execution_count": 265,
   "id": "2023796f-0820-4196-b0dd-09e2abde2555",
   "metadata": {},
   "outputs": [],
   "source": [
    "from sklearn.model_selection import train_test_split"
   ]
  },
  {
   "cell_type": "code",
   "execution_count": 266,
   "id": "353fcb90-1e48-4d67-9410-266f98d0ac94",
   "metadata": {},
   "outputs": [],
   "source": [
    "x_train, x_test, y_train, y_test = train_test_split(X, y, test_size=0.3, random_state=42)"
   ]
  },
  {
   "cell_type": "code",
   "execution_count": 267,
   "id": "6f536620-78c6-45d7-bf02-b01888b5dea9",
   "metadata": {},
   "outputs": [],
   "source": [
    "import matplotlib.pyplot as plt"
   ]
  },
  {
   "cell_type": "markdown",
   "id": "b35827cd-d3ae-45a1-b451-d811ecb58a68",
   "metadata": {},
   "source": [
    "# Xgboost"
   ]
  },
  {
   "cell_type": "code",
   "execution_count": 268,
   "id": "46e7de15-8d10-43f8-bafd-ac07f31fd5ff",
   "metadata": {},
   "outputs": [],
   "source": [
    "import xgboost as xgb"
   ]
  },
  {
   "cell_type": "code",
   "execution_count": 269,
   "id": "b705601b-ee89-4b6a-bdbf-77ed657e23b5",
   "metadata": {},
   "outputs": [],
   "source": [
    "dtrain = xgb.DMatrix(data = x_train, label = y_train)\n",
    "dtest = xgb.DMatrix(data = x_test, label = y_test)"
   ]
  },
  {
   "cell_type": "code",
   "execution_count": 278,
   "id": "89b2ce6f-40f4-4462-ba5e-2ccf5cc82fde",
   "metadata": {},
   "outputs": [],
   "source": [
    "params = {\n",
    "    'objective': 'multi:softmax',  # 다중 분류\n",
    "    'num_class': 26,               # 클래스 수\n",
    "    'eval_metric': 'mlogloss',     # 평가 지표\n",
    "    'seed' : 42,\n",
    "    'alpha': 0.5,  # L1 정규화\n",
    "    'lambda': 1.5,  # L2 정규화,\n",
    "    'max_depth': 4,  # 트리 깊이 줄이기\n",
    "    # 'learning_rate': 0.01,  # 학습률 조정\n",
    "}"
   ]
  },
  {
   "cell_type": "code",
   "execution_count": 279,
   "id": "21638072-d89a-46d9-9510-0e14bbf55372",
   "metadata": {},
   "outputs": [
    {
     "name": "stdout",
     "output_type": "stream",
     "text": [
      "[0]\ttrain-mlogloss:2.67415\teval-mlogloss:2.76080\n",
      "[1]\ttrain-mlogloss:2.47218\teval-mlogloss:2.60565\n",
      "[2]\ttrain-mlogloss:2.33162\teval-mlogloss:2.50858\n",
      "[3]\ttrain-mlogloss:2.22572\teval-mlogloss:2.43550\n",
      "[4]\ttrain-mlogloss:2.13961\teval-mlogloss:2.38414\n",
      "[5]\ttrain-mlogloss:2.06800\teval-mlogloss:2.33987\n",
      "[6]\ttrain-mlogloss:2.00752\teval-mlogloss:2.30733\n",
      "[7]\ttrain-mlogloss:1.95437\teval-mlogloss:2.27812\n",
      "[8]\ttrain-mlogloss:1.90948\teval-mlogloss:2.25491\n",
      "[9]\ttrain-mlogloss:1.86886\teval-mlogloss:2.23608\n",
      "[10]\ttrain-mlogloss:1.83339\teval-mlogloss:2.21844\n",
      "[11]\ttrain-mlogloss:1.80010\teval-mlogloss:2.20175\n",
      "[12]\ttrain-mlogloss:1.77194\teval-mlogloss:2.19092\n",
      "[13]\ttrain-mlogloss:1.74441\teval-mlogloss:2.17982\n",
      "[14]\ttrain-mlogloss:1.71994\teval-mlogloss:2.16982\n",
      "[15]\ttrain-mlogloss:1.69866\teval-mlogloss:2.16167\n",
      "[16]\ttrain-mlogloss:1.67714\teval-mlogloss:2.15375\n",
      "[17]\ttrain-mlogloss:1.65661\teval-mlogloss:2.14568\n",
      "[18]\ttrain-mlogloss:1.63777\teval-mlogloss:2.14079\n",
      "[19]\ttrain-mlogloss:1.61924\teval-mlogloss:2.13677\n",
      "[20]\ttrain-mlogloss:1.60181\teval-mlogloss:2.13375\n",
      "[21]\ttrain-mlogloss:1.58663\teval-mlogloss:2.12773\n",
      "[22]\ttrain-mlogloss:1.57073\teval-mlogloss:2.12363\n",
      "[23]\ttrain-mlogloss:1.55618\teval-mlogloss:2.12129\n",
      "[24]\ttrain-mlogloss:1.54260\teval-mlogloss:2.11779\n",
      "[25]\ttrain-mlogloss:1.52913\teval-mlogloss:2.11380\n",
      "[26]\ttrain-mlogloss:1.51682\teval-mlogloss:2.11252\n",
      "[27]\ttrain-mlogloss:1.50479\teval-mlogloss:2.11105\n",
      "[28]\ttrain-mlogloss:1.49249\teval-mlogloss:2.10805\n",
      "[29]\ttrain-mlogloss:1.48086\teval-mlogloss:2.10748\n",
      "[30]\ttrain-mlogloss:1.47009\teval-mlogloss:2.10411\n",
      "[31]\ttrain-mlogloss:1.45911\teval-mlogloss:2.10169\n",
      "[32]\ttrain-mlogloss:1.44853\teval-mlogloss:2.10012\n",
      "[33]\ttrain-mlogloss:1.43789\teval-mlogloss:2.09684\n",
      "[34]\ttrain-mlogloss:1.42741\teval-mlogloss:2.09680\n",
      "[35]\ttrain-mlogloss:1.41789\teval-mlogloss:2.09712\n",
      "[36]\ttrain-mlogloss:1.40856\teval-mlogloss:2.09601\n",
      "[37]\ttrain-mlogloss:1.39975\teval-mlogloss:2.09622\n",
      "[38]\ttrain-mlogloss:1.39048\teval-mlogloss:2.09400\n",
      "[39]\ttrain-mlogloss:1.38150\teval-mlogloss:2.09364\n",
      "[40]\ttrain-mlogloss:1.37291\teval-mlogloss:2.09216\n",
      "[41]\ttrain-mlogloss:1.36430\teval-mlogloss:2.09132\n",
      "[42]\ttrain-mlogloss:1.35635\teval-mlogloss:2.08947\n",
      "[43]\ttrain-mlogloss:1.34837\teval-mlogloss:2.08759\n",
      "[44]\ttrain-mlogloss:1.34040\teval-mlogloss:2.08613\n",
      "[45]\ttrain-mlogloss:1.33250\teval-mlogloss:2.08526\n",
      "[46]\ttrain-mlogloss:1.32520\teval-mlogloss:2.08462\n",
      "[47]\ttrain-mlogloss:1.31813\teval-mlogloss:2.08434\n",
      "[48]\ttrain-mlogloss:1.31083\teval-mlogloss:2.08414\n",
      "[49]\ttrain-mlogloss:1.30358\teval-mlogloss:2.08500\n",
      "[50]\ttrain-mlogloss:1.29634\teval-mlogloss:2.08440\n",
      "[51]\ttrain-mlogloss:1.28930\teval-mlogloss:2.08480\n",
      "[52]\ttrain-mlogloss:1.28237\teval-mlogloss:2.08523\n",
      "[53]\ttrain-mlogloss:1.27578\teval-mlogloss:2.08427\n",
      "[54]\ttrain-mlogloss:1.26897\teval-mlogloss:2.08416\n",
      "[55]\ttrain-mlogloss:1.26249\teval-mlogloss:2.08327\n",
      "[56]\ttrain-mlogloss:1.25578\teval-mlogloss:2.08387\n",
      "[57]\ttrain-mlogloss:1.24974\teval-mlogloss:2.08280\n",
      "[58]\ttrain-mlogloss:1.24383\teval-mlogloss:2.08220\n",
      "[59]\ttrain-mlogloss:1.23793\teval-mlogloss:2.08283\n",
      "[60]\ttrain-mlogloss:1.23183\teval-mlogloss:2.08229\n",
      "[61]\ttrain-mlogloss:1.22626\teval-mlogloss:2.08213\n",
      "[62]\ttrain-mlogloss:1.22056\teval-mlogloss:2.08285\n",
      "[63]\ttrain-mlogloss:1.21479\teval-mlogloss:2.08220\n",
      "[64]\ttrain-mlogloss:1.20945\teval-mlogloss:2.08295\n",
      "[65]\ttrain-mlogloss:1.20400\teval-mlogloss:2.08305\n",
      "[66]\ttrain-mlogloss:1.19855\teval-mlogloss:2.08335\n",
      "[67]\ttrain-mlogloss:1.19337\teval-mlogloss:2.08289\n",
      "[68]\ttrain-mlogloss:1.18830\teval-mlogloss:2.08250\n",
      "[69]\ttrain-mlogloss:1.18332\teval-mlogloss:2.08321\n",
      "[70]\ttrain-mlogloss:1.17818\teval-mlogloss:2.08326\n"
     ]
    }
   ],
   "source": [
    "wlist = [(dtrain, \"train\"), (dtest, \"eval\")]\n",
    "\n",
    "xgb_model = xgb.train(params = params, dtrain = dtrain, num_boost_round = 400,\n",
    "                      evals = wlist, early_stopping_rounds=10)"
   ]
  },
  {
   "cell_type": "code",
   "execution_count": 280,
   "id": "da128ef9-63d2-46a3-b39e-9cc1bc63a427",
   "metadata": {},
   "outputs": [],
   "source": [
    "from sklearn.metrics import accuracy_score"
   ]
  },
  {
   "cell_type": "code",
   "execution_count": 281,
   "id": "2060adaf-79af-402b-88af-466f06ed3dfd",
   "metadata": {},
   "outputs": [
    {
     "data": {
      "text/plain": [
       "0.6986175115207374"
      ]
     },
     "execution_count": 281,
     "metadata": {},
     "output_type": "execute_result"
    }
   ],
   "source": [
    "accuracy_score(y_train, xgb_model.predict(dtrain))"
   ]
  },
  {
   "cell_type": "code",
   "execution_count": 282,
   "id": "b68185ab-296f-48ce-995e-15fa057089cd",
   "metadata": {},
   "outputs": [
    {
     "data": {
      "text/plain": [
       "0.3530360021493821"
      ]
     },
     "execution_count": 282,
     "metadata": {},
     "output_type": "execute_result"
    }
   ],
   "source": [
    "accuracy_score(y_test, xgb_model.predict(dtest))"
   ]
  },
  {
   "cell_type": "markdown",
   "id": "a0540d89-2ce6-404f-8795-a6bc9222d1b8",
   "metadata": {},
   "source": [
    "---"
   ]
  },
  {
   "cell_type": "code",
   "execution_count": 284,
   "id": "a46f649a-fa48-482d-9fcb-f9d35cc2da3f",
   "metadata": {},
   "outputs": [],
   "source": [
    "test_DM = xgb.DMatrix(data=test)"
   ]
  },
  {
   "cell_type": "code",
   "execution_count": 285,
   "id": "963bc774-b588-4b66-b3bc-a84503639175",
   "metadata": {},
   "outputs": [],
   "source": [
    "test_predict = xgb_model.predict(test_DM).astype('int')"
   ]
  },
  {
   "cell_type": "code",
   "execution_count": 286,
   "id": "f09c4dfe-576e-45b8-82b6-f89e9c6f49f3",
   "metadata": {},
   "outputs": [],
   "source": [
    "test_predict = le.inverse_transform(test_predict)"
   ]
  },
  {
   "cell_type": "code",
   "execution_count": 287,
   "id": "41e81918-33b8-4799-9c12-02eee2219a53",
   "metadata": {},
   "outputs": [],
   "source": [
    "submission = pd.read_csv(\"../data/raw_data/sample_submission.csv\")"
   ]
  },
  {
   "cell_type": "code",
   "execution_count": 288,
   "id": "28d7c1f1-f877-4304-8b1d-bfeb9632037f",
   "metadata": {},
   "outputs": [],
   "source": [
    "submission['SUBCLASS'] = test_predict"
   ]
  },
  {
   "cell_type": "code",
   "execution_count": 289,
   "id": "8a762b77-e769-4eda-a298-d95f7092b2f8",
   "metadata": {},
   "outputs": [],
   "source": [
    "submission.to_csv(\"../data/submission/submission_10.csv\", index=False)"
   ]
  }
 ],
 "metadata": {
  "kernelspec": {
   "display_name": "Python 3 (ipykernel)",
   "language": "python",
   "name": "python3"
  },
  "language_info": {
   "codemirror_mode": {
    "name": "ipython",
    "version": 3
   },
   "file_extension": ".py",
   "mimetype": "text/x-python",
   "name": "python",
   "nbconvert_exporter": "python",
   "pygments_lexer": "ipython3",
   "version": "3.12.2"
  }
 },
 "nbformat": 4,
 "nbformat_minor": 5
}

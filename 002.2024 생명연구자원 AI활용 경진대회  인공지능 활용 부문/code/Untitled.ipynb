{
 "cells": [
  {
   "cell_type": "code",
   "execution_count": 1,
   "id": "d83fb1c1-7515-4214-a836-685f909707e8",
   "metadata": {},
   "outputs": [],
   "source": [
    "import warnings\n",
    "warnings.filterwarnings('ignore')\n",
    "\n",
    "import numpy as np\n",
    "import pandas as pd\n",
    "from tqdm import tqdm"
   ]
  },
  {
   "cell_type": "code",
   "execution_count": 2,
   "id": "f0cddc75-a1f2-4fc9-bc83-31209ea170e2",
   "metadata": {},
   "outputs": [],
   "source": [
    "train = pd.read_csv(\"../data/raw_data/train.csv\")\n",
    "test = pd.read_csv(\"../data/raw_data/test.csv\")"
   ]
  },
  {
   "cell_type": "code",
   "execution_count": 3,
   "id": "decb8251-915f-4325-b083-4f37e2d141dc",
   "metadata": {},
   "outputs": [],
   "source": [
    "train = train.drop(columns = ['ID'])\n",
    "test = test.drop(columns = ['ID'])"
   ]
  },
  {
   "cell_type": "code",
   "execution_count": 4,
   "id": "be72305b-095f-45dd-a133-b29cab2452e4",
   "metadata": {},
   "outputs": [],
   "source": [
    "from sklearn.preprocessing import LabelEncoder\n",
    "\n",
    "le = LabelEncoder()\n",
    "train['SUBCLASS'] = le.fit_transform(train['SUBCLASS'])"
   ]
  },
  {
   "cell_type": "code",
   "execution_count": 5,
   "id": "0ad9b565-fcac-49e0-9b15-d8422d5aed64",
   "metadata": {},
   "outputs": [],
   "source": [
    "X = train[test.columns]\n",
    "y = train['SUBCLASS']"
   ]
  },
  {
   "cell_type": "code",
   "execution_count": 6,
   "id": "c0990e04-04b5-4bb8-84d6-9ad584482af7",
   "metadata": {},
   "outputs": [],
   "source": [
    "import re"
   ]
  },
  {
   "cell_type": "code",
   "execution_count": 7,
   "id": "627b45df-1f47-45f3-8657-0e3b90f2b1ec",
   "metadata": {},
   "outputs": [],
   "source": [
    "def extract_numbers(s):\n",
    "    # 입력값이 문자열이 아닐 경우 문자열로 변환\n",
    "\n",
    "    if not isinstance(s, str):\n",
    "        s = str(s)\n",
    "    match = re.match(r\"([A-Za-z]+)(\\d+)([A-Za-z]+)\", s)\n",
    "    if match:\n",
    "        original = match.group(1)  # 첫 번째 그룹: 원래 아미노산\n",
    "        position = match.group(2)  # 두 번째 그룹: 변이 위치\n",
    "        new = match.group(3)       # 세 번째 그룹: 새로운 아미노산\n",
    "\n",
    "        return [original, position, new]\n",
    "    else:\n",
    "        None"
   ]
  },
  {
   "cell_type": "code",
   "execution_count": 37,
   "id": "10d2a859-0549-4118-9398-8b77f2a8a0d5",
   "metadata": {},
   "outputs": [],
   "source": [
    "amino_acid_dict = {\n",
    "    'A': 1, 'C': 2, 'D': 3, 'E': 4, 'F': 5, 'G': 6, 'H': 7, 'I': 8, 'K': 9, 'L': 10, \n",
    "    'M': 11, 'N': 12, 'P': 13, 'Q': 14, 'R': 15, 'S': 16, 'T': 17, 'V': 18, 'W': 19, 'Y': 20, 'fs' : -1\n",
    "}\n",
    "\n",
    "def encode_sequence(sequence):\n",
    "    return [amino_acid_dict[aa] for aa in sequence]"
   ]
  },
  {
   "cell_type": "code",
   "execution_count": 139,
   "id": "1dd67800-6d9b-4306-a95a-44208ec5f641",
   "metadata": {},
   "outputs": [],
   "source": [
    "X = X.map(lambda x : 0 if x == 'WT' else x)"
   ]
  },
  {
   "cell_type": "code",
   "execution_count": 140,
   "id": "319a2bb8-f3d9-4531-8c93-d0a6b23b45c0",
   "metadata": {},
   "outputs": [
    {
     "name": "stderr",
     "output_type": "stream",
     "text": [
      "100%|██████████████████████████████████████████████████████████| 4384/4384 [1:38:13<00:00,  1.34s/it]\n"
     ]
    }
   ],
   "source": [
    "for i in tqdm(X.columns):\n",
    "    X[i + '_original'] = 0\n",
    "    X[i + '_position'] = 0\n",
    "    X[i + '_new'] = 0\n",
    "\n",
    "    A = X[i].apply(extract_numbers)\n",
    "    A = A.fillna(0)\n",
    "\n",
    "    for j in range(len(X)):\n",
    "        try:\n",
    "            X.loc[j, i + '_original'], X.loc[j, i + '_position'], X.loc[j, i + '_new'] = A.loc[j][0], A.loc[j][1], A.loc[j][2]\n",
    "        except:\n",
    "            pass\n",
    "\n",
    "    X[i + '_position'] = X[i + '_position'].astype('int')\n",
    "    X.drop(columns=i, axis=1, inplace=True)"
   ]
  },
  {
   "cell_type": "markdown",
   "id": "34101f6c-64e2-4484-bde8-5aeb8387120c",
   "metadata": {},
   "source": [
    "X.to_csv(\"../data/preprocessing/X_002.csv\", index=False, encoding='utf-8')"
   ]
  },
  {
   "cell_type": "code",
   "execution_count": 160,
   "id": "a92e307f-33ca-45b5-ba69-025eaab289b4",
   "metadata": {},
   "outputs": [],
   "source": [
    "X = pd.read_csv(\"../data/preprocessing/X_002.csv\")"
   ]
  },
  {
   "cell_type": "code",
   "execution_count": 161,
   "id": "6ae09ffe-effc-460c-9b31-658b62503186",
   "metadata": {},
   "outputs": [
    {
     "data": {
      "text/html": [
       "<div>\n",
       "<style scoped>\n",
       "    .dataframe tbody tr th:only-of-type {\n",
       "        vertical-align: middle;\n",
       "    }\n",
       "\n",
       "    .dataframe tbody tr th {\n",
       "        vertical-align: top;\n",
       "    }\n",
       "\n",
       "    .dataframe thead th {\n",
       "        text-align: right;\n",
       "    }\n",
       "</style>\n",
       "<table border=\"1\" class=\"dataframe\">\n",
       "  <thead>\n",
       "    <tr style=\"text-align: right;\">\n",
       "      <th></th>\n",
       "      <th>A2M_original</th>\n",
       "      <th>A2M_position</th>\n",
       "      <th>A2M_new</th>\n",
       "      <th>AAAS_original</th>\n",
       "      <th>AAAS_position</th>\n",
       "      <th>AAAS_new</th>\n",
       "      <th>AADAT_original</th>\n",
       "      <th>AADAT_position</th>\n",
       "      <th>AADAT_new</th>\n",
       "      <th>AARS1_original</th>\n",
       "      <th>...</th>\n",
       "      <th>ZPBP_new</th>\n",
       "      <th>ZW10_original</th>\n",
       "      <th>ZW10_position</th>\n",
       "      <th>ZW10_new</th>\n",
       "      <th>ZWINT_original</th>\n",
       "      <th>ZWINT_position</th>\n",
       "      <th>ZWINT_new</th>\n",
       "      <th>ZYX_original</th>\n",
       "      <th>ZYX_position</th>\n",
       "      <th>ZYX_new</th>\n",
       "    </tr>\n",
       "  </thead>\n",
       "  <tbody>\n",
       "    <tr>\n",
       "      <th>0</th>\n",
       "      <td>0</td>\n",
       "      <td>0</td>\n",
       "      <td>0</td>\n",
       "      <td>0</td>\n",
       "      <td>0</td>\n",
       "      <td>0</td>\n",
       "      <td>0</td>\n",
       "      <td>0</td>\n",
       "      <td>0</td>\n",
       "      <td>0</td>\n",
       "      <td>...</td>\n",
       "      <td>0</td>\n",
       "      <td>0</td>\n",
       "      <td>0</td>\n",
       "      <td>0</td>\n",
       "      <td>0</td>\n",
       "      <td>0</td>\n",
       "      <td>0</td>\n",
       "      <td>0</td>\n",
       "      <td>0</td>\n",
       "      <td>0</td>\n",
       "    </tr>\n",
       "    <tr>\n",
       "      <th>1</th>\n",
       "      <td>0</td>\n",
       "      <td>0</td>\n",
       "      <td>0</td>\n",
       "      <td>0</td>\n",
       "      <td>0</td>\n",
       "      <td>0</td>\n",
       "      <td>0</td>\n",
       "      <td>0</td>\n",
       "      <td>0</td>\n",
       "      <td>0</td>\n",
       "      <td>...</td>\n",
       "      <td>0</td>\n",
       "      <td>0</td>\n",
       "      <td>0</td>\n",
       "      <td>0</td>\n",
       "      <td>0</td>\n",
       "      <td>0</td>\n",
       "      <td>0</td>\n",
       "      <td>0</td>\n",
       "      <td>0</td>\n",
       "      <td>0</td>\n",
       "    </tr>\n",
       "    <tr>\n",
       "      <th>2</th>\n",
       "      <td>R</td>\n",
       "      <td>895</td>\n",
       "      <td>R</td>\n",
       "      <td>0</td>\n",
       "      <td>0</td>\n",
       "      <td>0</td>\n",
       "      <td>0</td>\n",
       "      <td>0</td>\n",
       "      <td>0</td>\n",
       "      <td>0</td>\n",
       "      <td>...</td>\n",
       "      <td>0</td>\n",
       "      <td>0</td>\n",
       "      <td>0</td>\n",
       "      <td>0</td>\n",
       "      <td>0</td>\n",
       "      <td>0</td>\n",
       "      <td>0</td>\n",
       "      <td>0</td>\n",
       "      <td>0</td>\n",
       "      <td>0</td>\n",
       "    </tr>\n",
       "    <tr>\n",
       "      <th>3</th>\n",
       "      <td>0</td>\n",
       "      <td>0</td>\n",
       "      <td>0</td>\n",
       "      <td>0</td>\n",
       "      <td>0</td>\n",
       "      <td>0</td>\n",
       "      <td>0</td>\n",
       "      <td>0</td>\n",
       "      <td>0</td>\n",
       "      <td>0</td>\n",
       "      <td>...</td>\n",
       "      <td>0</td>\n",
       "      <td>0</td>\n",
       "      <td>0</td>\n",
       "      <td>0</td>\n",
       "      <td>0</td>\n",
       "      <td>0</td>\n",
       "      <td>0</td>\n",
       "      <td>0</td>\n",
       "      <td>0</td>\n",
       "      <td>0</td>\n",
       "    </tr>\n",
       "    <tr>\n",
       "      <th>4</th>\n",
       "      <td>0</td>\n",
       "      <td>0</td>\n",
       "      <td>0</td>\n",
       "      <td>0</td>\n",
       "      <td>0</td>\n",
       "      <td>0</td>\n",
       "      <td>0</td>\n",
       "      <td>0</td>\n",
       "      <td>0</td>\n",
       "      <td>0</td>\n",
       "      <td>...</td>\n",
       "      <td>0</td>\n",
       "      <td>0</td>\n",
       "      <td>0</td>\n",
       "      <td>0</td>\n",
       "      <td>0</td>\n",
       "      <td>0</td>\n",
       "      <td>0</td>\n",
       "      <td>0</td>\n",
       "      <td>0</td>\n",
       "      <td>0</td>\n",
       "    </tr>\n",
       "  </tbody>\n",
       "</table>\n",
       "<p>5 rows × 13152 columns</p>\n",
       "</div>"
      ],
      "text/plain": [
       "  A2M_original  A2M_position A2M_new AAAS_original  AAAS_position AAAS_new  \\\n",
       "0            0             0       0             0              0        0   \n",
       "1            0             0       0             0              0        0   \n",
       "2            R           895       R             0              0        0   \n",
       "3            0             0       0             0              0        0   \n",
       "4            0             0       0             0              0        0   \n",
       "\n",
       "  AADAT_original  AADAT_position AADAT_new  AARS1_original  ...  ZPBP_new  \\\n",
       "0              0               0         0               0  ...         0   \n",
       "1              0               0         0               0  ...         0   \n",
       "2              0               0         0               0  ...         0   \n",
       "3              0               0         0               0  ...         0   \n",
       "4              0               0         0               0  ...         0   \n",
       "\n",
       "   ZW10_original ZW10_position  ZW10_new ZWINT_original ZWINT_position  \\\n",
       "0              0             0         0              0              0   \n",
       "1              0             0         0              0              0   \n",
       "2              0             0         0              0              0   \n",
       "3              0             0         0              0              0   \n",
       "4              0             0         0              0              0   \n",
       "\n",
       "   ZWINT_new ZYX_original ZYX_position  ZYX_new  \n",
       "0          0            0            0        0  \n",
       "1          0            0            0        0  \n",
       "2          0            0            0        0  \n",
       "3          0            0            0        0  \n",
       "4          0            0            0        0  \n",
       "\n",
       "[5 rows x 13152 columns]"
      ]
     },
     "execution_count": 161,
     "metadata": {},
     "output_type": "execute_result"
    }
   ],
   "source": [
    "X.head()"
   ]
  },
  {
   "cell_type": "code",
   "execution_count": 162,
   "id": "8eb3da9d-3f53-44b9-85b5-73a687981168",
   "metadata": {},
   "outputs": [],
   "source": [
    "amino_acid_array = np.array([amino_acid_dict[aa] for aa in amino_acid_dict])"
   ]
  },
  {
   "cell_type": "code",
   "execution_count": 163,
   "id": "7d44eb6b-a61f-4bfb-9a32-54400f9e6a7f",
   "metadata": {},
   "outputs": [],
   "source": [
    "# 빠른 벡터화된 매핑 적용 (문자만 변환, 정수는 그대로 유지)\n",
    "def encode_dataframe(df):\n",
    "    def encode_cell(cell):\n",
    "        # 문자열일 경우에만 amino_acid_dict 변환 적용\n",
    "        if isinstance(cell, str):\n",
    "            return amino_acid_dict.get(cell, cell)  # 해당하지 않는 경우 원래 값을 반환\n",
    "        return cell  # 정수는 그대로 반환\n",
    "    \n",
    "    # applymap으로 셀별로 함수 적용\n",
    "    return df.applymap(encode_cell)"
   ]
  },
  {
   "cell_type": "code",
   "execution_count": 164,
   "id": "156f5552-f5a8-46c4-a652-3d3f24f1a1be",
   "metadata": {},
   "outputs": [],
   "source": [
    "X = encode_dataframe(X)"
   ]
  },
  {
   "cell_type": "code",
   "execution_count": 165,
   "id": "fbb8292f-39a9-4672-a728-c1c8c901d8fe",
   "metadata": {},
   "outputs": [
    {
     "name": "stderr",
     "output_type": "stream",
     "text": [
      "100%|████████████████████████████████████████████████████████| 13152/13152 [00:02<00:00, 5229.61it/s]\n"
     ]
    }
   ],
   "source": [
    "a = []\n",
    "\n",
    "for i in tqdm(X.columns):\n",
    "    try:\n",
    "        X[i].astype('int')\n",
    "    except:\n",
    "        a.append(i)"
   ]
  },
  {
   "cell_type": "code",
   "execution_count": 166,
   "id": "3dcc27bd-1ef6-480d-a529-77e103d09b31",
   "metadata": {},
   "outputs": [
    {
     "data": {
      "text/plain": [
       "627"
      ]
     },
     "execution_count": 166,
     "metadata": {},
     "output_type": "execute_result"
    }
   ],
   "source": [
    "len(a)"
   ]
  },
  {
   "cell_type": "code",
   "execution_count": 218,
   "id": "b462e361-339e-4508-9a03-927a498359ee",
   "metadata": {},
   "outputs": [],
   "source": [
    "tmp = X[a]"
   ]
  },
  {
   "cell_type": "code",
   "execution_count": 224,
   "id": "cfe4af92-a2b4-45ed-a460-2932df70bda2",
   "metadata": {},
   "outputs": [
    {
     "name": "stderr",
     "output_type": "stream",
     "text": [
      "100%|██████████████████████████████████████████████████████████████| 627/627 [07:24<00:00,  1.41it/s]\n"
     ]
    }
   ],
   "source": [
    "for i in tqdm(tmp.columns):\n",
    "    for j in range(len(tmp)):\n",
    "        try:\n",
    "            tmp.loc[j, i] = int(tmp.loc[j, i])\n",
    "        except:\n",
    "            tmp.loc[j, i] = sum(encode_sequence(list(tmp.loc[j,i].upper())))\n",
    "            pass"
   ]
  },
  {
   "cell_type": "code",
   "execution_count": 229,
   "id": "11c13850-9f2f-417a-ac5b-db705aba6c23",
   "metadata": {},
   "outputs": [],
   "source": [
    "tmp = tmp.astype('int')"
   ]
  },
  {
   "cell_type": "code",
   "execution_count": 232,
   "id": "8b454038-13ad-4ffd-bcc9-4da24bcf6fb9",
   "metadata": {},
   "outputs": [],
   "source": [
    "X[a] = tmp"
   ]
  },
  {
   "cell_type": "code",
   "execution_count": 241,
   "id": "a46a2ad0-52fc-4d02-ab3a-698f8d92aced",
   "metadata": {},
   "outputs": [],
   "source": [
    "X = X.astype('int')"
   ]
  },
  {
   "cell_type": "markdown",
   "id": "67c7e32c-944d-4e49-b55f-8b3e0741092f",
   "metadata": {},
   "source": [
    "X.to_csv(\"../data/preprocessing/X_003.csv\", index=False, encoding='utf-8')"
   ]
  },
  {
   "cell_type": "code",
   "execution_count": 245,
   "id": "2a547007-5f50-42ce-b2ca-f2574859019c",
   "metadata": {},
   "outputs": [],
   "source": [
    "from sklearn.model_selection import train_test_split"
   ]
  },
  {
   "cell_type": "code",
   "execution_count": 246,
   "id": "ff0a76a6-12b9-4b5e-acfc-73724fc60637",
   "metadata": {},
   "outputs": [],
   "source": [
    "x_train, x_test, y_train, y_test = train_test_split(X, y, test_size=0.3, random_state=42)"
   ]
  },
  {
   "cell_type": "markdown",
   "id": "227c2d86-6f79-45fd-a982-173ea7607e44",
   "metadata": {},
   "source": [
    "# Xgboost"
   ]
  },
  {
   "cell_type": "code",
   "execution_count": 247,
   "id": "03451f8c-6487-47cd-afdd-7a146928ef6d",
   "metadata": {},
   "outputs": [],
   "source": [
    "import xgboost as xgb"
   ]
  },
  {
   "cell_type": "code",
   "execution_count": 248,
   "id": "637d6128-0b40-45bb-81d7-a77763f8fdb9",
   "metadata": {},
   "outputs": [],
   "source": [
    "dtrain = xgb.DMatrix(data = x_train, label = y_train)\n",
    "dtest = xgb.DMatrix(data = x_test, label = y_test)"
   ]
  },
  {
   "cell_type": "code",
   "execution_count": 254,
   "id": "fbad1050-ba3e-4730-bd91-73f2d77dfab7",
   "metadata": {},
   "outputs": [],
   "source": [
    "params = {\n",
    "    'objective': 'multi:softmax',  # 다중 분류\n",
    "    'num_class': 26,               # 클래스 수\n",
    "    'eval_metric': 'mlogloss',     # 평가 지표\n",
    "    'seed' : 42,\n",
    "    'alpha': 0.1,  # L1 정규화\n",
    "    'lambda': 1,  # L2 정규화,\n",
    "    'max_depth': 4,  # 트리 깊이 줄이기\n",
    "    'learning_rate': 0.1,  # 학습률 조정\n",
    "}"
   ]
  },
  {
   "cell_type": "code",
   "execution_count": 255,
   "id": "44716938-4fde-439c-bae4-c0e37704b10b",
   "metadata": {},
   "outputs": [
    {
     "name": "stdout",
     "output_type": "stream",
     "text": [
      "[0]\ttrain-mlogloss:3.05580\teval-mlogloss:3.08886\n",
      "[1]\ttrain-mlogloss:2.92268\teval-mlogloss:2.98063\n",
      "[2]\ttrain-mlogloss:2.81794\teval-mlogloss:2.89984\n",
      "[3]\ttrain-mlogloss:2.73307\teval-mlogloss:2.83348\n",
      "[4]\ttrain-mlogloss:2.65898\teval-mlogloss:2.77814\n",
      "[5]\ttrain-mlogloss:2.59316\teval-mlogloss:2.73181\n",
      "[6]\ttrain-mlogloss:2.53566\teval-mlogloss:2.69070\n",
      "[7]\ttrain-mlogloss:2.48357\teval-mlogloss:2.65663\n",
      "[8]\ttrain-mlogloss:2.43646\teval-mlogloss:2.62594\n",
      "[9]\ttrain-mlogloss:2.39416\teval-mlogloss:2.59825\n",
      "[10]\ttrain-mlogloss:2.35417\teval-mlogloss:2.57227\n",
      "[11]\ttrain-mlogloss:2.31819\teval-mlogloss:2.54971\n",
      "[12]\ttrain-mlogloss:2.28347\teval-mlogloss:2.52948\n",
      "[13]\ttrain-mlogloss:2.25156\teval-mlogloss:2.51032\n",
      "[14]\ttrain-mlogloss:2.22233\teval-mlogloss:2.49266\n",
      "[15]\ttrain-mlogloss:2.19361\teval-mlogloss:2.47630\n",
      "[16]\ttrain-mlogloss:2.16710\teval-mlogloss:2.46100\n",
      "[17]\ttrain-mlogloss:2.14259\teval-mlogloss:2.44760\n",
      "[18]\ttrain-mlogloss:2.11931\teval-mlogloss:2.43485\n",
      "[19]\ttrain-mlogloss:2.09658\teval-mlogloss:2.42488\n",
      "[20]\ttrain-mlogloss:2.07575\teval-mlogloss:2.41511\n",
      "[21]\ttrain-mlogloss:2.05555\teval-mlogloss:2.40499\n",
      "[22]\ttrain-mlogloss:2.03599\teval-mlogloss:2.39614\n",
      "[23]\ttrain-mlogloss:2.01772\teval-mlogloss:2.38862\n",
      "[24]\ttrain-mlogloss:1.99947\teval-mlogloss:2.38047\n",
      "[25]\ttrain-mlogloss:1.98288\teval-mlogloss:2.37302\n",
      "[26]\ttrain-mlogloss:1.96667\teval-mlogloss:2.36687\n",
      "[27]\ttrain-mlogloss:1.95067\teval-mlogloss:2.35997\n",
      "[28]\ttrain-mlogloss:1.93532\teval-mlogloss:2.35378\n",
      "[29]\ttrain-mlogloss:1.92080\teval-mlogloss:2.34731\n",
      "[30]\ttrain-mlogloss:1.90687\teval-mlogloss:2.34151\n",
      "[31]\ttrain-mlogloss:1.89314\teval-mlogloss:2.33649\n",
      "[32]\ttrain-mlogloss:1.87995\teval-mlogloss:2.33160\n",
      "[33]\ttrain-mlogloss:1.86699\teval-mlogloss:2.32717\n",
      "[34]\ttrain-mlogloss:1.85468\teval-mlogloss:2.32260\n",
      "[35]\ttrain-mlogloss:1.84285\teval-mlogloss:2.31853\n",
      "[36]\ttrain-mlogloss:1.83084\teval-mlogloss:2.31403\n",
      "[37]\ttrain-mlogloss:1.81979\teval-mlogloss:2.31048\n",
      "[38]\ttrain-mlogloss:1.80897\teval-mlogloss:2.30722\n",
      "[39]\ttrain-mlogloss:1.79867\teval-mlogloss:2.30414\n",
      "[40]\ttrain-mlogloss:1.78834\teval-mlogloss:2.30046\n",
      "[41]\ttrain-mlogloss:1.77873\teval-mlogloss:2.29736\n",
      "[42]\ttrain-mlogloss:1.76880\teval-mlogloss:2.29466\n",
      "[43]\ttrain-mlogloss:1.75932\teval-mlogloss:2.29190\n",
      "[44]\ttrain-mlogloss:1.75016\teval-mlogloss:2.28876\n",
      "[45]\ttrain-mlogloss:1.74160\teval-mlogloss:2.28637\n",
      "[46]\ttrain-mlogloss:1.73296\teval-mlogloss:2.28417\n",
      "[47]\ttrain-mlogloss:1.72445\teval-mlogloss:2.28195\n",
      "[48]\ttrain-mlogloss:1.71596\teval-mlogloss:2.27957\n",
      "[49]\ttrain-mlogloss:1.70755\teval-mlogloss:2.27750\n",
      "[50]\ttrain-mlogloss:1.69930\teval-mlogloss:2.27515\n",
      "[51]\ttrain-mlogloss:1.69180\teval-mlogloss:2.27293\n",
      "[52]\ttrain-mlogloss:1.68429\teval-mlogloss:2.27119\n",
      "[53]\ttrain-mlogloss:1.67675\teval-mlogloss:2.26967\n",
      "[54]\ttrain-mlogloss:1.66947\teval-mlogloss:2.26774\n",
      "[55]\ttrain-mlogloss:1.66250\teval-mlogloss:2.26649\n",
      "[56]\ttrain-mlogloss:1.65545\teval-mlogloss:2.26496\n",
      "[57]\ttrain-mlogloss:1.64867\teval-mlogloss:2.26309\n",
      "[58]\ttrain-mlogloss:1.64185\teval-mlogloss:2.26117\n",
      "[59]\ttrain-mlogloss:1.63505\teval-mlogloss:2.25992\n",
      "[60]\ttrain-mlogloss:1.62846\teval-mlogloss:2.25888\n",
      "[61]\ttrain-mlogloss:1.62178\teval-mlogloss:2.25771\n",
      "[62]\ttrain-mlogloss:1.61546\teval-mlogloss:2.25642\n",
      "[63]\ttrain-mlogloss:1.60919\teval-mlogloss:2.25526\n",
      "[64]\ttrain-mlogloss:1.60307\teval-mlogloss:2.25461\n",
      "[65]\ttrain-mlogloss:1.59693\teval-mlogloss:2.25319\n",
      "[66]\ttrain-mlogloss:1.59086\teval-mlogloss:2.25169\n",
      "[67]\ttrain-mlogloss:1.58474\teval-mlogloss:2.25091\n",
      "[68]\ttrain-mlogloss:1.57885\teval-mlogloss:2.24922\n",
      "[69]\ttrain-mlogloss:1.57322\teval-mlogloss:2.24805\n",
      "[70]\ttrain-mlogloss:1.56790\teval-mlogloss:2.24727\n",
      "[71]\ttrain-mlogloss:1.56244\teval-mlogloss:2.24613\n",
      "[72]\ttrain-mlogloss:1.55692\teval-mlogloss:2.24542\n",
      "[73]\ttrain-mlogloss:1.55147\teval-mlogloss:2.24462\n",
      "[74]\ttrain-mlogloss:1.54609\teval-mlogloss:2.24340\n",
      "[75]\ttrain-mlogloss:1.54072\teval-mlogloss:2.24243\n",
      "[76]\ttrain-mlogloss:1.53506\teval-mlogloss:2.24141\n",
      "[77]\ttrain-mlogloss:1.52991\teval-mlogloss:2.24082\n",
      "[78]\ttrain-mlogloss:1.52484\teval-mlogloss:2.24050\n",
      "[79]\ttrain-mlogloss:1.51985\teval-mlogloss:2.23976\n",
      "[80]\ttrain-mlogloss:1.51457\teval-mlogloss:2.23860\n",
      "[81]\ttrain-mlogloss:1.50950\teval-mlogloss:2.23707\n",
      "[82]\ttrain-mlogloss:1.50450\teval-mlogloss:2.23592\n",
      "[83]\ttrain-mlogloss:1.49961\teval-mlogloss:2.23566\n",
      "[84]\ttrain-mlogloss:1.49499\teval-mlogloss:2.23521\n",
      "[85]\ttrain-mlogloss:1.49049\teval-mlogloss:2.23485\n",
      "[86]\ttrain-mlogloss:1.48570\teval-mlogloss:2.23425\n",
      "[87]\ttrain-mlogloss:1.48105\teval-mlogloss:2.23396\n",
      "[88]\ttrain-mlogloss:1.47634\teval-mlogloss:2.23323\n",
      "[89]\ttrain-mlogloss:1.47178\teval-mlogloss:2.23256\n",
      "[90]\ttrain-mlogloss:1.46731\teval-mlogloss:2.23225\n",
      "[91]\ttrain-mlogloss:1.46303\teval-mlogloss:2.23194\n",
      "[92]\ttrain-mlogloss:1.45864\teval-mlogloss:2.23126\n",
      "[93]\ttrain-mlogloss:1.45446\teval-mlogloss:2.23074\n",
      "[94]\ttrain-mlogloss:1.45034\teval-mlogloss:2.23057\n",
      "[95]\ttrain-mlogloss:1.44618\teval-mlogloss:2.23049\n",
      "[96]\ttrain-mlogloss:1.44179\teval-mlogloss:2.22944\n",
      "[97]\ttrain-mlogloss:1.43756\teval-mlogloss:2.22886\n",
      "[98]\ttrain-mlogloss:1.43342\teval-mlogloss:2.22886\n",
      "[99]\ttrain-mlogloss:1.42940\teval-mlogloss:2.22838\n",
      "[100]\ttrain-mlogloss:1.42524\teval-mlogloss:2.22858\n",
      "[101]\ttrain-mlogloss:1.42116\teval-mlogloss:2.22785\n",
      "[102]\ttrain-mlogloss:1.41719\teval-mlogloss:2.22803\n",
      "[103]\ttrain-mlogloss:1.41341\teval-mlogloss:2.22743\n",
      "[104]\ttrain-mlogloss:1.40936\teval-mlogloss:2.22743\n",
      "[105]\ttrain-mlogloss:1.40557\teval-mlogloss:2.22636\n",
      "[106]\ttrain-mlogloss:1.40170\teval-mlogloss:2.22625\n",
      "[107]\ttrain-mlogloss:1.39791\teval-mlogloss:2.22638\n",
      "[108]\ttrain-mlogloss:1.39407\teval-mlogloss:2.22580\n",
      "[109]\ttrain-mlogloss:1.39040\teval-mlogloss:2.22563\n",
      "[110]\ttrain-mlogloss:1.38675\teval-mlogloss:2.22544\n",
      "[111]\ttrain-mlogloss:1.38303\teval-mlogloss:2.22536\n",
      "[112]\ttrain-mlogloss:1.37925\teval-mlogloss:2.22507\n",
      "[113]\ttrain-mlogloss:1.37561\teval-mlogloss:2.22436\n",
      "[114]\ttrain-mlogloss:1.37204\teval-mlogloss:2.22414\n",
      "[115]\ttrain-mlogloss:1.36846\teval-mlogloss:2.22393\n",
      "[116]\ttrain-mlogloss:1.36490\teval-mlogloss:2.22386\n",
      "[117]\ttrain-mlogloss:1.36137\teval-mlogloss:2.22394\n",
      "[118]\ttrain-mlogloss:1.35756\teval-mlogloss:2.22340\n",
      "[119]\ttrain-mlogloss:1.35414\teval-mlogloss:2.22347\n",
      "[120]\ttrain-mlogloss:1.35055\teval-mlogloss:2.22321\n",
      "[121]\ttrain-mlogloss:1.34691\teval-mlogloss:2.22326\n",
      "[122]\ttrain-mlogloss:1.34362\teval-mlogloss:2.22316\n",
      "[123]\ttrain-mlogloss:1.34016\teval-mlogloss:2.22274\n",
      "[124]\ttrain-mlogloss:1.33670\teval-mlogloss:2.22255\n",
      "[125]\ttrain-mlogloss:1.33329\teval-mlogloss:2.22229\n",
      "[126]\ttrain-mlogloss:1.32979\teval-mlogloss:2.22199\n",
      "[127]\ttrain-mlogloss:1.32657\teval-mlogloss:2.22179\n",
      "[128]\ttrain-mlogloss:1.32328\teval-mlogloss:2.22163\n",
      "[129]\ttrain-mlogloss:1.32003\teval-mlogloss:2.22110\n",
      "[130]\ttrain-mlogloss:1.31688\teval-mlogloss:2.22108\n",
      "[131]\ttrain-mlogloss:1.31358\teval-mlogloss:2.22065\n",
      "[132]\ttrain-mlogloss:1.31029\teval-mlogloss:2.22060\n",
      "[133]\ttrain-mlogloss:1.30704\teval-mlogloss:2.22043\n",
      "[134]\ttrain-mlogloss:1.30389\teval-mlogloss:2.22024\n",
      "[135]\ttrain-mlogloss:1.30076\teval-mlogloss:2.22053\n",
      "[136]\ttrain-mlogloss:1.29764\teval-mlogloss:2.22008\n",
      "[137]\ttrain-mlogloss:1.29445\teval-mlogloss:2.21997\n",
      "[138]\ttrain-mlogloss:1.29145\teval-mlogloss:2.21999\n",
      "[139]\ttrain-mlogloss:1.28842\teval-mlogloss:2.22027\n",
      "[140]\ttrain-mlogloss:1.28537\teval-mlogloss:2.22072\n",
      "[141]\ttrain-mlogloss:1.28232\teval-mlogloss:2.22071\n",
      "[142]\ttrain-mlogloss:1.27945\teval-mlogloss:2.22086\n",
      "[143]\ttrain-mlogloss:1.27650\teval-mlogloss:2.22087\n",
      "[144]\ttrain-mlogloss:1.27361\teval-mlogloss:2.22057\n",
      "[145]\ttrain-mlogloss:1.27051\teval-mlogloss:2.22044\n",
      "[146]\ttrain-mlogloss:1.26761\teval-mlogloss:2.22044\n",
      "[147]\ttrain-mlogloss:1.26467\teval-mlogloss:2.22038\n"
     ]
    }
   ],
   "source": [
    "wlist = [(dtrain, \"train\"), (dtest, \"eval\")]\n",
    "\n",
    "xgb_model = xgb.train(params = params, dtrain = dtrain, num_boost_round = 400,\n",
    "                      evals = wlist, early_stopping_rounds=10)"
   ]
  },
  {
   "cell_type": "code",
   "execution_count": 256,
   "id": "462293c7-cb88-42b6-ba57-43f01f29addd",
   "metadata": {},
   "outputs": [],
   "source": [
    "from sklearn.metrics import accuracy_score"
   ]
  },
  {
   "cell_type": "code",
   "execution_count": 257,
   "id": "79faf366-4510-421f-974f-0ff7f1a80cad",
   "metadata": {},
   "outputs": [
    {
     "data": {
      "text/plain": [
       "0.7043778801843318"
      ]
     },
     "execution_count": 257,
     "metadata": {},
     "output_type": "execute_result"
    }
   ],
   "source": [
    "accuracy_score(y_train, xgb_model.predict(dtrain))"
   ]
  },
  {
   "cell_type": "code",
   "execution_count": 258,
   "id": "85d11591-66ee-4acc-9cd7-057087ab36f7",
   "metadata": {},
   "outputs": [
    {
     "data": {
      "text/plain": [
       "0.31649650725416445"
      ]
     },
     "execution_count": 258,
     "metadata": {},
     "output_type": "execute_result"
    }
   ],
   "source": [
    "accuracy_score(y_test, xgb_model.predict(dtest))"
   ]
  },
  {
   "cell_type": "markdown",
   "id": "e1ff459c-9319-4ad7-bcf4-ab5a25501746",
   "metadata": {},
   "source": [
    "---"
   ]
  },
  {
   "cell_type": "code",
   "execution_count": 260,
   "id": "615a9893-91d0-4b39-a497-62cd3d98d0a7",
   "metadata": {},
   "outputs": [],
   "source": [
    "test = test.map(lambda x : 0 if x == 'WT' else x)"
   ]
  },
  {
   "cell_type": "code",
   "execution_count": 261,
   "id": "60f5872d-139e-4561-aa23-7222dd5618e8",
   "metadata": {},
   "outputs": [
    {
     "name": "stderr",
     "output_type": "stream",
     "text": [
      "100%|████████████████████████████████████████████████████████████| 4384/4384 [27:26<00:00,  2.66it/s]\n"
     ]
    }
   ],
   "source": [
    "for i in tqdm(test.columns):\n",
    "    test[i + '_original'] = 0\n",
    "    test[i + '_position'] = 0\n",
    "    test[i + '_new'] = 0\n",
    "\n",
    "    A = test[i].apply(extract_numbers)\n",
    "    A = A.fillna(0)\n",
    "\n",
    "    for j in range(len(test)):\n",
    "        try:\n",
    "            test.loc[j, i + '_original'], test.loc[j, i + '_position'], test.loc[j, i + '_new'] = A.loc[j][0], A.loc[j][1], A.loc[j][2]\n",
    "        except:\n",
    "            pass\n",
    "\n",
    "    test[i + '_position'] = test[i + '_position'].astype('int')\n",
    "    test.drop(columns=i, axis=1, inplace=True)"
   ]
  },
  {
   "cell_type": "code",
   "execution_count": 262,
   "id": "9d82c947-e423-4c7d-8900-fd3a6f264b92",
   "metadata": {},
   "outputs": [],
   "source": [
    "test = encode_dataframe(test)"
   ]
  },
  {
   "cell_type": "code",
   "execution_count": 289,
   "id": "8a269ae2-25e7-43b0-9cb8-9a21b048db9c",
   "metadata": {},
   "outputs": [
    {
     "name": "stderr",
     "output_type": "stream",
     "text": [
      "100%|███████████████████████████████████████████████████████| 13152/13152 [00:00<00:00, 18406.11it/s]\n"
     ]
    }
   ],
   "source": [
    "a = []\n",
    "\n",
    "for i in tqdm(test.columns):\n",
    "    try:\n",
    "        test[i].astype('int')\n",
    "    except:\n",
    "        a.append(i)"
   ]
  },
  {
   "cell_type": "code",
   "execution_count": 290,
   "id": "11bf228e-e730-48fa-864d-c0dbef29cc36",
   "metadata": {},
   "outputs": [
    {
     "data": {
      "text/plain": [
       "3764"
      ]
     },
     "execution_count": 290,
     "metadata": {},
     "output_type": "execute_result"
    }
   ],
   "source": [
    "len(a)"
   ]
  },
  {
   "cell_type": "code",
   "execution_count": 291,
   "id": "9dcee3b8-3e80-4d33-920e-4ed7aa964b07",
   "metadata": {},
   "outputs": [],
   "source": [
    "tmp = test[a]"
   ]
  },
  {
   "cell_type": "markdown",
   "id": "9ed23c5e-762d-4d7a-b043-d2cec6e6b8df",
   "metadata": {},
   "source": [
    "test.to_csv(\"../data/preprocessing/Y_003.csv\", index=False, encoding='utf-8')"
   ]
  },
  {
   "cell_type": "code",
   "execution_count": null,
   "id": "853f2bb1-3dff-4a8e-a9fb-df1262c83390",
   "metadata": {},
   "outputs": [],
   "source": [
    "for i in tqdm(tmp.columns):\n",
    "    for j in range(len(tmp)):\n",
    "        try:\n",
    "            tmp.loc[j, i] = int(tmp.loc[j, i])\n",
    "        except:\n",
    "            try :\n",
    "                tmp.loc[j, i] = sum(encode_sequence(list(tmp.loc[j,i].upper())))\n",
    "            except:\n",
    "                tmp.loc[j, i] = -1\n",
    "                pass\n",
    "            pass"
   ]
  },
  {
   "cell_type": "code",
   "execution_count": null,
   "id": "4a5cf40b-fac2-4401-b1e2-8811ef41b113",
   "metadata": {},
   "outputs": [],
   "source": [
    "tmp = tmp.astype('int')"
   ]
  },
  {
   "cell_type": "code",
   "execution_count": null,
   "id": "7df273c0-384c-4285-b6c3-3c792fa9a0bd",
   "metadata": {},
   "outputs": [],
   "source": [
    "test[a] = tmp"
   ]
  },
  {
   "cell_type": "code",
   "execution_count": null,
   "id": "223b6a57-088a-4133-9380-e5bcfa283a9a",
   "metadata": {},
   "outputs": [],
   "source": [
    "test = test.astype('int')"
   ]
  },
  {
   "cell_type": "code",
   "execution_count": null,
   "id": "3196454e-5516-4530-b0db-305eabe21f7f",
   "metadata": {},
   "outputs": [],
   "source": [
    "test.to_csv(\"../data/preprocessing/Y_003.csv\", index=False, encoding='utf-8')"
   ]
  },
  {
   "cell_type": "code",
   "execution_count": null,
   "id": "ea2ece7c-bbab-4b7a-9ff9-c601ded53bb6",
   "metadata": {},
   "outputs": [],
   "source": [
    "test_DM = xgb.DMatrix(data=test)"
   ]
  },
  {
   "cell_type": "code",
   "execution_count": null,
   "id": "16d8b1b6-9806-45ce-aa4a-ba2334ebf31d",
   "metadata": {},
   "outputs": [],
   "source": [
    "test_predict = xgb_model.predict(test_DM).astype('int')"
   ]
  },
  {
   "cell_type": "code",
   "execution_count": null,
   "id": "40657234-00f6-47af-bef2-c6132ada22a1",
   "metadata": {},
   "outputs": [],
   "source": [
    "test_predict = le.inverse_transform(test_predict)"
   ]
  },
  {
   "cell_type": "code",
   "execution_count": null,
   "id": "73fecbe3-6cb0-446a-b226-e770867867ac",
   "metadata": {},
   "outputs": [],
   "source": [
    "submission = pd.read_csv(\"../data/raw_data/sample_submission.csv\")"
   ]
  },
  {
   "cell_type": "code",
   "execution_count": null,
   "id": "d80fbc82-041b-4667-9b63-b053e1850bec",
   "metadata": {},
   "outputs": [],
   "source": [
    "submission['SUBCLASS'] = test_predict"
   ]
  },
  {
   "cell_type": "code",
   "execution_count": null,
   "id": "85e6073c-0c25-4864-bc9f-310be3a21e02",
   "metadata": {},
   "outputs": [],
   "source": [
    "submission.to_csv(\"../data/submission/submission_12.csv\", index=False)"
   ]
  }
 ],
 "metadata": {
  "kernelspec": {
   "display_name": "Python 3 (ipykernel)",
   "language": "python",
   "name": "python3"
  },
  "language_info": {
   "codemirror_mode": {
    "name": "ipython",
    "version": 3
   },
   "file_extension": ".py",
   "mimetype": "text/x-python",
   "name": "python",
   "nbconvert_exporter": "python",
   "pygments_lexer": "ipython3",
   "version": "3.12.2"
  }
 },
 "nbformat": 4,
 "nbformat_minor": 5
}

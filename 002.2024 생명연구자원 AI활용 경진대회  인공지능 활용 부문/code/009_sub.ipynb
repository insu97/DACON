{
 "cells": [
  {
   "cell_type": "code",
   "execution_count": 1,
   "id": "2562c587-cbea-40fc-a0ca-4de0a719282e",
   "metadata": {},
   "outputs": [],
   "source": [
    "import pandas as pd\n",
    "from tqdm import tqdm\n",
    "import warnings\n",
    "warnings.filterwarnings('ignore')"
   ]
  },
  {
   "cell_type": "code",
   "execution_count": 2,
   "id": "5927d18f-32b1-49df-9e9f-3a64dd1910ea",
   "metadata": {},
   "outputs": [],
   "source": [
    "train = pd.read_csv(\"../data/raw_data/train.csv\")\n",
    "test = pd.read_csv(\"../data/raw_data/test.csv\")"
   ]
  },
  {
   "cell_type": "code",
   "execution_count": 3,
   "id": "e74c7e02-4857-440b-99dd-e6127e4f6821",
   "metadata": {},
   "outputs": [],
   "source": [
    "train = train.drop(columns = ['ID'])\n",
    "test = test.drop(columns = ['ID'])"
   ]
  },
  {
   "cell_type": "code",
   "execution_count": 4,
   "id": "b6a836ff-3676-4cef-822f-feb500bd1c84",
   "metadata": {},
   "outputs": [],
   "source": [
    "from sklearn.preprocessing import LabelEncoder\n",
    "\n",
    "le = LabelEncoder()\n",
    "train['SUBCLASS'] = le.fit_transform(train['SUBCLASS'])"
   ]
  },
  {
   "cell_type": "code",
   "execution_count": 5,
   "id": "26b8c1d2-4a4e-409b-a83a-ef2d2f62f0b9",
   "metadata": {},
   "outputs": [],
   "source": [
    "train[test.columns] = train[test.columns].map(lambda x: 0 if x == 'WT' else 1)\n",
    "test[test.columns] = test[test.columns].map(lambda x: 0 if x == 'WT' else 1)"
   ]
  },
  {
   "cell_type": "markdown",
   "id": "fb824bea-1e07-432c-803a-4e3557020a98",
   "metadata": {},
   "source": [
    "---"
   ]
  },
  {
   "cell_type": "code",
   "execution_count": 6,
   "id": "1ceda54d-61cb-49b9-a731-222324e7df09",
   "metadata": {},
   "outputs": [],
   "source": [
    "X = train[test.columns]\n",
    "y = train['SUBCLASS']"
   ]
  },
  {
   "cell_type": "code",
   "execution_count": 7,
   "id": "6242fe5d-aeab-4e8d-89b0-6e878bcfa7e1",
   "metadata": {},
   "outputs": [],
   "source": [
    "from sklearn.decomposition import TruncatedSVD\n",
    "svd = TruncatedSVD(n_components=1000)\n",
    "X_train_reduced = svd.fit_transform(X)"
   ]
  },
  {
   "cell_type": "markdown",
   "id": "0e1f67d9-9cf8-4d56-8ff3-3ebfa6a166a1",
   "metadata": {},
   "source": [
    "---"
   ]
  },
  {
   "cell_type": "code",
   "execution_count": 8,
   "id": "d147d74c-f089-49be-b267-27b4a9223317",
   "metadata": {},
   "outputs": [],
   "source": [
    "from sklearn.model_selection import train_test_split"
   ]
  },
  {
   "cell_type": "code",
   "execution_count": 9,
   "id": "b4227772-21cc-44cf-8436-8073a3e8672b",
   "metadata": {},
   "outputs": [],
   "source": [
    "x_train, x_test, y_train, y_test = train_test_split(X_train_reduced, y, test_size=0.3, random_state=42)"
   ]
  },
  {
   "cell_type": "markdown",
   "id": "7e09fd70-0194-4da7-899a-ac2837d5d225",
   "metadata": {},
   "source": [
    "# Xgboost"
   ]
  },
  {
   "cell_type": "code",
   "execution_count": 10,
   "id": "eaa79403-dcd8-4bea-baf3-fc175fbe68b7",
   "metadata": {},
   "outputs": [],
   "source": [
    "import xgboost as xgb"
   ]
  },
  {
   "cell_type": "code",
   "execution_count": 11,
   "id": "0ea81ff6-c8ad-4d1e-81b8-74185da1620a",
   "metadata": {},
   "outputs": [],
   "source": [
    "dtrain = xgb.DMatrix(data = x_train, label = y_train)\n",
    "dtest = xgb.DMatrix(data = x_test, label = y_test)"
   ]
  },
  {
   "cell_type": "code",
   "execution_count": 12,
   "id": "73e4ef5d-2724-4a39-ad47-542a9b28d92a",
   "metadata": {},
   "outputs": [],
   "source": [
    "params = {\n",
    "    'objective': 'multi:softmax',  # 다중 분류\n",
    "    'num_class': 26,               # 클래스 수\n",
    "    'eval_metric': 'mlogloss',     # 평가 지표\n",
    "    'seed' : 42,\n",
    "    'alpha': 1.5,  # L1 정규화\n",
    "    'lambda': 2,  # L2 정규화,\n",
    "    'max_depth': 3,  # 트리 깊이 줄이기\n",
    "    'learning_rate': 0.01,  # 학습률 조정\n",
    "}"
   ]
  },
  {
   "cell_type": "code",
   "execution_count": 13,
   "id": "cc7d7e20-70b6-43b4-a32f-7e565eb0b258",
   "metadata": {},
   "outputs": [
    {
     "name": "stdout",
     "output_type": "stream",
     "text": [
      "[0]\ttrain-mlogloss:3.23498\teval-mlogloss:3.23879\n",
      "[1]\ttrain-mlogloss:3.21298\teval-mlogloss:3.22053\n",
      "[2]\ttrain-mlogloss:3.19193\teval-mlogloss:3.20344\n",
      "[3]\ttrain-mlogloss:3.17154\teval-mlogloss:3.18683\n",
      "[4]\ttrain-mlogloss:3.15192\teval-mlogloss:3.17096\n",
      "[5]\ttrain-mlogloss:3.13283\teval-mlogloss:3.15560\n",
      "[6]\ttrain-mlogloss:3.11449\teval-mlogloss:3.14051\n",
      "[7]\ttrain-mlogloss:3.09675\teval-mlogloss:3.12633\n",
      "[8]\ttrain-mlogloss:3.07955\teval-mlogloss:3.11226\n",
      "[9]\ttrain-mlogloss:3.06283\teval-mlogloss:3.09882\n",
      "[10]\ttrain-mlogloss:3.04660\teval-mlogloss:3.08595\n",
      "[11]\ttrain-mlogloss:3.03077\teval-mlogloss:3.07320\n",
      "[12]\ttrain-mlogloss:3.01548\teval-mlogloss:3.06071\n",
      "[13]\ttrain-mlogloss:3.00056\teval-mlogloss:3.04871\n",
      "[14]\ttrain-mlogloss:2.98584\teval-mlogloss:3.03675\n",
      "[15]\ttrain-mlogloss:2.97131\teval-mlogloss:3.02514\n",
      "[16]\ttrain-mlogloss:2.95722\teval-mlogloss:3.01386\n",
      "[17]\ttrain-mlogloss:2.94348\teval-mlogloss:3.00305\n",
      "[18]\ttrain-mlogloss:2.93000\teval-mlogloss:2.99223\n",
      "[19]\ttrain-mlogloss:2.91672\teval-mlogloss:2.98195\n",
      "[20]\ttrain-mlogloss:2.90381\teval-mlogloss:2.97180\n",
      "[21]\ttrain-mlogloss:2.89127\teval-mlogloss:2.96196\n",
      "[22]\ttrain-mlogloss:2.87884\teval-mlogloss:2.95257\n",
      "[23]\ttrain-mlogloss:2.86672\teval-mlogloss:2.94301\n",
      "[24]\ttrain-mlogloss:2.85475\teval-mlogloss:2.93386\n"
     ]
    }
   ],
   "source": [
    "wlist = [(dtrain, \"train\"), (dtest, \"eval\")]\n",
    "\n",
    "xgb_model = xgb.train(params = params, dtrain = dtrain, num_boost_round = 25,\n",
    "                      evals = wlist, early_stopping_rounds=10)"
   ]
  },
  {
   "cell_type": "code",
   "execution_count": 15,
   "id": "d54caf16-ab2d-46a0-be00-1da9c898b2e2",
   "metadata": {},
   "outputs": [],
   "source": [
    "from sklearn.metrics import accuracy_score"
   ]
  },
  {
   "cell_type": "code",
   "execution_count": 17,
   "id": "4d3cdc56-6335-4d9a-8ce5-5067005f7b7e",
   "metadata": {},
   "outputs": [
    {
     "data": {
      "text/plain": [
       "0.4094470046082949"
      ]
     },
     "execution_count": 17,
     "metadata": {},
     "output_type": "execute_result"
    }
   ],
   "source": [
    "accuracy_score(y_train, xgb_model.predict(dtrain))"
   ]
  },
  {
   "cell_type": "code",
   "execution_count": 18,
   "id": "30c7c728-c694-4d25-a762-ff2aa4858374",
   "metadata": {},
   "outputs": [
    {
     "data": {
      "text/plain": [
       "0.3202579258463192"
      ]
     },
     "execution_count": 18,
     "metadata": {},
     "output_type": "execute_result"
    }
   ],
   "source": [
    "accuracy_score(y_test, xgb_model.predict(dtest))"
   ]
  },
  {
   "cell_type": "code",
   "execution_count": 21,
   "id": "1a21dc7e-a210-4ce6-8382-9a0abe253be5",
   "metadata": {},
   "outputs": [],
   "source": [
    "test_reducedsvd = svd.transform(test)"
   ]
  },
  {
   "cell_type": "code",
   "execution_count": 25,
   "id": "ac07902e-8b81-4e20-bf54-d67cd3e85f82",
   "metadata": {},
   "outputs": [],
   "source": [
    "test_reducedsvd = xgb.DMatrix(data=test_reducedsvd)"
   ]
  },
  {
   "cell_type": "code",
   "execution_count": 30,
   "id": "760d15d3-96d6-428e-91af-c57d6e823619",
   "metadata": {},
   "outputs": [],
   "source": [
    "test_predict = xgb_model.predict(test_reducedsvd).astype('int')"
   ]
  },
  {
   "cell_type": "code",
   "execution_count": 31,
   "id": "4d9c4fd7-7b3b-45d8-b0ea-9eddff5e7c5e",
   "metadata": {},
   "outputs": [],
   "source": [
    "test_predict = le.inverse_transform(test_predict)"
   ]
  },
  {
   "cell_type": "code",
   "execution_count": 32,
   "id": "23fb7849-76d2-495c-9df3-612e14d405c9",
   "metadata": {},
   "outputs": [],
   "source": [
    "submission = pd.read_csv(\"../data/raw_data/sample_submission.csv\")"
   ]
  },
  {
   "cell_type": "code",
   "execution_count": 33,
   "id": "c49dc244-114f-4ddb-96ce-a7f525d98923",
   "metadata": {},
   "outputs": [],
   "source": [
    "submission['SUBCLASS'] = test_predict"
   ]
  },
  {
   "cell_type": "code",
   "execution_count": 34,
   "id": "c8719e6e-1956-427d-a68b-a3da7cb2be20",
   "metadata": {},
   "outputs": [],
   "source": [
    "submission.to_csv(\"../data/submission/submission_09.csv\", index=False)"
   ]
  }
 ],
 "metadata": {
  "kernelspec": {
   "display_name": "Python 3 (ipykernel)",
   "language": "python",
   "name": "python3"
  },
  "language_info": {
   "codemirror_mode": {
    "name": "ipython",
    "version": 3
   },
   "file_extension": ".py",
   "mimetype": "text/x-python",
   "name": "python",
   "nbconvert_exporter": "python",
   "pygments_lexer": "ipython3",
   "version": "3.12.2"
  }
 },
 "nbformat": 4,
 "nbformat_minor": 5
}

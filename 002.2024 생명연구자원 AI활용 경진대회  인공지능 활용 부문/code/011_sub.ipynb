{
 "cells": [
  {
   "cell_type": "code",
   "execution_count": 1,
   "id": "702ee827-b3ad-42dc-a060-2caaecd2ed66",
   "metadata": {},
   "outputs": [],
   "source": [
    "import warnings\n",
    "warnings.filterwarnings('ignore')\n",
    "\n",
    "import numpy as np\n",
    "import pandas as pd\n",
    "from tqdm import tqdm"
   ]
  },
  {
   "cell_type": "code",
   "execution_count": 92,
   "id": "0d3c4505-bdc5-4b64-8f6a-67456f8ae78d",
   "metadata": {},
   "outputs": [],
   "source": [
    "train = pd.read_csv(\"../data/raw_data/train.csv\")\n",
    "test = pd.read_csv(\"../data/raw_data/test.csv\")"
   ]
  },
  {
   "cell_type": "code",
   "execution_count": 93,
   "id": "e3592bc3-ca90-4ab0-8a5f-4fa83b2e32ed",
   "metadata": {},
   "outputs": [],
   "source": [
    "train = train.drop(columns = ['ID'])\n",
    "test = test.drop(columns = ['ID'])"
   ]
  },
  {
   "cell_type": "code",
   "execution_count": 94,
   "id": "8591f31e-286e-4087-9186-c84c02b985b9",
   "metadata": {},
   "outputs": [],
   "source": [
    "from sklearn.preprocessing import LabelEncoder\n",
    "\n",
    "le = LabelEncoder()\n",
    "train['SUBCLASS'] = le.fit_transform(train['SUBCLASS'])"
   ]
  },
  {
   "cell_type": "code",
   "execution_count": 5,
   "id": "b40f7b2e-6924-458e-97a0-97b7679a5988",
   "metadata": {},
   "outputs": [],
   "source": [
    "X = train[test.columns]\n",
    "y = train['SUBCLASS']"
   ]
  },
  {
   "cell_type": "markdown",
   "id": "27dbf660-1d3e-439c-a4ec-c61de1fb3c22",
   "metadata": {},
   "source": [
    "---"
   ]
  },
  {
   "cell_type": "code",
   "execution_count": 6,
   "id": "23749c1a-9fc3-4397-9563-d038fdeafcea",
   "metadata": {},
   "outputs": [],
   "source": [
    "import hashlib"
   ]
  },
  {
   "cell_type": "code",
   "execution_count": 7,
   "id": "193accdb-f88e-4cd5-889f-0fafbab69f0f",
   "metadata": {},
   "outputs": [],
   "source": [
    "# 해시 함수 정의\n",
    "def hash_variation(variation):\n",
    "    # 문자열을 바이트로 인코딩\n",
    "    encoded = variation.encode()\n",
    "    # hashlib으로 md5 해시 생성\n",
    "    hash_object = hashlib.md5(encoded)\n",
    "    # 해시값을 16진수 형태로 반환\n",
    "    return hash_object.hexdigest()"
   ]
  },
  {
   "cell_type": "code",
   "execution_count": 8,
   "id": "ded46c5b-0148-4b6d-a9df-86161e33a76a",
   "metadata": {},
   "outputs": [
    {
     "name": "stderr",
     "output_type": "stream",
     "text": [
      "100%|██████████████████████████████████████████████████████████████████████████████| 4384/4384 [05:04<00:00, 14.40it/s]\n"
     ]
    }
   ],
   "source": [
    "for i in tqdm(X.columns):\n",
    "    X[i] = X[i].apply(hash_variation)\n",
    "    X[i] = X[i].apply(lambda x: np.mean([ord(char) for char in x]))"
   ]
  },
  {
   "cell_type": "markdown",
   "id": "c2ce770a-8349-48a0-9cf7-7f69b1a48fba",
   "metadata": {},
   "source": [
    "X.to_csv(\"../data/preprocessing/X_001.csv\", index=False)"
   ]
  },
  {
   "cell_type": "code",
   "execution_count": 33,
   "id": "84357401-6127-4426-80ed-a6348183a7d3",
   "metadata": {},
   "outputs": [],
   "source": [
    "X = pd.read_csv(\"../data/preprocessing/X_001.csv\")"
   ]
  },
  {
   "cell_type": "code",
   "execution_count": 35,
   "id": "4f3cf421-c37e-4957-8c81-4c8591153bc4",
   "metadata": {},
   "outputs": [
    {
     "name": "stderr",
     "output_type": "stream",
     "text": [
      "100%|█████████████████████████████████████████████████████████████████████████████| 4384/4384 [00:07<00:00, 625.04it/s]\n"
     ]
    }
   ],
   "source": [
    "for i in tqdm(X.columns):\n",
    "    X[i] = X[i].map(lambda x : 0 if x == 68.9375 else x)"
   ]
  },
  {
   "cell_type": "code",
   "execution_count": 37,
   "id": "3d598da0-24af-4b5e-bbe1-c45338017c6f",
   "metadata": {},
   "outputs": [],
   "source": [
    "from sklearn.model_selection import train_test_split"
   ]
  },
  {
   "cell_type": "code",
   "execution_count": 38,
   "id": "5744b587-7025-46d7-b719-b39178409c48",
   "metadata": {},
   "outputs": [],
   "source": [
    "x_train, x_test, y_train, y_test = train_test_split(X, y, test_size=0.3, random_state=42)"
   ]
  },
  {
   "cell_type": "markdown",
   "id": "e08345fd-8b95-4bc2-8753-a9a4fa511494",
   "metadata": {},
   "source": [
    "# Xgboost"
   ]
  },
  {
   "cell_type": "code",
   "execution_count": 39,
   "id": "a51f5b1a-12c3-4d89-8dd9-c3928c89e49d",
   "metadata": {},
   "outputs": [],
   "source": [
    "import xgboost as xgb"
   ]
  },
  {
   "cell_type": "code",
   "execution_count": 40,
   "id": "7b0a400a-4a83-4e5a-ab57-0191f922c14f",
   "metadata": {},
   "outputs": [],
   "source": [
    "dtrain = xgb.DMatrix(data = x_train, label = y_train)\n",
    "dtest = xgb.DMatrix(data = x_test, label = y_test)"
   ]
  },
  {
   "cell_type": "code",
   "execution_count": 41,
   "id": "ac0db3b6-4fc1-4842-acf5-2d583ed43f4f",
   "metadata": {},
   "outputs": [],
   "source": [
    "params = {\n",
    "    'objective': 'multi:softmax',  # 다중 분류\n",
    "    'num_class': 26,               # 클래스 수\n",
    "    'eval_metric': 'mlogloss',     # 평가 지표\n",
    "    'seed' : 42,\n",
    "    'alpha': 0.1,  # L1 정규화\n",
    "    'lambda': 1,  # L2 정규화,\n",
    "    'max_depth': 4,  # 트리 깊이 줄이기\n",
    "    'learning_rate': 0.1,  # 학습률 조정\n",
    "}"
   ]
  },
  {
   "cell_type": "code",
   "execution_count": 42,
   "id": "019a7501-aa92-40ec-acc1-db25c27955f0",
   "metadata": {},
   "outputs": [
    {
     "name": "stdout",
     "output_type": "stream",
     "text": [
      "[0]\ttrain-mlogloss:3.03879\teval-mlogloss:3.07514\n",
      "[1]\ttrain-mlogloss:2.89577\teval-mlogloss:2.95931\n",
      "[2]\ttrain-mlogloss:2.78560\teval-mlogloss:2.87193\n",
      "[3]\ttrain-mlogloss:2.69474\teval-mlogloss:2.80117\n",
      "[4]\ttrain-mlogloss:2.61558\teval-mlogloss:2.74330\n",
      "[5]\ttrain-mlogloss:2.54742\teval-mlogloss:2.69439\n",
      "[6]\ttrain-mlogloss:2.48746\teval-mlogloss:2.64915\n",
      "[7]\ttrain-mlogloss:2.43377\teval-mlogloss:2.61040\n",
      "[8]\ttrain-mlogloss:2.38520\teval-mlogloss:2.57598\n",
      "[9]\ttrain-mlogloss:2.34074\teval-mlogloss:2.54536\n",
      "[10]\ttrain-mlogloss:2.30045\teval-mlogloss:2.51900\n",
      "[11]\ttrain-mlogloss:2.26258\teval-mlogloss:2.49456\n",
      "[12]\ttrain-mlogloss:2.22834\teval-mlogloss:2.47247\n",
      "[13]\ttrain-mlogloss:2.19553\teval-mlogloss:2.45042\n",
      "[14]\ttrain-mlogloss:2.16505\teval-mlogloss:2.43320\n",
      "[15]\ttrain-mlogloss:2.13678\teval-mlogloss:2.41680\n",
      "[16]\ttrain-mlogloss:2.10985\teval-mlogloss:2.40102\n",
      "[17]\ttrain-mlogloss:2.08367\teval-mlogloss:2.38559\n",
      "[18]\ttrain-mlogloss:2.05996\teval-mlogloss:2.37206\n",
      "[19]\ttrain-mlogloss:2.03717\teval-mlogloss:2.35891\n",
      "[20]\ttrain-mlogloss:2.01567\teval-mlogloss:2.34750\n",
      "[21]\ttrain-mlogloss:1.99501\teval-mlogloss:2.33655\n",
      "[22]\ttrain-mlogloss:1.97494\teval-mlogloss:2.32633\n",
      "[23]\ttrain-mlogloss:1.95609\teval-mlogloss:2.31669\n",
      "[24]\ttrain-mlogloss:1.93813\teval-mlogloss:2.30794\n",
      "[25]\ttrain-mlogloss:1.92063\teval-mlogloss:2.29900\n",
      "[26]\ttrain-mlogloss:1.90404\teval-mlogloss:2.29062\n",
      "[27]\ttrain-mlogloss:1.88847\teval-mlogloss:2.28335\n",
      "[28]\ttrain-mlogloss:1.87321\teval-mlogloss:2.27535\n",
      "[29]\ttrain-mlogloss:1.85874\teval-mlogloss:2.26888\n",
      "[30]\ttrain-mlogloss:1.84455\teval-mlogloss:2.26229\n",
      "[31]\ttrain-mlogloss:1.83133\teval-mlogloss:2.25601\n",
      "[32]\ttrain-mlogloss:1.81828\teval-mlogloss:2.25025\n",
      "[33]\ttrain-mlogloss:1.80552\teval-mlogloss:2.24379\n",
      "[34]\ttrain-mlogloss:1.79288\teval-mlogloss:2.23874\n",
      "[35]\ttrain-mlogloss:1.78092\teval-mlogloss:2.23385\n",
      "[36]\ttrain-mlogloss:1.76868\teval-mlogloss:2.22939\n",
      "[37]\ttrain-mlogloss:1.75684\teval-mlogloss:2.22428\n",
      "[38]\ttrain-mlogloss:1.74620\teval-mlogloss:2.22013\n",
      "[39]\ttrain-mlogloss:1.73539\teval-mlogloss:2.21618\n",
      "[40]\ttrain-mlogloss:1.72535\teval-mlogloss:2.21234\n",
      "[41]\ttrain-mlogloss:1.71509\teval-mlogloss:2.20946\n",
      "[42]\ttrain-mlogloss:1.70528\teval-mlogloss:2.20589\n",
      "[43]\ttrain-mlogloss:1.69619\teval-mlogloss:2.20263\n",
      "[44]\ttrain-mlogloss:1.68697\teval-mlogloss:2.19952\n",
      "[45]\ttrain-mlogloss:1.67798\teval-mlogloss:2.19626\n",
      "[46]\ttrain-mlogloss:1.66926\teval-mlogloss:2.19345\n",
      "[47]\ttrain-mlogloss:1.66068\teval-mlogloss:2.19038\n",
      "[48]\ttrain-mlogloss:1.65272\teval-mlogloss:2.18768\n",
      "[49]\ttrain-mlogloss:1.64483\teval-mlogloss:2.18509\n",
      "[50]\ttrain-mlogloss:1.63723\teval-mlogloss:2.18223\n",
      "[51]\ttrain-mlogloss:1.62920\teval-mlogloss:2.17949\n",
      "[52]\ttrain-mlogloss:1.62161\teval-mlogloss:2.17736\n",
      "[53]\ttrain-mlogloss:1.61436\teval-mlogloss:2.17546\n",
      "[54]\ttrain-mlogloss:1.60724\teval-mlogloss:2.17366\n",
      "[55]\ttrain-mlogloss:1.59984\teval-mlogloss:2.17150\n",
      "[56]\ttrain-mlogloss:1.59302\teval-mlogloss:2.16968\n",
      "[57]\ttrain-mlogloss:1.58644\teval-mlogloss:2.16754\n",
      "[58]\ttrain-mlogloss:1.57998\teval-mlogloss:2.16580\n",
      "[59]\ttrain-mlogloss:1.57370\teval-mlogloss:2.16399\n",
      "[60]\ttrain-mlogloss:1.56732\teval-mlogloss:2.16272\n",
      "[61]\ttrain-mlogloss:1.56113\teval-mlogloss:2.16137\n",
      "[62]\ttrain-mlogloss:1.55517\teval-mlogloss:2.16017\n",
      "[63]\ttrain-mlogloss:1.54879\teval-mlogloss:2.15962\n",
      "[64]\ttrain-mlogloss:1.54275\teval-mlogloss:2.15806\n",
      "[65]\ttrain-mlogloss:1.53719\teval-mlogloss:2.15644\n",
      "[66]\ttrain-mlogloss:1.53113\teval-mlogloss:2.15494\n",
      "[67]\ttrain-mlogloss:1.52546\teval-mlogloss:2.15345\n",
      "[68]\ttrain-mlogloss:1.51978\teval-mlogloss:2.15238\n",
      "[69]\ttrain-mlogloss:1.51423\teval-mlogloss:2.15096\n",
      "[70]\ttrain-mlogloss:1.50898\teval-mlogloss:2.14994\n",
      "[71]\ttrain-mlogloss:1.50377\teval-mlogloss:2.14866\n",
      "[72]\ttrain-mlogloss:1.49823\teval-mlogloss:2.14739\n",
      "[73]\ttrain-mlogloss:1.49312\teval-mlogloss:2.14601\n",
      "[74]\ttrain-mlogloss:1.48821\teval-mlogloss:2.14507\n",
      "[75]\ttrain-mlogloss:1.48305\teval-mlogloss:2.14380\n",
      "[76]\ttrain-mlogloss:1.47846\teval-mlogloss:2.14262\n",
      "[77]\ttrain-mlogloss:1.47335\teval-mlogloss:2.14176\n",
      "[78]\ttrain-mlogloss:1.46856\teval-mlogloss:2.14075\n",
      "[79]\ttrain-mlogloss:1.46376\teval-mlogloss:2.13998\n",
      "[80]\ttrain-mlogloss:1.45901\teval-mlogloss:2.13943\n",
      "[81]\ttrain-mlogloss:1.45460\teval-mlogloss:2.13849\n",
      "[82]\ttrain-mlogloss:1.45010\teval-mlogloss:2.13721\n",
      "[83]\ttrain-mlogloss:1.44550\teval-mlogloss:2.13662\n",
      "[84]\ttrain-mlogloss:1.44098\teval-mlogloss:2.13511\n",
      "[85]\ttrain-mlogloss:1.43656\teval-mlogloss:2.13408\n",
      "[86]\ttrain-mlogloss:1.43219\teval-mlogloss:2.13313\n",
      "[87]\ttrain-mlogloss:1.42792\teval-mlogloss:2.13308\n",
      "[88]\ttrain-mlogloss:1.42360\teval-mlogloss:2.13207\n",
      "[89]\ttrain-mlogloss:1.41939\teval-mlogloss:2.13130\n",
      "[90]\ttrain-mlogloss:1.41541\teval-mlogloss:2.12985\n",
      "[91]\ttrain-mlogloss:1.41129\teval-mlogloss:2.12942\n",
      "[92]\ttrain-mlogloss:1.40728\teval-mlogloss:2.12860\n",
      "[93]\ttrain-mlogloss:1.40335\teval-mlogloss:2.12775\n",
      "[94]\ttrain-mlogloss:1.39953\teval-mlogloss:2.12688\n",
      "[95]\ttrain-mlogloss:1.39567\teval-mlogloss:2.12745\n",
      "[96]\ttrain-mlogloss:1.39186\teval-mlogloss:2.12753\n",
      "[97]\ttrain-mlogloss:1.38803\teval-mlogloss:2.12697\n",
      "[98]\ttrain-mlogloss:1.38430\teval-mlogloss:2.12626\n",
      "[99]\ttrain-mlogloss:1.38036\teval-mlogloss:2.12547\n",
      "[100]\ttrain-mlogloss:1.37687\teval-mlogloss:2.12491\n",
      "[101]\ttrain-mlogloss:1.37324\teval-mlogloss:2.12445\n",
      "[102]\ttrain-mlogloss:1.36944\teval-mlogloss:2.12460\n",
      "[103]\ttrain-mlogloss:1.36589\teval-mlogloss:2.12407\n",
      "[104]\ttrain-mlogloss:1.36231\teval-mlogloss:2.12409\n",
      "[105]\ttrain-mlogloss:1.35882\teval-mlogloss:2.12344\n",
      "[106]\ttrain-mlogloss:1.35536\teval-mlogloss:2.12278\n",
      "[107]\ttrain-mlogloss:1.35180\teval-mlogloss:2.12189\n",
      "[108]\ttrain-mlogloss:1.34808\teval-mlogloss:2.12158\n",
      "[109]\ttrain-mlogloss:1.34463\teval-mlogloss:2.12118\n",
      "[110]\ttrain-mlogloss:1.34115\teval-mlogloss:2.12122\n",
      "[111]\ttrain-mlogloss:1.33787\teval-mlogloss:2.12057\n",
      "[112]\ttrain-mlogloss:1.33465\teval-mlogloss:2.12064\n",
      "[113]\ttrain-mlogloss:1.33116\teval-mlogloss:2.12118\n",
      "[114]\ttrain-mlogloss:1.32777\teval-mlogloss:2.12080\n",
      "[115]\ttrain-mlogloss:1.32459\teval-mlogloss:2.12046\n",
      "[116]\ttrain-mlogloss:1.32148\teval-mlogloss:2.11993\n",
      "[117]\ttrain-mlogloss:1.31819\teval-mlogloss:2.12002\n",
      "[118]\ttrain-mlogloss:1.31512\teval-mlogloss:2.12004\n",
      "[119]\ttrain-mlogloss:1.31190\teval-mlogloss:2.11992\n",
      "[120]\ttrain-mlogloss:1.30870\teval-mlogloss:2.11944\n",
      "[121]\ttrain-mlogloss:1.30558\teval-mlogloss:2.11896\n",
      "[122]\ttrain-mlogloss:1.30241\teval-mlogloss:2.11909\n",
      "[123]\ttrain-mlogloss:1.29936\teval-mlogloss:2.11899\n",
      "[124]\ttrain-mlogloss:1.29622\teval-mlogloss:2.11899\n",
      "[125]\ttrain-mlogloss:1.29331\teval-mlogloss:2.11916\n",
      "[126]\ttrain-mlogloss:1.29038\teval-mlogloss:2.11896\n",
      "[127]\ttrain-mlogloss:1.28742\teval-mlogloss:2.11881\n",
      "[128]\ttrain-mlogloss:1.28453\teval-mlogloss:2.11875\n",
      "[129]\ttrain-mlogloss:1.28156\teval-mlogloss:2.11868\n",
      "[130]\ttrain-mlogloss:1.27852\teval-mlogloss:2.11868\n",
      "[131]\ttrain-mlogloss:1.27522\teval-mlogloss:2.11846\n",
      "[132]\ttrain-mlogloss:1.27225\teval-mlogloss:2.11808\n",
      "[133]\ttrain-mlogloss:1.26934\teval-mlogloss:2.11826\n",
      "[134]\ttrain-mlogloss:1.26649\teval-mlogloss:2.11771\n",
      "[135]\ttrain-mlogloss:1.26371\teval-mlogloss:2.11814\n",
      "[136]\ttrain-mlogloss:1.26080\teval-mlogloss:2.11775\n",
      "[137]\ttrain-mlogloss:1.25798\teval-mlogloss:2.11743\n",
      "[138]\ttrain-mlogloss:1.25521\teval-mlogloss:2.11736\n",
      "[139]\ttrain-mlogloss:1.25258\teval-mlogloss:2.11686\n",
      "[140]\ttrain-mlogloss:1.24990\teval-mlogloss:2.11675\n",
      "[141]\ttrain-mlogloss:1.24708\teval-mlogloss:2.11644\n",
      "[142]\ttrain-mlogloss:1.24443\teval-mlogloss:2.11623\n",
      "[143]\ttrain-mlogloss:1.24164\teval-mlogloss:2.11611\n",
      "[144]\ttrain-mlogloss:1.23907\teval-mlogloss:2.11583\n",
      "[145]\ttrain-mlogloss:1.23644\teval-mlogloss:2.11554\n",
      "[146]\ttrain-mlogloss:1.23384\teval-mlogloss:2.11533\n",
      "[147]\ttrain-mlogloss:1.23115\teval-mlogloss:2.11501\n",
      "[148]\ttrain-mlogloss:1.22853\teval-mlogloss:2.11495\n",
      "[149]\ttrain-mlogloss:1.22598\teval-mlogloss:2.11523\n",
      "[150]\ttrain-mlogloss:1.22311\teval-mlogloss:2.11512\n",
      "[151]\ttrain-mlogloss:1.22060\teval-mlogloss:2.11568\n",
      "[152]\ttrain-mlogloss:1.21818\teval-mlogloss:2.11525\n",
      "[153]\ttrain-mlogloss:1.21565\teval-mlogloss:2.11518\n",
      "[154]\ttrain-mlogloss:1.21295\teval-mlogloss:2.11517\n",
      "[155]\ttrain-mlogloss:1.21037\teval-mlogloss:2.11542\n",
      "[156]\ttrain-mlogloss:1.20786\teval-mlogloss:2.11528\n",
      "[157]\ttrain-mlogloss:1.20550\teval-mlogloss:2.11522\n"
     ]
    }
   ],
   "source": [
    "wlist = [(dtrain, \"train\"), (dtest, \"eval\")]\n",
    "\n",
    "xgb_model = xgb.train(params = params, dtrain = dtrain, num_boost_round = 400,\n",
    "                      evals = wlist, early_stopping_rounds=10)"
   ]
  },
  {
   "cell_type": "code",
   "execution_count": 43,
   "id": "4aa4c96e-d10c-4f35-9fd7-5a6fe052094f",
   "metadata": {},
   "outputs": [],
   "source": [
    "from sklearn.metrics import accuracy_score"
   ]
  },
  {
   "cell_type": "code",
   "execution_count": 44,
   "id": "a74d2c2e-6a9d-416e-8b19-8a16e9b11c35",
   "metadata": {},
   "outputs": [
    {
     "data": {
      "text/plain": [
       "0.6988479262672811"
      ]
     },
     "execution_count": 44,
     "metadata": {},
     "output_type": "execute_result"
    }
   ],
   "source": [
    "accuracy_score(y_train, xgb_model.predict(dtrain))"
   ]
  },
  {
   "cell_type": "code",
   "execution_count": 45,
   "id": "540280e4-15c6-48ae-a1fe-dd82b353d441",
   "metadata": {},
   "outputs": [
    {
     "data": {
      "text/plain": [
       "0.33422890918860826"
      ]
     },
     "execution_count": 45,
     "metadata": {},
     "output_type": "execute_result"
    }
   ],
   "source": [
    "accuracy_score(y_test, xgb_model.predict(dtest))"
   ]
  },
  {
   "cell_type": "markdown",
   "id": "2d1a9b76-824c-499c-9628-6632474e3190",
   "metadata": {},
   "source": [
    "---"
   ]
  },
  {
   "cell_type": "code",
   "execution_count": 95,
   "id": "b5afa2c6-c77c-442d-be3a-358711d750fd",
   "metadata": {},
   "outputs": [
    {
     "name": "stderr",
     "output_type": "stream",
     "text": [
      "100%|██████████████████████████████████████████████████████████████████████████████| 4384/4384 [01:50<00:00, 39.68it/s]\n"
     ]
    }
   ],
   "source": [
    "for i in tqdm(test.columns):\n",
    "    test[i] = test[i].astype('str')\n",
    "    test[i] = test[i].apply(hash_variation)\n",
    "    test[i] = test[i].apply(lambda x: np.mean([ord(char) for char in x]))"
   ]
  },
  {
   "cell_type": "code",
   "execution_count": 98,
   "id": "dff18530-3b1c-4bf8-8538-9fa62907f67a",
   "metadata": {},
   "outputs": [
    {
     "name": "stderr",
     "output_type": "stream",
     "text": [
      "100%|████████████████████████████████████████████████████████████████████████████| 4384/4384 [00:03<00:00, 1396.88it/s]\n"
     ]
    }
   ],
   "source": [
    "for i in tqdm(X.columns):\n",
    "    test[i] = test[i].map(lambda x : 0 if x == 68.9375 else x)"
   ]
  },
  {
   "cell_type": "code",
   "execution_count": 101,
   "id": "7363e34b-c8e3-45a2-b0ef-237b40d73f82",
   "metadata": {},
   "outputs": [],
   "source": [
    "test_DM = xgb.DMatrix(data=test)"
   ]
  },
  {
   "cell_type": "code",
   "execution_count": 104,
   "id": "dc897bf7-f455-4305-91ad-cff30353474d",
   "metadata": {},
   "outputs": [],
   "source": [
    "test_predict = xgb_model.predict(test_DM).astype('int')"
   ]
  },
  {
   "cell_type": "code",
   "execution_count": 105,
   "id": "d113f535-c773-4a14-bf30-862a683af0f0",
   "metadata": {},
   "outputs": [],
   "source": [
    "test_predict = le.inverse_transform(test_predict)"
   ]
  },
  {
   "cell_type": "code",
   "execution_count": 106,
   "id": "fc04bd35-3ebc-4965-879c-5e6792005d06",
   "metadata": {},
   "outputs": [],
   "source": [
    "submission = pd.read_csv(\"../data/raw_data/sample_submission.csv\")"
   ]
  },
  {
   "cell_type": "code",
   "execution_count": 107,
   "id": "4505a2d0-bea7-40db-b184-a30e98cc3f5e",
   "metadata": {},
   "outputs": [],
   "source": [
    "submission['SUBCLASS'] = test_predict"
   ]
  },
  {
   "cell_type": "code",
   "execution_count": 108,
   "id": "7a7d3364-4515-47e5-a311-ddc211806d03",
   "metadata": {},
   "outputs": [],
   "source": [
    "submission.to_csv(\"../data/submission/submission_11.csv\", index=False)"
   ]
  }
 ],
 "metadata": {
  "kernelspec": {
   "display_name": "Python 3 (ipykernel)",
   "language": "python",
   "name": "python3"
  },
  "language_info": {
   "codemirror_mode": {
    "name": "ipython",
    "version": 3
   },
   "file_extension": ".py",
   "mimetype": "text/x-python",
   "name": "python",
   "nbconvert_exporter": "python",
   "pygments_lexer": "ipython3",
   "version": "3.12.2"
  }
 },
 "nbformat": 4,
 "nbformat_minor": 5
}

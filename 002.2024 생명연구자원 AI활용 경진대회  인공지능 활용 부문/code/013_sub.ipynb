{
 "cells": [
  {
   "cell_type": "code",
   "execution_count": 52,
   "id": "20ed088f-0f57-4414-8a9a-76297b105a3f",
   "metadata": {},
   "outputs": [],
   "source": [
    "import pandas as pd"
   ]
  },
  {
   "cell_type": "code",
   "execution_count": 53,
   "id": "afc48761-38d0-44e4-b0d2-c24c5b59605c",
   "metadata": {},
   "outputs": [],
   "source": [
    "train = pd.read_csv(\"../data/raw_data/train.csv\")\n",
    "test = pd.read_csv(\"../data/raw_data/test.csv\")"
   ]
  },
  {
   "cell_type": "code",
   "execution_count": 54,
   "id": "78386da5-8a89-4923-bc06-34ff91773c00",
   "metadata": {},
   "outputs": [],
   "source": [
    "train = train.drop(columns = ['ID'])\n",
    "test = test.drop(columns = ['ID'])"
   ]
  },
  {
   "cell_type": "code",
   "execution_count": 55,
   "id": "08cc77d4-02ae-4872-a684-52bbcdc7d56a",
   "metadata": {},
   "outputs": [],
   "source": [
    "from sklearn.preprocessing import LabelEncoder\n",
    "\n",
    "le = LabelEncoder()\n",
    "train['SUBCLASS'] = le.fit_transform(train['SUBCLASS'])"
   ]
  },
  {
   "cell_type": "code",
   "execution_count": 259,
   "id": "078a0370-e90c-493a-b75e-19c505dece9a",
   "metadata": {},
   "outputs": [],
   "source": [
    "X = pd.read_csv(\"../data/preprocessing/X_003.csv\")\n",
    "y = train['SUBCLASS']"
   ]
  },
  {
   "cell_type": "code",
   "execution_count": 260,
   "id": "c3d2aaea-bc59-459c-8108-fa58ae3c4bcb",
   "metadata": {},
   "outputs": [],
   "source": [
    "test = pd.read_csv(\"../data/preprocessing/Y_003.csv\")"
   ]
  },
  {
   "cell_type": "code",
   "execution_count": 262,
   "id": "6ac39de6-ff5c-4cc6-97b8-2bd0989faa7e",
   "metadata": {},
   "outputs": [],
   "source": [
    "from sklearn.model_selection import train_test_split\n",
    "\n",
    "x_train, x_test, y_train, y_test = train_test_split(X, y, test_size=0.3, random_state=42)"
   ]
  },
  {
   "cell_type": "code",
   "execution_count": 306,
   "id": "36811a72-8af4-4ffd-82d8-bee87b64c562",
   "metadata": {},
   "outputs": [],
   "source": [
    "from sklearn.decomposition import PCA"
   ]
  },
  {
   "cell_type": "code",
   "execution_count": 307,
   "id": "e9750721-53cd-48ad-a267-2399e7509b10",
   "metadata": {},
   "outputs": [],
   "source": [
    "# PCA로 차원 축소 (예: 500개의 주요 구성 요소로 축소)\n",
    "pca = PCA(n_components=500)\n",
    "x_train = pca.fit_transform(x_train)\n",
    "x_test = pca.transform(x_test)\n",
    "test_pca = pca.transform(test)"
   ]
  },
  {
   "cell_type": "code",
   "execution_count": 331,
   "id": "7f78e309-eafb-4b5b-99da-44a274520fb9",
   "metadata": {},
   "outputs": [],
   "source": [
    "from tensorflow.keras.models import Sequential\n",
    "from tensorflow.keras.layers import Dense\n",
    "from tensorflow.keras.layers import Dropout\n",
    "from tensorflow.keras.regularizers import l2\n",
    "from tensorflow.keras.layers import BatchNormalization"
   ]
  },
  {
   "cell_type": "code",
   "execution_count": 352,
   "id": "7cfc4fd6-ab5e-4136-8241-757ba489077b",
   "metadata": {},
   "outputs": [],
   "source": [
    "# 모델 정의\n",
    "model = Sequential()\n",
    "model.add(Dense(256, input_dim=x_train.shape[1], activation='relu'))  # 입력 레이어 kernel_regularizer=l2(0.001)\n",
    "model.add(Dropout(0.2))\n",
    "model.add(BatchNormalization())\n",
    "model.add(Dense(128, activation='relu'))  # 은닉층 kernel_regularizer=l2(0.001)\n",
    "model.add(Dropout(0.2))\n",
    "model.add(BatchNormalization()) \n",
    "model.add(Dense(64, activation='relu'))   # 은닉층 kernel_regularizer=l2(0.001)\n",
    "model.add(Dropout(0.2))\n",
    "model.add(BatchNormalization()) \n",
    "model.add(Dense(26, activation='softmax'))  # 출력 레이어 (다중 클래스)"
   ]
  },
  {
   "cell_type": "code",
   "execution_count": 353,
   "id": "3bc68949-f179-4c66-8272-6c4be750fbf7",
   "metadata": {},
   "outputs": [],
   "source": [
    "from tensorflow.keras.optimizers import Adam"
   ]
  },
  {
   "cell_type": "code",
   "execution_count": 354,
   "id": "2a806ca0-2688-4d53-b733-378110ce46a4",
   "metadata": {},
   "outputs": [],
   "source": [
    "# 모델 컴파일\n",
    "model.compile(optimizer=Adam(learning_rate=0.001),\n",
    "              loss='sparse_categorical_crossentropy',\n",
    "              metrics=['accuracy'])"
   ]
  },
  {
   "cell_type": "code",
   "execution_count": 355,
   "id": "eaea5153-681f-4942-87f9-3be62c3f22e7",
   "metadata": {},
   "outputs": [],
   "source": [
    "from tensorflow.keras.callbacks import EarlyStopping\n",
    "\n",
    "early_stopping = EarlyStopping(monitor='val_loss', patience=5, restore_best_weights=True)"
   ]
  },
  {
   "cell_type": "code",
   "execution_count": 356,
   "id": "4c303837-449b-4bb7-8edc-1d4c4b86d7d9",
   "metadata": {},
   "outputs": [],
   "source": [
    "from tensorflow.keras.callbacks import ReduceLROnPlateau\n",
    "\n",
    "reduce_lr = ReduceLROnPlateau(monitor='val_loss', factor=0.5, patience=3, min_lr=0.00001)"
   ]
  },
  {
   "cell_type": "code",
   "execution_count": 357,
   "id": "fa3f0c0f-da8d-43a1-a71b-3ada367b09cd",
   "metadata": {},
   "outputs": [
    {
     "name": "stdout",
     "output_type": "stream",
     "text": [
      "Epoch 1/50\n",
      "\u001b[1m136/136\u001b[0m \u001b[32m━━━━━━━━━━━━━━━━━━━━\u001b[0m\u001b[37m\u001b[0m \u001b[1m2s\u001b[0m 5ms/step - accuracy: 0.0616 - loss: 3.6710 - val_accuracy: 0.1757 - val_loss: 3.0412 - learning_rate: 0.0010\n",
      "Epoch 2/50\n",
      "\u001b[1m136/136\u001b[0m \u001b[32m━━━━━━━━━━━━━━━━━━━━\u001b[0m\u001b[37m\u001b[0m \u001b[1m0s\u001b[0m 3ms/step - accuracy: 0.1655 - loss: 2.9532 - val_accuracy: 0.1961 - val_loss: 2.8566 - learning_rate: 0.0010\n",
      "Epoch 3/50\n",
      "\u001b[1m136/136\u001b[0m \u001b[32m━━━━━━━━━━━━━━━━━━━━\u001b[0m\u001b[37m\u001b[0m \u001b[1m1s\u001b[0m 4ms/step - accuracy: 0.2161 - loss: 2.7498 - val_accuracy: 0.2020 - val_loss: 2.7944 - learning_rate: 0.0010\n",
      "Epoch 4/50\n",
      "\u001b[1m136/136\u001b[0m \u001b[32m━━━━━━━━━━━━━━━━━━━━\u001b[0m\u001b[37m\u001b[0m \u001b[1m0s\u001b[0m 3ms/step - accuracy: 0.2491 - loss: 2.5564 - val_accuracy: 0.2160 - val_loss: 2.7305 - learning_rate: 0.0010\n",
      "Epoch 5/50\n",
      "\u001b[1m136/136\u001b[0m \u001b[32m━━━━━━━━━━━━━━━━━━━━\u001b[0m\u001b[37m\u001b[0m \u001b[1m1s\u001b[0m 4ms/step - accuracy: 0.2881 - loss: 2.4151 - val_accuracy: 0.2176 - val_loss: 2.7077 - learning_rate: 0.0010\n",
      "Epoch 6/50\n",
      "\u001b[1m136/136\u001b[0m \u001b[32m━━━━━━━━━━━━━━━━━━━━\u001b[0m\u001b[37m\u001b[0m \u001b[1m1s\u001b[0m 4ms/step - accuracy: 0.2964 - loss: 2.3345 - val_accuracy: 0.2241 - val_loss: 2.6824 - learning_rate: 0.0010\n",
      "Epoch 7/50\n",
      "\u001b[1m136/136\u001b[0m \u001b[32m━━━━━━━━━━━━━━━━━━━━\u001b[0m\u001b[37m\u001b[0m \u001b[1m1s\u001b[0m 4ms/step - accuracy: 0.3170 - loss: 2.2559 - val_accuracy: 0.2246 - val_loss: 2.6869 - learning_rate: 0.0010\n",
      "Epoch 8/50\n",
      "\u001b[1m136/136\u001b[0m \u001b[32m━━━━━━━━━━━━━━━━━━━━\u001b[0m\u001b[37m\u001b[0m \u001b[1m1s\u001b[0m 4ms/step - accuracy: 0.3508 - loss: 2.1665 - val_accuracy: 0.2348 - val_loss: 2.6897 - learning_rate: 0.0010\n",
      "Epoch 9/50\n",
      "\u001b[1m136/136\u001b[0m \u001b[32m━━━━━━━━━━━━━━━━━━━━\u001b[0m\u001b[37m\u001b[0m \u001b[1m1s\u001b[0m 4ms/step - accuracy: 0.3810 - loss: 2.0749 - val_accuracy: 0.2278 - val_loss: 2.6875 - learning_rate: 0.0010\n",
      "Epoch 10/50\n",
      "\u001b[1m136/136\u001b[0m \u001b[32m━━━━━━━━━━━━━━━━━━━━\u001b[0m\u001b[37m\u001b[0m \u001b[1m1s\u001b[0m 4ms/step - accuracy: 0.4112 - loss: 1.9512 - val_accuracy: 0.2284 - val_loss: 2.6818 - learning_rate: 5.0000e-04\n",
      "Epoch 11/50\n",
      "\u001b[1m136/136\u001b[0m \u001b[32m━━━━━━━━━━━━━━━━━━━━\u001b[0m\u001b[37m\u001b[0m \u001b[1m1s\u001b[0m 5ms/step - accuracy: 0.4424 - loss: 1.8729 - val_accuracy: 0.2354 - val_loss: 2.6858 - learning_rate: 5.0000e-04\n",
      "Epoch 12/50\n",
      "\u001b[1m136/136\u001b[0m \u001b[32m━━━━━━━━━━━━━━━━━━━━\u001b[0m\u001b[37m\u001b[0m \u001b[1m0s\u001b[0m 3ms/step - accuracy: 0.4421 - loss: 1.8245 - val_accuracy: 0.2311 - val_loss: 2.6876 - learning_rate: 5.0000e-04\n",
      "Epoch 13/50\n",
      "\u001b[1m136/136\u001b[0m \u001b[32m━━━━━━━━━━━━━━━━━━━━\u001b[0m\u001b[37m\u001b[0m \u001b[1m1s\u001b[0m 4ms/step - accuracy: 0.4708 - loss: 1.7477 - val_accuracy: 0.2284 - val_loss: 2.7066 - learning_rate: 5.0000e-04\n",
      "Epoch 14/50\n",
      "\u001b[1m136/136\u001b[0m \u001b[32m━━━━━━━━━━━━━━━━━━━━\u001b[0m\u001b[37m\u001b[0m \u001b[1m1s\u001b[0m 4ms/step - accuracy: 0.4849 - loss: 1.7033 - val_accuracy: 0.2337 - val_loss: 2.7063 - learning_rate: 2.5000e-04\n",
      "Epoch 15/50\n",
      "\u001b[1m136/136\u001b[0m \u001b[32m━━━━━━━━━━━━━━━━━━━━\u001b[0m\u001b[37m\u001b[0m \u001b[1m1s\u001b[0m 4ms/step - accuracy: 0.4935 - loss: 1.6701 - val_accuracy: 0.2327 - val_loss: 2.7091 - learning_rate: 2.5000e-04\n"
     ]
    }
   ],
   "source": [
    "# 모델 학습\n",
    "history = model.fit(x_train, y_train, \n",
    "                    validation_data=(x_test, y_test),\n",
    "                    epochs=50, batch_size=32,\n",
    "                    callbacks=[reduce_lr, early_stopping])"
   ]
  },
  {
   "cell_type": "code",
   "execution_count": 358,
   "id": "4768d459-6047-4915-a69d-227760bc4f7e",
   "metadata": {},
   "outputs": [],
   "source": [
    "import numpy as np"
   ]
  },
  {
   "cell_type": "code",
   "execution_count": 359,
   "id": "57f7ca8d-6c8d-4936-90d9-2556785e69d4",
   "metadata": {},
   "outputs": [
    {
     "name": "stdout",
     "output_type": "stream",
     "text": [
      "\u001b[1m80/80\u001b[0m \u001b[32m━━━━━━━━━━━━━━━━━━━━\u001b[0m\u001b[37m\u001b[0m \u001b[1m0s\u001b[0m 2ms/step\n",
      "[ 2 21  8 ... 21 19 11]\n"
     ]
    }
   ],
   "source": [
    "# 테스트 데이터 예측\n",
    "predictions = model.predict(test_pca)\n",
    "predicted_classes = np.argmax(predictions, axis=1)\n",
    "\n",
    "# 예측 결과 출력\n",
    "print(predicted_classes)"
   ]
  },
  {
   "cell_type": "code",
   "execution_count": 360,
   "id": "f5b9ca06-eaef-43ed-a99c-21d7564e3810",
   "metadata": {},
   "outputs": [
    {
     "data": {
      "text/plain": [
       "array([ 0,  1,  2,  3,  4,  6,  7,  8,  9, 10, 11, 12, 13, 14, 15, 16, 18,\n",
       "       19, 20, 21, 22, 23, 25], dtype=int64)"
      ]
     },
     "execution_count": 360,
     "metadata": {},
     "output_type": "execute_result"
    }
   ],
   "source": [
    "np.unique(predicted_classes)"
   ]
  },
  {
   "cell_type": "code",
   "execution_count": 361,
   "id": "cc5fe679-a4f7-40b4-a662-560c1cd26667",
   "metadata": {},
   "outputs": [],
   "source": [
    "submission = pd.read_csv(\"../data/raw_data/sample_submission.csv\")"
   ]
  },
  {
   "cell_type": "code",
   "execution_count": 362,
   "id": "5e13d2dc-6207-4bcf-8324-003f501a5ca7",
   "metadata": {},
   "outputs": [],
   "source": [
    "test_predict = le.inverse_transform(predicted_classes)"
   ]
  },
  {
   "cell_type": "code",
   "execution_count": 364,
   "id": "e5a4d9f5-2ebc-4521-aeb3-5cdc7c9fc5cf",
   "metadata": {},
   "outputs": [],
   "source": [
    "submission['SUBCLASS'] = test_predict"
   ]
  },
  {
   "cell_type": "code",
   "execution_count": 367,
   "id": "3104187c-8aa8-4b7b-b37d-e7a3bcdc3f13",
   "metadata": {},
   "outputs": [
    {
     "data": {
      "text/plain": [
       "SUBCLASS\n",
       "BRCA      634\n",
       "KIPAN     424\n",
       "GBMLGG    282\n",
       "STES      225\n",
       "COAD      184\n",
       "OV         96\n",
       "LAML       93\n",
       "SKCM       86\n",
       "HNSC       76\n",
       "THCA       68\n",
       "KIRC       51\n",
       "PRAD       50\n",
       "LUAD       47\n",
       "UCEC       46\n",
       "LUSC       39\n",
       "CESC       29\n",
       "ACC        27\n",
       "SARC       24\n",
       "LGG        23\n",
       "TGCT       21\n",
       "BLCA        8\n",
       "LIHC        8\n",
       "PAAD        5\n",
       "Name: count, dtype: int64"
      ]
     },
     "execution_count": 367,
     "metadata": {},
     "output_type": "execute_result"
    }
   ],
   "source": [
    "submission['SUBCLASS'].value_counts()"
   ]
  },
  {
   "cell_type": "code",
   "execution_count": 368,
   "id": "a75ae3cc-8265-4116-a778-807803b731d7",
   "metadata": {},
   "outputs": [],
   "source": [
    "submission.to_csv(\"../data/submission/submission_13.csv\", index=False)"
   ]
  }
 ],
 "metadata": {
  "kernelspec": {
   "display_name": "Python 3 (ipykernel)",
   "language": "python",
   "name": "python3"
  },
  "language_info": {
   "codemirror_mode": {
    "name": "ipython",
    "version": 3
   },
   "file_extension": ".py",
   "mimetype": "text/x-python",
   "name": "python",
   "nbconvert_exporter": "python",
   "pygments_lexer": "ipython3",
   "version": "3.12.2"
  }
 },
 "nbformat": 4,
 "nbformat_minor": 5
}

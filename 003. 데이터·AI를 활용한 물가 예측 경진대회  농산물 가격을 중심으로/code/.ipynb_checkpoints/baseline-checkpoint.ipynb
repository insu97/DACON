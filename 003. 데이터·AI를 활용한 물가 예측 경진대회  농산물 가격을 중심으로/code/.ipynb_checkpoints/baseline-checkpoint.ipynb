{
 "cells": [
  {
   "cell_type": "markdown",
   "metadata": {},
   "source": [
    "# 농산물 가격 예측을 위한 AI 모델 개발 \n",
    "- '2024 농산물 가격 예측 AI 경진대회'는 데이터와 AI 기술을 활용하여 농산물 가격 예측 능력을 향상시키는 것을 목표로 합니다.<br>  이 대회는 농업 분야의 복잡한 시계열 데이터를 효율적으로 분석하고 예측할 수 있는 AI 알고리즘 개발에 초점을 맞추고 있습니다. <br> <br>\n",
    "- 이 대회의 궁극적 목적은 참가자들의 시계열 데이터 분석 및 예측 역량을 강화하고, <br> AI 기술이 실제 농산물 가격 예측과 관련 정책 결정에 어떻게 기여할 수 있는지 탐구하는 것입니다. "
   ]
  },
  {
   "cell_type": "markdown",
   "metadata": {},
   "source": [
    "# Import Library"
   ]
  },
  {
   "cell_type": "code",
   "execution_count": 1,
   "metadata": {},
   "outputs": [],
   "source": [
    "import pandas as pd\n",
    "import numpy as np\n",
    "import torch\n",
    "import torch.nn as nn\n",
    "from tqdm.notebook import tqdm\n",
    "from torch.utils.data import Dataset, DataLoader\n",
    "from sklearn.model_selection import train_test_split\n",
    "from types import SimpleNamespace\n",
    "from sklearn.preprocessing import MinMaxScaler\n",
    "import os"
   ]
  },
  {
   "cell_type": "markdown",
   "metadata": {},
   "source": [
    "# Hyperparameter Setting"
   ]
  },
  {
   "cell_type": "code",
   "execution_count": 2,
   "metadata": {},
   "outputs": [],
   "source": [
    "config = {\n",
    "    \"learning_rate\": 2e-5,\n",
    "    \"epoch\": 30,\n",
    "    \"batch_size\": 64,\n",
    "    \"hidden_size\": 64,\n",
    "    \"num_layers\": 2,\n",
    "    \"output_size\": 3\n",
    "}\n",
    "\n",
    "CFG = SimpleNamespace(**config)\n",
    "\n",
    "품목_리스트 = ['건고추', '사과', '감자', '배', '깐마늘(국산)', '무', '상추', '배추', '양파', '대파']"
   ]
  },
  {
   "cell_type": "markdown",
   "metadata": {},
   "source": [
    "# Define Function for Feature Engineering\n",
    "- 타겟의 필터 조건을 제외한 메타데이터의 필터 조건은 참가자들 각자의 기준에 맞춰 자유롭게 사용가능 \n",
    "- 밑의 필터 조건은 임의로 제공하는 예시"
   ]
  },
  {
   "cell_type": "code",
   "execution_count": 3,
   "metadata": {},
   "outputs": [],
   "source": [
    "\n",
    "def process_data(raw_file, 산지공판장_file, 전국도매_file, 품목명, scaler=None):\n",
    "    raw_data = pd.read_csv(raw_file)\n",
    "    산지공판장 = pd.read_csv(산지공판장_file)\n",
    "    전국도매 = pd.read_csv(전국도매_file)\n",
    "\n",
    "    # 타겟 및 메타데이터 필터 조건 정의\n",
    "    conditions = {\n",
    "    '감자': {\n",
    "        'target': lambda df: (df['품종명'] == '감자 수미') & (df['거래단위'] == '20키로상자') & (df['등급'] == '상'),\n",
    "        '공판장': {'공판장명': ['*전국농협공판장'], '품목명': ['감자'], '품종명': ['수미'], '등급명': ['상']},\n",
    "        '도매': {'시장명': ['*전국도매시장'], '품목명': ['감자'], '품종명': ['수미']}\n",
    "    },\n",
    "    '건고추': {\n",
    "        'target': lambda df: (df['품종명'] == '화건') & (df['거래단위'] == '30 kg') & (df['등급'] == '상품'),\n",
    "        '공판장': None, \n",
    "        '도매': None  \n",
    "    },\n",
    "    '깐마늘(국산)': {\n",
    "        'target': lambda df: (df['거래단위'] == '20 kg') & (df['등급'] == '상품'),\n",
    "        '공판장': {'공판장명': ['*전국농협공판장'], '품목명': ['마늘'], '품종명': ['깐마늘'], '등급명': ['상']},\n",
    "        '도매': {'시장명': ['*전국도매시장'], '품목명': ['마늘'], '품종명': ['깐마늘']}\n",
    "    },\n",
    "    '대파': {\n",
    "        'target': lambda df: (df['품종명'] == '대파(일반)') & (df['거래단위'] == '1키로단') & (df['등급'] == '상'),\n",
    "        '공판장': {'공판장명': ['*전국농협공판장'], '품목명': ['대파'], '품종명': ['대파(일반)'], '등급명': ['상']},\n",
    "        '도매': {'시장명': ['*전국도매시장'], '품목명': ['대파'], '품종명': ['대파(일반)']}\n",
    "    },\n",
    "    '무': {\n",
    "        'target': lambda df: (df['거래단위'] == '20키로상자') & (df['등급'] == '상'),\n",
    "        '공판장': {'공판장명': ['*전국농협공판장'], '품목명': ['무'], '품종명': ['기타무'], '등급명': ['상']},\n",
    "        '도매': {'시장명': ['*전국도매시장'], '품목명': ['무'], '품종명': ['무']}\n",
    "    },\n",
    "    '배추': {\n",
    "        'target': lambda df: (df['거래단위'] == '10키로망대') & (df['등급'] == '상'),\n",
    "        '공판장': {'공판장명': ['*전국농협공판장'], '품목명': ['배추'], '품종명': ['쌈배추'], '등급명': ['상']},\n",
    "        '도매': {'시장명': ['*전국도매시장'], '품목명': ['배추'], '품종명': ['배추']}\n",
    "    },\n",
    "    '사과': {\n",
    "        'target': lambda df: (df['품종명'].isin(['홍로', '후지'])) & (df['거래단위'] == '10 개') & (df['등급'] == '상품'),\n",
    "        '공판장': {'공판장명': ['*전국농협공판장'], '품목명': ['사과'], '품종명': ['후지'], '등급명': ['상']},\n",
    "        '도매': {'시장명': ['*전국도매시장'], '품목명': ['사과'], '품종명': ['후지']}\n",
    "    },\n",
    "    '상추': {\n",
    "        'target': lambda df: (df['품종명'] == '청') & (df['거래단위'] == '100 g') & (df['등급'] == '상품'),\n",
    "        '공판장': {'공판장명': ['*전국농협공판장'], '품목명': ['상추'], '품종명': ['청상추'], '등급명': ['상']},\n",
    "        '도매': {'시장명': ['*전국도매시장'], '품목명': ['상추'], '품종명': ['청상추']}\n",
    "    },\n",
    "    '양파': {\n",
    "        'target': lambda df: (df['품종명'] == '양파') & (df['거래단위'] == '1키로') & (df['등급'] == '상'),\n",
    "        '공판장': {'공판장명': ['*전국농협공판장'], '품목명': ['양파'], '품종명': ['기타양파'], '등급명': ['상']},\n",
    "        '도매': {'시장명': ['*전국도매시장'], '품목명': ['양파'], '품종명': ['양파(일반)']}\n",
    "    },\n",
    "    '배': {\n",
    "        'target': lambda df: (df['품종명'] == '신고') & (df['거래단위'] == '10 개') & (df['등급'] == '상품'),\n",
    "        '공판장': {'공판장명': ['*전국농협공판장'], '품목명': ['배'], '품종명': ['신고'], '등급명': ['상']},\n",
    "        '도매': {'시장명': ['*전국도매시장'], '품목명': ['배'], '품종명': ['신고']}\n",
    "    }\n",
    "    }\n",
    "\n",
    "    # 타겟 데이터 필터링\n",
    "    raw_품목 = raw_data[raw_data['품목명'] == 품목명]\n",
    "    target_mask = conditions[품목명]['target'](raw_품목)\n",
    "    filtered_data = raw_품목[target_mask]\n",
    "\n",
    "    # 다른 품종에 대한 파생변수 생성\n",
    "    other_data = raw_품목[~target_mask]\n",
    "    unique_combinations = other_data[['품종명', '거래단위', '등급']].drop_duplicates()\n",
    "    for _, row in unique_combinations.iterrows():\n",
    "        품종명, 거래단위, 등급 = row['품종명'], row['거래단위'], row['등급']\n",
    "        mask = (other_data['품종명'] == 품종명) & (other_data['거래단위'] == 거래단위) & (other_data['등급'] == 등급)\n",
    "        temp_df = other_data[mask]\n",
    "        for col in ['평년 평균가격(원)', '평균가격(원)']:\n",
    "            new_col_name = f'{품종명}_{거래단위}_{등급}_{col}'\n",
    "            filtered_data = filtered_data.merge(temp_df[['시점', col]], on='시점', how='left', suffixes=('', f'_{new_col_name}'))\n",
    "            filtered_data.rename(columns={f'{col}_{new_col_name}': new_col_name}, inplace=True)\n",
    "\n",
    "\n",
    "    # 공판장 데이터 처리\n",
    "    if conditions[품목명]['공판장']:\n",
    "        filtered_공판장 = 산지공판장\n",
    "        for key, value in conditions[품목명]['공판장'].items():\n",
    "            filtered_공판장 = filtered_공판장[filtered_공판장[key].isin(value)]\n",
    "        \n",
    "        filtered_공판장 = filtered_공판장.add_prefix('공판장_').rename(columns={'공판장_시점': '시점'})\n",
    "        filtered_data = filtered_data.merge(filtered_공판장, on='시점', how='left')\n",
    "\n",
    "    # 도매 데이터 처리\n",
    "    if conditions[품목명]['도매']:\n",
    "        filtered_도매 = 전국도매\n",
    "        for key, value in conditions[품목명]['도매'].items():\n",
    "            filtered_도매 = filtered_도매[filtered_도매[key].isin(value)]\n",
    "        \n",
    "        filtered_도매 = filtered_도매.add_prefix('도매_').rename(columns={'도매_시점': '시점'})\n",
    "        filtered_data = filtered_data.merge(filtered_도매, on='시점', how='left')\n",
    "\n",
    "    # 수치형 컬럼 처리\n",
    "    numeric_columns = filtered_data.select_dtypes(include=[np.number]).columns\n",
    "    filtered_data = filtered_data[['시점'] + list(numeric_columns)]\n",
    "    filtered_data[numeric_columns] = filtered_data[numeric_columns].fillna(0)\n",
    "\n",
    "    # 정규화 적용\n",
    "    if scaler is None:\n",
    "        scaler = MinMaxScaler()\n",
    "        filtered_data[numeric_columns] = scaler.fit_transform(filtered_data[numeric_columns])\n",
    "    else:\n",
    "        filtered_data[numeric_columns] = scaler.transform(filtered_data[numeric_columns])\n",
    "\n",
    "    return filtered_data, scaler\n"
   ]
  },
  {
   "cell_type": "markdown",
   "metadata": {},
   "source": [
    "# Define Custom Dataset Class"
   ]
  },
  {
   "cell_type": "code",
   "execution_count": 4,
   "metadata": {},
   "outputs": [],
   "source": [
    "class AgriculturePriceDataset(Dataset):\n",
    "    def __init__(self, dataframe, window_size=9, prediction_length=3, is_test=False):\n",
    "        self.data = dataframe\n",
    "        self.window_size = window_size\n",
    "        self.prediction_length = prediction_length\n",
    "        self.is_test = is_test\n",
    "        \n",
    "        self.price_column = [col for col in self.data.columns if '평균가격(원)' in col and len(col.split('_')) == 1][0]\n",
    "        self.numeric_columns = self.data.select_dtypes(include=[np.number]).columns.tolist()\n",
    "        \n",
    "        self.sequences = []\n",
    "        if not self.is_test:\n",
    "            for i in range(len(self.data) - self.window_size - self.prediction_length + 1):\n",
    "                x = self.data[self.numeric_columns].iloc[i:i+self.window_size].values\n",
    "                y = self.data[self.price_column].iloc[i+self.window_size:i+self.window_size+self.prediction_length].values\n",
    "                self.sequences.append((x, y))\n",
    "        else:\n",
    "            self.sequences = [self.data[self.numeric_columns].values]\n",
    "    \n",
    "    def __len__(self):\n",
    "        return len(self.sequences)\n",
    "    \n",
    "    def __getitem__(self, idx):\n",
    "        if not self.is_test:\n",
    "            x, y = self.sequences[idx]\n",
    "            return torch.FloatTensor(x), torch.FloatTensor(y)\n",
    "        else:\n",
    "            return torch.FloatTensor(self.sequences[idx])"
   ]
  },
  {
   "cell_type": "markdown",
   "metadata": {},
   "source": [
    "# Define Model Architecture and Training Functions"
   ]
  },
  {
   "cell_type": "code",
   "execution_count": 5,
   "metadata": {},
   "outputs": [],
   "source": [
    "\n",
    "class PricePredictionLSTM(nn.Module):\n",
    "    def __init__(self, input_size, hidden_size, num_layers, output_size):\n",
    "        super(PricePredictionLSTM, self).__init__()\n",
    "        self.hidden_size = hidden_size\n",
    "        self.num_layers = num_layers\n",
    "        self.lstm = nn.LSTM(input_size, hidden_size, num_layers, batch_first=True)\n",
    "        self.fc = nn.Linear(hidden_size, output_size)\n",
    "    \n",
    "    def forward(self, x):\n",
    "        h0 = torch.zeros(self.num_layers, x.size(0), self.hidden_size).to(x.device)\n",
    "        c0 = torch.zeros(self.num_layers, x.size(0), self.hidden_size).to(x.device)\n",
    "        out, _ = self.lstm(x, (h0, c0))\n",
    "        out = self.fc(out[:, -1, :])\n",
    "        return out\n",
    "\n",
    "def train_model(model, train_loader, criterion, optimizer, num_epochs):\n",
    "    model.train()\n",
    "    total_loss = 0\n",
    "    for batch_x, batch_y in train_loader:\n",
    "        optimizer.zero_grad()\n",
    "        outputs = model(batch_x)\n",
    "        loss = criterion(outputs, batch_y)\n",
    "        loss.backward()\n",
    "        optimizer.step()\n",
    "        total_loss += loss.item()\n",
    "    return total_loss / len(train_loader)  \n",
    "\n",
    "def evaluate_model(model, test_loader, criterion):\n",
    "    model.eval()\n",
    "    total_loss = 0\n",
    "    with torch.no_grad():\n",
    "        for batch_x, batch_y in test_loader:\n",
    "            outputs = model(batch_x)\n",
    "            loss = criterion(outputs, batch_y)\n",
    "            total_loss += loss.item()\n",
    "    return total_loss / len(test_loader)"
   ]
  },
  {
   "cell_type": "markdown",
   "metadata": {},
   "source": [
    "# Train Models and Generate Predictions"
   ]
  },
  {
   "cell_type": "code",
   "execution_count": 9,
   "metadata": {},
   "outputs": [
    {
     "data": {
      "application/vnd.jupyter.widget-view+json": {
       "model_id": "77b02b1733f8498286f8cda3312985f7",
       "version_major": 2,
       "version_minor": 0
      },
      "text/plain": [
       "품목 처리 중:   0%|          | 0/10 [00:00<?, ?it/s]"
      ]
     },
     "metadata": {},
     "output_type": "display_data"
    },
    {
     "name": "stdout",
     "output_type": "stream",
     "text": [
      "Epoch 1/30, Train Loss: 0.7702, Val Loss: 0.7509\n",
      "Epoch 2/30, Train Loss: 0.7748, Val Loss: 0.7501\n",
      "Epoch 3/30, Train Loss: 0.7714, Val Loss: 0.7493\n",
      "Epoch 4/30, Train Loss: 0.7703, Val Loss: 0.7485\n",
      "Epoch 5/30, Train Loss: 0.7651, Val Loss: 0.7476\n",
      "Epoch 6/30, Train Loss: 0.7678, Val Loss: 0.7468\n",
      "Epoch 7/30, Train Loss: 0.7659, Val Loss: 0.7460\n",
      "Epoch 8/30, Train Loss: 0.7627, Val Loss: 0.7452\n",
      "Epoch 9/30, Train Loss: 0.7633, Val Loss: 0.7444\n",
      "Epoch 10/30, Train Loss: 0.7608, Val Loss: 0.7436\n",
      "Epoch 11/30, Train Loss: 0.7650, Val Loss: 0.7428\n",
      "Epoch 12/30, Train Loss: 0.7642, Val Loss: 0.7420\n",
      "Epoch 13/30, Train Loss: 0.7622, Val Loss: 0.7412\n",
      "Epoch 14/30, Train Loss: 0.7603, Val Loss: 0.7404\n",
      "Epoch 15/30, Train Loss: 0.7606, Val Loss: 0.7396\n",
      "Epoch 16/30, Train Loss: 0.7555, Val Loss: 0.7388\n",
      "Epoch 17/30, Train Loss: 0.7592, Val Loss: 0.7380\n",
      "Epoch 18/30, Train Loss: 0.7536, Val Loss: 0.7373\n",
      "Epoch 19/30, Train Loss: 0.7567, Val Loss: 0.7365\n",
      "Epoch 20/30, Train Loss: 0.7587, Val Loss: 0.7357\n",
      "Epoch 21/30, Train Loss: 0.7530, Val Loss: 0.7349\n",
      "Epoch 22/30, Train Loss: 0.7565, Val Loss: 0.7341\n",
      "Epoch 23/30, Train Loss: 0.7541, Val Loss: 0.7333\n",
      "Epoch 24/30, Train Loss: 0.7492, Val Loss: 0.7325\n",
      "Epoch 25/30, Train Loss: 0.7503, Val Loss: 0.7317\n",
      "Epoch 26/30, Train Loss: 0.7541, Val Loss: 0.7309\n",
      "Epoch 27/30, Train Loss: 0.7502, Val Loss: 0.7301\n",
      "Epoch 28/30, Train Loss: 0.7512, Val Loss: 0.7292\n",
      "Epoch 29/30, Train Loss: 0.7467, Val Loss: 0.7284\n",
      "Epoch 30/30, Train Loss: 0.7488, Val Loss: 0.7276\n",
      "Best Validation Loss for 건고추: 0.7276\n"
     ]
    },
    {
     "data": {
      "application/vnd.jupyter.widget-view+json": {
       "model_id": "",
       "version_major": 2,
       "version_minor": 0
      },
      "text/plain": [
       "테스트 파일 추론 중:   0%|          | 0/25 [00:00<?, ?it/s]"
      ]
     },
     "metadata": {},
     "output_type": "display_data"
    },
    {
     "name": "stdout",
     "output_type": "stream",
     "text": [
      "Epoch 1/30, Train Loss: 0.8465, Val Loss: 0.8505\n",
      "Epoch 2/30, Train Loss: 0.8424, Val Loss: 0.8495\n",
      "Epoch 3/30, Train Loss: 0.8399, Val Loss: 0.8485\n",
      "Epoch 4/30, Train Loss: 0.8431, Val Loss: 0.8475\n",
      "Epoch 5/30, Train Loss: 0.8413, Val Loss: 0.8465\n",
      "Epoch 6/30, Train Loss: 0.8405, Val Loss: 0.8456\n",
      "Epoch 7/30, Train Loss: 0.8354, Val Loss: 0.8446\n",
      "Epoch 8/30, Train Loss: 0.8385, Val Loss: 0.8436\n",
      "Epoch 9/30, Train Loss: 0.8394, Val Loss: 0.8426\n",
      "Epoch 10/30, Train Loss: 0.8343, Val Loss: 0.8416\n",
      "Epoch 11/30, Train Loss: 0.8353, Val Loss: 0.8406\n",
      "Epoch 12/30, Train Loss: 0.8324, Val Loss: 0.8396\n",
      "Epoch 13/30, Train Loss: 0.8308, Val Loss: 0.8386\n",
      "Epoch 14/30, Train Loss: 0.8276, Val Loss: 0.8376\n",
      "Epoch 15/30, Train Loss: 0.8296, Val Loss: 0.8366\n",
      "Epoch 16/30, Train Loss: 0.8292, Val Loss: 0.8356\n",
      "Epoch 17/30, Train Loss: 0.8251, Val Loss: 0.8346\n",
      "Epoch 18/30, Train Loss: 0.8256, Val Loss: 0.8336\n",
      "Epoch 19/30, Train Loss: 0.8256, Val Loss: 0.8327\n",
      "Epoch 20/30, Train Loss: 0.8259, Val Loss: 0.8317\n",
      "Epoch 21/30, Train Loss: 0.8209, Val Loss: 0.8306\n",
      "Epoch 22/30, Train Loss: 0.8224, Val Loss: 0.8296\n",
      "Epoch 23/30, Train Loss: 0.8247, Val Loss: 0.8286\n",
      "Epoch 24/30, Train Loss: 0.8186, Val Loss: 0.8276\n",
      "Epoch 25/30, Train Loss: 0.8203, Val Loss: 0.8266\n",
      "Epoch 26/30, Train Loss: 0.8196, Val Loss: 0.8256\n",
      "Epoch 27/30, Train Loss: 0.8199, Val Loss: 0.8246\n",
      "Epoch 28/30, Train Loss: 0.8170, Val Loss: 0.8236\n",
      "Epoch 29/30, Train Loss: 0.8163, Val Loss: 0.8225\n",
      "Epoch 30/30, Train Loss: 0.8131, Val Loss: 0.8215\n",
      "Best Validation Loss for 사과: 0.8215\n"
     ]
    },
    {
     "data": {
      "application/vnd.jupyter.widget-view+json": {
       "model_id": "",
       "version_major": 2,
       "version_minor": 0
      },
      "text/plain": [
       "테스트 파일 추론 중:   0%|          | 0/25 [00:00<?, ?it/s]"
      ]
     },
     "metadata": {},
     "output_type": "display_data"
    },
    {
     "name": "stdout",
     "output_type": "stream",
     "text": [
      "Epoch 1/30, Train Loss: 0.4316, Val Loss: 0.3526\n",
      "Epoch 2/30, Train Loss: 0.4369, Val Loss: 0.3517\n",
      "Epoch 3/30, Train Loss: 0.4370, Val Loss: 0.3508\n",
      "Epoch 4/30, Train Loss: 0.4283, Val Loss: 0.3499\n",
      "Epoch 5/30, Train Loss: 0.4216, Val Loss: 0.3489\n",
      "Epoch 6/30, Train Loss: 0.4291, Val Loss: 0.3480\n",
      "Epoch 7/30, Train Loss: 0.4265, Val Loss: 0.3471\n",
      "Epoch 8/30, Train Loss: 0.4249, Val Loss: 0.3462\n",
      "Epoch 9/30, Train Loss: 0.4300, Val Loss: 0.3453\n",
      "Epoch 10/30, Train Loss: 0.4265, Val Loss: 0.3445\n",
      "Epoch 11/30, Train Loss: 0.4200, Val Loss: 0.3436\n",
      "Epoch 12/30, Train Loss: 0.4295, Val Loss: 0.3427\n",
      "Epoch 13/30, Train Loss: 0.4177, Val Loss: 0.3418\n",
      "Epoch 14/30, Train Loss: 0.4150, Val Loss: 0.3409\n",
      "Epoch 15/30, Train Loss: 0.4182, Val Loss: 0.3401\n",
      "Epoch 16/30, Train Loss: 0.4086, Val Loss: 0.3392\n",
      "Epoch 17/30, Train Loss: 0.4174, Val Loss: 0.3384\n",
      "Epoch 18/30, Train Loss: 0.4224, Val Loss: 0.3375\n",
      "Epoch 19/30, Train Loss: 0.4073, Val Loss: 0.3366\n",
      "Epoch 20/30, Train Loss: 0.4128, Val Loss: 0.3358\n",
      "Epoch 21/30, Train Loss: 0.4200, Val Loss: 0.3349\n",
      "Epoch 22/30, Train Loss: 0.4085, Val Loss: 0.3341\n",
      "Epoch 23/30, Train Loss: 0.4182, Val Loss: 0.3332\n",
      "Epoch 24/30, Train Loss: 0.4186, Val Loss: 0.3323\n",
      "Epoch 25/30, Train Loss: 0.4131, Val Loss: 0.3315\n",
      "Epoch 26/30, Train Loss: 0.4087, Val Loss: 0.3306\n",
      "Epoch 27/30, Train Loss: 0.4097, Val Loss: 0.3297\n",
      "Epoch 28/30, Train Loss: 0.4110, Val Loss: 0.3289\n",
      "Epoch 29/30, Train Loss: 0.4106, Val Loss: 0.3280\n",
      "Epoch 30/30, Train Loss: 0.4094, Val Loss: 0.3271\n",
      "Best Validation Loss for 감자: 0.3271\n"
     ]
    },
    {
     "data": {
      "application/vnd.jupyter.widget-view+json": {
       "model_id": "",
       "version_major": 2,
       "version_minor": 0
      },
      "text/plain": [
       "테스트 파일 추론 중:   0%|          | 0/25 [00:00<?, ?it/s]"
      ]
     },
     "metadata": {},
     "output_type": "display_data"
    },
    {
     "name": "stdout",
     "output_type": "stream",
     "text": [
      "Epoch 1/30, Train Loss: 0.3947, Val Loss: 0.4371\n",
      "Epoch 2/30, Train Loss: 0.4034, Val Loss: 0.4362\n",
      "Epoch 3/30, Train Loss: 0.4019, Val Loss: 0.4354\n",
      "Epoch 4/30, Train Loss: 0.3978, Val Loss: 0.4346\n",
      "Epoch 5/30, Train Loss: 0.3873, Val Loss: 0.4337\n",
      "Epoch 6/30, Train Loss: 0.3908, Val Loss: 0.4329\n",
      "Epoch 7/30, Train Loss: 0.4017, Val Loss: 0.4321\n",
      "Epoch 8/30, Train Loss: 0.3956, Val Loss: 0.4312\n",
      "Epoch 9/30, Train Loss: 0.3912, Val Loss: 0.4304\n",
      "Epoch 10/30, Train Loss: 0.3895, Val Loss: 0.4296\n",
      "Epoch 11/30, Train Loss: 0.3936, Val Loss: 0.4288\n",
      "Epoch 12/30, Train Loss: 0.4038, Val Loss: 0.4279\n",
      "Epoch 13/30, Train Loss: 0.3854, Val Loss: 0.4271\n",
      "Epoch 14/30, Train Loss: 0.3924, Val Loss: 0.4263\n",
      "Epoch 15/30, Train Loss: 0.3869, Val Loss: 0.4254\n",
      "Epoch 16/30, Train Loss: 0.3951, Val Loss: 0.4246\n",
      "Epoch 17/30, Train Loss: 0.3940, Val Loss: 0.4238\n",
      "Epoch 18/30, Train Loss: 0.3928, Val Loss: 0.4230\n",
      "Epoch 19/30, Train Loss: 0.3861, Val Loss: 0.4221\n",
      "Epoch 20/30, Train Loss: 0.3947, Val Loss: 0.4213\n",
      "Epoch 21/30, Train Loss: 0.3790, Val Loss: 0.4205\n",
      "Epoch 22/30, Train Loss: 0.3787, Val Loss: 0.4197\n",
      "Epoch 23/30, Train Loss: 0.3818, Val Loss: 0.4189\n",
      "Epoch 24/30, Train Loss: 0.3872, Val Loss: 0.4181\n",
      "Epoch 25/30, Train Loss: 0.3766, Val Loss: 0.4173\n",
      "Epoch 26/30, Train Loss: 0.3726, Val Loss: 0.4165\n",
      "Epoch 27/30, Train Loss: 0.3776, Val Loss: 0.4156\n",
      "Epoch 28/30, Train Loss: 0.3812, Val Loss: 0.4148\n",
      "Epoch 29/30, Train Loss: 0.3766, Val Loss: 0.4140\n",
      "Epoch 30/30, Train Loss: 0.3777, Val Loss: 0.4132\n",
      "Best Validation Loss for 배: 0.4132\n"
     ]
    },
    {
     "data": {
      "application/vnd.jupyter.widget-view+json": {
       "model_id": "",
       "version_major": 2,
       "version_minor": 0
      },
      "text/plain": [
       "테스트 파일 추론 중:   0%|          | 0/25 [00:00<?, ?it/s]"
      ]
     },
     "metadata": {},
     "output_type": "display_data"
    },
    {
     "name": "stdout",
     "output_type": "stream",
     "text": [
      "Epoch 1/30, Train Loss: 0.0667, Val Loss: 0.0667\n",
      "Epoch 2/30, Train Loss: 0.0658, Val Loss: 0.0658\n",
      "Epoch 3/30, Train Loss: 0.0648, Val Loss: 0.0649\n",
      "Epoch 4/30, Train Loss: 0.0640, Val Loss: 0.0640\n",
      "Epoch 5/30, Train Loss: 0.0631, Val Loss: 0.0631\n",
      "Epoch 6/30, Train Loss: 0.0622, Val Loss: 0.0622\n",
      "Epoch 7/30, Train Loss: 0.0614, Val Loss: 0.0614\n",
      "Epoch 8/30, Train Loss: 0.0605, Val Loss: 0.0605\n",
      "Epoch 9/30, Train Loss: 0.0597, Val Loss: 0.0597\n",
      "Epoch 10/30, Train Loss: 0.0588, Val Loss: 0.0589\n",
      "Epoch 11/30, Train Loss: 0.0581, Val Loss: 0.0581\n",
      "Epoch 12/30, Train Loss: 0.0574, Val Loss: 0.0574\n",
      "Epoch 13/30, Train Loss: 0.0565, Val Loss: 0.0566\n",
      "Epoch 14/30, Train Loss: 0.0559, Val Loss: 0.0559\n",
      "Epoch 15/30, Train Loss: 0.0552, Val Loss: 0.0551\n",
      "Epoch 16/30, Train Loss: 0.0543, Val Loss: 0.0544\n",
      "Epoch 17/30, Train Loss: 0.0536, Val Loss: 0.0536\n",
      "Epoch 18/30, Train Loss: 0.0529, Val Loss: 0.0529\n",
      "Epoch 19/30, Train Loss: 0.0522, Val Loss: 0.0522\n",
      "Epoch 20/30, Train Loss: 0.0514, Val Loss: 0.0514\n",
      "Epoch 21/30, Train Loss: 0.0506, Val Loss: 0.0507\n",
      "Epoch 22/30, Train Loss: 0.0499, Val Loss: 0.0499\n",
      "Epoch 23/30, Train Loss: 0.0491, Val Loss: 0.0492\n",
      "Epoch 24/30, Train Loss: 0.0484, Val Loss: 0.0484\n",
      "Epoch 25/30, Train Loss: 0.0476, Val Loss: 0.0477\n",
      "Epoch 26/30, Train Loss: 0.0468, Val Loss: 0.0469\n",
      "Epoch 27/30, Train Loss: 0.0461, Val Loss: 0.0461\n",
      "Epoch 28/30, Train Loss: 0.0453, Val Loss: 0.0454\n",
      "Epoch 29/30, Train Loss: 0.0445, Val Loss: 0.0446\n",
      "Epoch 30/30, Train Loss: 0.0438, Val Loss: 0.0438\n",
      "Best Validation Loss for 깐마늘(국산): 0.0438\n"
     ]
    },
    {
     "data": {
      "application/vnd.jupyter.widget-view+json": {
       "model_id": "",
       "version_major": 2,
       "version_minor": 0
      },
      "text/plain": [
       "테스트 파일 추론 중:   0%|          | 0/25 [00:00<?, ?it/s]"
      ]
     },
     "metadata": {},
     "output_type": "display_data"
    },
    {
     "name": "stdout",
     "output_type": "stream",
     "text": [
      "Epoch 1/30, Train Loss: 0.0652, Val Loss: 0.0645\n",
      "Epoch 2/30, Train Loss: 0.0644, Val Loss: 0.0637\n",
      "Epoch 3/30, Train Loss: 0.0635, Val Loss: 0.0629\n",
      "Epoch 4/30, Train Loss: 0.0628, Val Loss: 0.0621\n",
      "Epoch 5/30, Train Loss: 0.0621, Val Loss: 0.0613\n",
      "Epoch 6/30, Train Loss: 0.0613, Val Loss: 0.0605\n",
      "Epoch 7/30, Train Loss: 0.0603, Val Loss: 0.0597\n",
      "Epoch 8/30, Train Loss: 0.0595, Val Loss: 0.0589\n",
      "Epoch 9/30, Train Loss: 0.0587, Val Loss: 0.0581\n",
      "Epoch 10/30, Train Loss: 0.0581, Val Loss: 0.0574\n",
      "Epoch 11/30, Train Loss: 0.0572, Val Loss: 0.0566\n",
      "Epoch 12/30, Train Loss: 0.0565, Val Loss: 0.0558\n",
      "Epoch 13/30, Train Loss: 0.0558, Val Loss: 0.0551\n",
      "Epoch 14/30, Train Loss: 0.0550, Val Loss: 0.0543\n",
      "Epoch 15/30, Train Loss: 0.0541, Val Loss: 0.0535\n",
      "Epoch 16/30, Train Loss: 0.0534, Val Loss: 0.0527\n",
      "Epoch 17/30, Train Loss: 0.0526, Val Loss: 0.0520\n",
      "Epoch 18/30, Train Loss: 0.0518, Val Loss: 0.0512\n",
      "Epoch 19/30, Train Loss: 0.0511, Val Loss: 0.0504\n",
      "Epoch 20/30, Train Loss: 0.0502, Val Loss: 0.0496\n",
      "Epoch 21/30, Train Loss: 0.0495, Val Loss: 0.0488\n",
      "Epoch 22/30, Train Loss: 0.0487, Val Loss: 0.0480\n",
      "Epoch 23/30, Train Loss: 0.0479, Val Loss: 0.0472\n",
      "Epoch 24/30, Train Loss: 0.0471, Val Loss: 0.0465\n",
      "Epoch 25/30, Train Loss: 0.0462, Val Loss: 0.0457\n",
      "Epoch 26/30, Train Loss: 0.0454, Val Loss: 0.0449\n",
      "Epoch 27/30, Train Loss: 0.0445, Val Loss: 0.0441\n",
      "Epoch 28/30, Train Loss: 0.0437, Val Loss: 0.0433\n",
      "Epoch 29/30, Train Loss: 0.0431, Val Loss: 0.0425\n",
      "Epoch 30/30, Train Loss: 0.0422, Val Loss: 0.0417\n",
      "Best Validation Loss for 무: 0.0417\n"
     ]
    },
    {
     "data": {
      "application/vnd.jupyter.widget-view+json": {
       "model_id": "",
       "version_major": 2,
       "version_minor": 0
      },
      "text/plain": [
       "테스트 파일 추론 중:   0%|          | 0/25 [00:00<?, ?it/s]"
      ]
     },
     "metadata": {},
     "output_type": "display_data"
    },
    {
     "name": "stdout",
     "output_type": "stream",
     "text": [
      "Epoch 1/30, Train Loss: 0.3195, Val Loss: 0.3481\n",
      "Epoch 2/30, Train Loss: 0.3324, Val Loss: 0.3474\n",
      "Epoch 3/30, Train Loss: 0.3246, Val Loss: 0.3467\n",
      "Epoch 4/30, Train Loss: 0.3057, Val Loss: 0.3460\n",
      "Epoch 5/30, Train Loss: 0.3131, Val Loss: 0.3453\n",
      "Epoch 6/30, Train Loss: 0.3135, Val Loss: 0.3446\n",
      "Epoch 7/30, Train Loss: 0.3128, Val Loss: 0.3438\n",
      "Epoch 8/30, Train Loss: 0.3204, Val Loss: 0.3431\n",
      "Epoch 9/30, Train Loss: 0.3169, Val Loss: 0.3424\n",
      "Epoch 10/30, Train Loss: 0.3050, Val Loss: 0.3417\n",
      "Epoch 11/30, Train Loss: 0.3117, Val Loss: 0.3410\n",
      "Epoch 12/30, Train Loss: 0.3099, Val Loss: 0.3403\n",
      "Epoch 13/30, Train Loss: 0.3023, Val Loss: 0.3396\n",
      "Epoch 14/30, Train Loss: 0.3160, Val Loss: 0.3389\n",
      "Epoch 15/30, Train Loss: 0.3155, Val Loss: 0.3382\n",
      "Epoch 16/30, Train Loss: 0.3034, Val Loss: 0.3375\n",
      "Epoch 17/30, Train Loss: 0.3098, Val Loss: 0.3367\n",
      "Epoch 18/30, Train Loss: 0.3043, Val Loss: 0.3360\n",
      "Epoch 19/30, Train Loss: 0.3094, Val Loss: 0.3353\n",
      "Epoch 20/30, Train Loss: 0.3084, Val Loss: 0.3346\n",
      "Epoch 21/30, Train Loss: 0.3056, Val Loss: 0.3339\n",
      "Epoch 22/30, Train Loss: 0.3020, Val Loss: 0.3331\n",
      "Epoch 23/30, Train Loss: 0.3017, Val Loss: 0.3324\n",
      "Epoch 24/30, Train Loss: 0.3127, Val Loss: 0.3317\n",
      "Epoch 25/30, Train Loss: 0.3005, Val Loss: 0.3309\n",
      "Epoch 26/30, Train Loss: 0.3105, Val Loss: 0.3302\n",
      "Epoch 27/30, Train Loss: 0.2899, Val Loss: 0.3295\n",
      "Epoch 28/30, Train Loss: 0.3041, Val Loss: 0.3288\n",
      "Epoch 29/30, Train Loss: 0.2939, Val Loss: 0.3280\n",
      "Epoch 30/30, Train Loss: 0.2987, Val Loss: 0.3273\n",
      "Best Validation Loss for 상추: 0.3273\n"
     ]
    },
    {
     "data": {
      "application/vnd.jupyter.widget-view+json": {
       "model_id": "",
       "version_major": 2,
       "version_minor": 0
      },
      "text/plain": [
       "테스트 파일 추론 중:   0%|          | 0/25 [00:00<?, ?it/s]"
      ]
     },
     "metadata": {},
     "output_type": "display_data"
    },
    {
     "name": "stdout",
     "output_type": "stream",
     "text": [
      "Epoch 1/30, Train Loss: 0.2931, Val Loss: 0.2756\n",
      "Epoch 2/30, Train Loss: 0.2998, Val Loss: 0.2747\n",
      "Epoch 3/30, Train Loss: 0.2964, Val Loss: 0.2738\n",
      "Epoch 4/30, Train Loss: 0.2896, Val Loss: 0.2728\n",
      "Epoch 5/30, Train Loss: 0.2863, Val Loss: 0.2719\n",
      "Epoch 6/30, Train Loss: 0.2912, Val Loss: 0.2710\n",
      "Epoch 7/30, Train Loss: 0.2921, Val Loss: 0.2700\n",
      "Epoch 8/30, Train Loss: 0.2902, Val Loss: 0.2691\n",
      "Epoch 9/30, Train Loss: 0.2865, Val Loss: 0.2682\n",
      "Epoch 10/30, Train Loss: 0.2859, Val Loss: 0.2673\n",
      "Epoch 11/30, Train Loss: 0.2771, Val Loss: 0.2664\n",
      "Epoch 12/30, Train Loss: 0.2879, Val Loss: 0.2655\n",
      "Epoch 13/30, Train Loss: 0.2834, Val Loss: 0.2646\n",
      "Epoch 14/30, Train Loss: 0.2841, Val Loss: 0.2637\n",
      "Epoch 15/30, Train Loss: 0.2900, Val Loss: 0.2628\n",
      "Epoch 16/30, Train Loss: 0.2837, Val Loss: 0.2619\n",
      "Epoch 17/30, Train Loss: 0.2859, Val Loss: 0.2610\n",
      "Epoch 18/30, Train Loss: 0.2820, Val Loss: 0.2601\n",
      "Epoch 19/30, Train Loss: 0.2721, Val Loss: 0.2592\n",
      "Epoch 20/30, Train Loss: 0.2752, Val Loss: 0.2583\n",
      "Epoch 21/30, Train Loss: 0.2775, Val Loss: 0.2574\n",
      "Epoch 22/30, Train Loss: 0.2801, Val Loss: 0.2565\n",
      "Epoch 23/30, Train Loss: 0.2797, Val Loss: 0.2555\n",
      "Epoch 24/30, Train Loss: 0.2688, Val Loss: 0.2546\n",
      "Epoch 25/30, Train Loss: 0.2746, Val Loss: 0.2537\n",
      "Epoch 26/30, Train Loss: 0.2712, Val Loss: 0.2528\n",
      "Epoch 27/30, Train Loss: 0.2691, Val Loss: 0.2519\n",
      "Epoch 28/30, Train Loss: 0.2738, Val Loss: 0.2509\n",
      "Epoch 29/30, Train Loss: 0.2709, Val Loss: 0.2500\n",
      "Epoch 30/30, Train Loss: 0.2634, Val Loss: 0.2490\n",
      "Best Validation Loss for 배추: 0.2490\n"
     ]
    },
    {
     "data": {
      "application/vnd.jupyter.widget-view+json": {
       "model_id": "",
       "version_major": 2,
       "version_minor": 0
      },
      "text/plain": [
       "테스트 파일 추론 중:   0%|          | 0/25 [00:00<?, ?it/s]"
      ]
     },
     "metadata": {},
     "output_type": "display_data"
    },
    {
     "name": "stdout",
     "output_type": "stream",
     "text": [
      "Epoch 1/30, Train Loss: 0.4891, Val Loss: 0.4865\n",
      "Epoch 2/30, Train Loss: 0.4831, Val Loss: 0.4854\n",
      "Epoch 3/30, Train Loss: 0.4873, Val Loss: 0.4843\n",
      "Epoch 4/30, Train Loss: 0.4799, Val Loss: 0.4832\n",
      "Epoch 5/30, Train Loss: 0.4822, Val Loss: 0.4821\n",
      "Epoch 6/30, Train Loss: 0.4843, Val Loss: 0.4809\n",
      "Epoch 7/30, Train Loss: 0.4788, Val Loss: 0.4798\n",
      "Epoch 8/30, Train Loss: 0.4774, Val Loss: 0.4787\n",
      "Epoch 9/30, Train Loss: 0.4822, Val Loss: 0.4776\n",
      "Epoch 10/30, Train Loss: 0.4815, Val Loss: 0.4765\n",
      "Epoch 11/30, Train Loss: 0.4735, Val Loss: 0.4754\n",
      "Epoch 12/30, Train Loss: 0.4657, Val Loss: 0.4743\n",
      "Epoch 13/30, Train Loss: 0.4660, Val Loss: 0.4732\n",
      "Epoch 14/30, Train Loss: 0.4725, Val Loss: 0.4721\n",
      "Epoch 15/30, Train Loss: 0.4636, Val Loss: 0.4710\n",
      "Epoch 16/30, Train Loss: 0.4671, Val Loss: 0.4699\n",
      "Epoch 17/30, Train Loss: 0.4663, Val Loss: 0.4688\n",
      "Epoch 18/30, Train Loss: 0.4640, Val Loss: 0.4677\n",
      "Epoch 19/30, Train Loss: 0.4615, Val Loss: 0.4666\n",
      "Epoch 20/30, Train Loss: 0.4606, Val Loss: 0.4655\n",
      "Epoch 21/30, Train Loss: 0.4634, Val Loss: 0.4644\n",
      "Epoch 22/30, Train Loss: 0.4608, Val Loss: 0.4634\n",
      "Epoch 23/30, Train Loss: 0.4574, Val Loss: 0.4623\n",
      "Epoch 24/30, Train Loss: 0.4547, Val Loss: 0.4612\n",
      "Epoch 25/30, Train Loss: 0.4457, Val Loss: 0.4600\n",
      "Epoch 26/30, Train Loss: 0.4537, Val Loss: 0.4589\n",
      "Epoch 27/30, Train Loss: 0.4509, Val Loss: 0.4578\n",
      "Epoch 28/30, Train Loss: 0.4564, Val Loss: 0.4567\n",
      "Epoch 29/30, Train Loss: 0.4476, Val Loss: 0.4556\n",
      "Epoch 30/30, Train Loss: 0.4546, Val Loss: 0.4544\n",
      "Best Validation Loss for 양파: 0.4544\n"
     ]
    },
    {
     "data": {
      "application/vnd.jupyter.widget-view+json": {
       "model_id": "",
       "version_major": 2,
       "version_minor": 0
      },
      "text/plain": [
       "테스트 파일 추론 중:   0%|          | 0/25 [00:00<?, ?it/s]"
      ]
     },
     "metadata": {},
     "output_type": "display_data"
    },
    {
     "name": "stdout",
     "output_type": "stream",
     "text": [
      "Epoch 1/30, Train Loss: 0.4655, Val Loss: 0.4118\n",
      "Epoch 2/30, Train Loss: 0.4634, Val Loss: 0.4107\n",
      "Epoch 3/30, Train Loss: 0.4660, Val Loss: 0.4097\n",
      "Epoch 4/30, Train Loss: 0.4591, Val Loss: 0.4086\n",
      "Epoch 5/30, Train Loss: 0.4586, Val Loss: 0.4075\n",
      "Epoch 6/30, Train Loss: 0.4606, Val Loss: 0.4064\n",
      "Epoch 7/30, Train Loss: 0.4554, Val Loss: 0.4054\n",
      "Epoch 8/30, Train Loss: 0.4464, Val Loss: 0.4043\n",
      "Epoch 9/30, Train Loss: 0.4492, Val Loss: 0.4032\n",
      "Epoch 10/30, Train Loss: 0.4536, Val Loss: 0.4021\n",
      "Epoch 11/30, Train Loss: 0.4508, Val Loss: 0.4010\n",
      "Epoch 12/30, Train Loss: 0.4444, Val Loss: 0.4000\n",
      "Epoch 13/30, Train Loss: 0.4453, Val Loss: 0.3989\n",
      "Epoch 14/30, Train Loss: 0.4439, Val Loss: 0.3978\n",
      "Epoch 15/30, Train Loss: 0.4432, Val Loss: 0.3967\n",
      "Epoch 16/30, Train Loss: 0.4484, Val Loss: 0.3956\n",
      "Epoch 17/30, Train Loss: 0.4390, Val Loss: 0.3945\n",
      "Epoch 18/30, Train Loss: 0.4434, Val Loss: 0.3934\n",
      "Epoch 19/30, Train Loss: 0.4414, Val Loss: 0.3924\n",
      "Epoch 20/30, Train Loss: 0.4410, Val Loss: 0.3913\n",
      "Epoch 21/30, Train Loss: 0.4400, Val Loss: 0.3902\n",
      "Epoch 22/30, Train Loss: 0.4366, Val Loss: 0.3891\n",
      "Epoch 23/30, Train Loss: 0.4399, Val Loss: 0.3880\n",
      "Epoch 24/30, Train Loss: 0.4419, Val Loss: 0.3869\n",
      "Epoch 25/30, Train Loss: 0.4358, Val Loss: 0.3858\n",
      "Epoch 26/30, Train Loss: 0.4345, Val Loss: 0.3847\n",
      "Epoch 27/30, Train Loss: 0.4352, Val Loss: 0.3836\n",
      "Epoch 28/30, Train Loss: 0.4312, Val Loss: 0.3825\n",
      "Epoch 29/30, Train Loss: 0.4319, Val Loss: 0.3814\n",
      "Epoch 30/30, Train Loss: 0.4208, Val Loss: 0.3803\n",
      "Best Validation Loss for 대파: 0.3803\n"
     ]
    },
    {
     "data": {
      "application/vnd.jupyter.widget-view+json": {
       "model_id": "",
       "version_major": 2,
       "version_minor": 0
      },
      "text/plain": [
       "테스트 파일 추론 중:   0%|          | 0/25 [00:00<?, ?it/s]"
      ]
     },
     "metadata": {},
     "output_type": "display_data"
    }
   ],
   "source": [
    "품목별_predictions = {}\n",
    "품목별_scalers = {}\n",
    "\n",
    "pbar_outer = tqdm(품목_리스트, desc=\"품목 처리 중\", position=0)\n",
    "for 품목명 in pbar_outer:\n",
    "    pbar_outer.set_description(f\"품목별 전처리 및 모델 학습 -> {품목명}\")\n",
    "    train_data, scaler = process_data(\"../data/raw_data/train/train.csv\", \n",
    "                              \"../data/raw_data/train/meta/TRAIN_산지공판장_2018-2021.csv\", \n",
    "                              \"../data/raw_data/train/meta/TRAIN_전국도매_2018-2021.csv\", \n",
    "                              품목명)\n",
    "    품목별_scalers[품목명] = scaler\n",
    "    dataset = AgriculturePriceDataset(train_data)\n",
    "\n",
    "    # 데이터를 train과 validation으로 분할\n",
    "    train_data, val_data = train_test_split(dataset, test_size=0.2, random_state=42)\n",
    "    \n",
    "    train_loader = DataLoader(train_data, CFG.batch_size, shuffle=True)\n",
    "    val_loader = DataLoader(val_data, CFG.batch_size, shuffle=False)\n",
    "\n",
    "    input_size = len(dataset.numeric_columns)\n",
    "    \n",
    "    model = PricePredictionLSTM(input_size, CFG.hidden_size, CFG.num_layers, CFG.output_size)\n",
    "    criterion = nn.L1Loss()\n",
    "    optimizer = torch.optim.Adam(model.parameters(), CFG.learning_rate)\n",
    "    \n",
    "    best_val_loss = float('inf')\n",
    "    os.makedirs('models', exist_ok=True)\n",
    "\n",
    "    for epoch in range(CFG.epoch):\n",
    "        train_loss = train_model(model, train_loader, criterion, optimizer, CFG.epoch)\n",
    "        val_loss = evaluate_model(model, val_loader, criterion)\n",
    "        \n",
    "        if val_loss < best_val_loss:\n",
    "            best_val_loss = val_loss\n",
    "            torch.save(model.state_dict(), f'models/best_model_{품목명}.pth')\n",
    "        \n",
    "        print(f'Epoch {epoch+1}/{CFG.epoch}, Train Loss: {train_loss:.4f}, Val Loss: {val_loss:.4f}')\n",
    "    \n",
    "    print(f'Best Validation Loss for {품목명}: {best_val_loss:.4f}')\n",
    "    \n",
    "    품목_predictions = []\n",
    "\n",
    "    ### 추론 \n",
    "    pbar_inner = tqdm(range(25), desc=\"테스트 파일 추론 중\", position=1, leave=False)\n",
    "    for i in pbar_inner:\n",
    "        test_file = f\"../data/raw_data/test/TEST_{i:02d}.csv\"\n",
    "        산지공판장_file = f\"../data/raw_data/test/meta/TEST_산지공판장_{i:02d}.csv\"\n",
    "        전국도매_file = f\"../data/raw_data/test/meta/TEST_전국도매_{i:02d}.csv\"\n",
    "        \n",
    "        test_data, _ = process_data(test_file, 산지공판장_file, 전국도매_file, 품목명, scaler=품목별_scalers[품목명])\n",
    "        test_dataset = AgriculturePriceDataset(test_data, is_test=True)\n",
    "        test_loader = DataLoader(test_dataset, batch_size=1, shuffle=False)\n",
    "\n",
    "        model.eval()\n",
    "        predictions = []\n",
    "        with torch.no_grad():\n",
    "            for batch in test_loader:\n",
    "                output = model(batch)\n",
    "                predictions.append(output.numpy())\n",
    "        \n",
    "        predictions_array = np.concatenate(predictions)\n",
    "\n",
    "        # 예측값을 원래 스케일로 복원\n",
    "        price_column_index = test_data.columns.get_loc(test_dataset.price_column)\n",
    "        predictions_reshaped = predictions_array.reshape(-1, 1)\n",
    "        \n",
    "        # 가격 열에 대해서만 inverse_transform 적용\n",
    "        price_scaler = MinMaxScaler()\n",
    "        price_scaler.min_ = 품목별_scalers[품목명].min_[price_column_index]\n",
    "        price_scaler.scale_ = 품목별_scalers[품목명].scale_[price_column_index]\n",
    "        predictions_original_scale = price_scaler.inverse_transform(predictions_reshaped)\n",
    "        #print(predictions_original_scale)\n",
    "        \n",
    "        if np.isnan(predictions_original_scale).any():\n",
    "            pbar_inner.set_postfix({\"상태\": \"NaN\"})\n",
    "        else:\n",
    "            pbar_inner.set_postfix({\"상태\": \"정상\"})\n",
    "            품목_predictions.extend(predictions_original_scale.flatten())\n",
    "\n",
    "            \n",
    "    품목별_predictions[품목명] = 품목_predictions\n",
    "    pbar_outer.update(1)\n"
   ]
  },
  {
   "cell_type": "markdown",
   "metadata": {},
   "source": [
    "# Prepare Submission File"
   ]
  },
  {
   "cell_type": "code",
   "execution_count": 10,
   "metadata": {},
   "outputs": [],
   "source": [
    "sample_submission = pd.read_csv('../data/raw_data/sample_submission.csv')\n",
    "\n",
    "for 품목명, predictions in 품목별_predictions.items():\n",
    "    sample_submission[품목명] = predictions"
   ]
  },
  {
   "cell_type": "code",
   "execution_count": 12,
   "metadata": {},
   "outputs": [],
   "source": [
    "# 결과 저장\n",
    "sample_submission.to_csv('../data/submission/baseline_submission.csv', index=False)"
   ]
  }
 ],
 "metadata": {
  "kernelspec": {
   "display_name": "Python 3 (ipykernel)",
   "language": "python",
   "name": "python3"
  },
  "language_info": {
   "codemirror_mode": {
    "name": "ipython",
    "version": 3
   },
   "file_extension": ".py",
   "mimetype": "text/x-python",
   "name": "python",
   "nbconvert_exporter": "python",
   "pygments_lexer": "ipython3",
   "version": "3.12.2"
  }
 },
 "nbformat": 4,
 "nbformat_minor": 4
}
